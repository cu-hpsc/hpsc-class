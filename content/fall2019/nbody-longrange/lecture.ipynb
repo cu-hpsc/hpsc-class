{
 "cells": [
  {
   "cell_type": "markdown",
   "metadata": {},
   "source": [
    "## Recall the equations of motion\n",
    "\n",
    "Consider particles with mass $m_i$, position $\\mathbf x_i(t) \\in \\mathbb R^3$, and momentum $\\mathbf p_i(t) \\in \\mathbb R^3$, indexed by $i \\in \\{ 1, \\dotsc, n \\}$.  Then their equation of motion is the ordinary differential equation\n",
    "\n",
    "\\begin{align}\n",
    "  \\dot{\\mathbf x_i} &= \\frac{\\mathbf p_i}{m_i} \\\\\n",
    "  \\dot{\\mathbf p_i} &= \\sum_{j\\ne i} \\mathbf f_{ij} \\\\\n",
    "\\end{align}\n",
    "\n",
    "where\n",
    "\n",
    "$$ \\mathbf f_{ij} = G m_i m_j \\frac{\\mathbf x_j - \\mathbf x_i}{\\lVert \\mathbf x_j - \\mathbf x_i \\rVert^3} $$\n",
    "\n",
    "is the force exerted on particle $i$ by particle $j$, and $G$ is the [gravitational constant](https://en.wikipedia.org/wiki/Gravitational_constant)."
   ]
  },
  {
   "cell_type": "markdown",
   "metadata": {},
   "source": [
    "## Potential equations\n",
    "\n",
    "Consider a scalar-valued field defined everywhere except at point charges,\n",
    "\n",
    "$$ \\phi(\\mathbf x) = - \\sum_{j=1}^n \\frac{G m_j}{\\lVert \\mathbf x - \\mathbf x_j \\rVert} . $$\n",
    "\n",
    "We call this the **gravitational potential** and define the vector\n",
    "\n",
    "$$ \\mathbf g(\\mathbf x) = -\\nabla \\phi(\\mathbf x) = \\sum_{j=1}^n G m_j \\frac{\\mathbf x_j - \\mathbf x}{\\lVert \\mathbf x - \\mathbf x_j \\rVert^3} $$\n",
    "\n",
    "which we call the **gravitational field**.\n",
    "\n",
    "This definition reminds us of $\\mathbf f_{ij}$ above, the force applied to a mass $m_i$ at location $\\mathbf x_i$ is\n",
    "\n",
    "$$ \\sum_{j \\ne i} \\mathbf f_{ij} = m_i \\mathbf g(\\mathbf x_i) $$\n",
    "\n",
    "where $\\mathbf g$ is defined from a sum not including $i$."
   ]
  },
  {
   "cell_type": "code",
   "execution_count": 10,
   "metadata": {},
   "outputs": [
    {
     "data": {
      "image/png": "[encoded data removed]",
      "text/plain": [
       "<Figure size 432x288 with 1 Axes>"
      ]
     },
     "metadata": {},
     "output_type": "display_data"
    }
   ],
   "source": [
    "%matplotlib inline\n",
    "import numpy as np\n",
    "import matplotlib.pyplot as plt\n",
    "plt.style.use('ggplot')\n",
    "\n",
    "def potential(m, x, xx):\n",
    "    \"\"\"Evaluate gravitational potential from point masses at locations x\"\"\"\n",
    "    phi = np.zeros(xx.shape[0])\n",
    "    for i in range(len(m)):\n",
    "        phi -= m[i] / np.linalg.norm(x[i] - xx, axis=1)\n",
    "    return phi\n",
    "\n",
    "m = np.random.rand(5)\n",
    "x = np.random.rand(5,1) * 2 - 1\n",
    "xx = np.linspace(-2, 2, 200)[:, None]\n",
    "phi = potential(m, x, xx)\n",
    "plt.plot(xx, phi);"
   ]
  },
  {
   "cell_type": "markdown",
   "metadata": {},
   "source": [
    "We need a way to\n",
    "* exclude self-attraction from the potential\n",
    "* avoid the need to represent the singularities in the potential\n",
    "* evaluate the potential fast\n",
    "\n",
    "We'll interpret the gravitational potential $\\phi(\\mathbf x)$ as an integral\n",
    "\n",
    "$$ \\phi(\\mathbf x) = -G \\int_{\\mathbf x' \\in \\mathbb R^3} \\frac{\\rho(\\mathbf x')}{\\lVert \\mathbf x - \\mathbf x' \\rVert} $$\n",
    "\n",
    "in terms of the density distribution\n",
    "\n",
    "\\begin{align}\n",
    "\\rho(\\mathbf x) &= \\sum_i m_i \\delta(\\mathbf x - \\mathbf x_i) \\\\\n",
    "&= \\underbrace{\\sum_i m_i \\delta(\\mathbf x - \\mathbf x_i) - \\rho^{sm}(\\mathbf x)}_{\\text{local}} + \\underbrace{\\rho^{sm}(\\mathbf x)}_{\\text{smooth}} \n",
    "\\end{align}\n",
    "\n",
    "where $\\delta(\\mathbf x)$ is the [Dirac delta function](https://en.wikipedia.org/wiki/Dirac_delta_function) and $\\rho^{sm}(\\mathbf x)$ is chosen such that\n",
    "\n",
    "$$ \\int_{\\mathbf x' \\in \\Omega} \\frac{\\rho^{sm}(\\mathbf x')}{\\lVert \\mathbf x - \\mathbf x' \\rVert} \\approx \\int_{\\mathbf x' \\in \\Omega} \\frac{\\rho(\\mathbf x')}{\\lVert \\mathbf x - \\mathbf x' \\rVert} $$\n",
    "\n",
    "whenever $\\mathbf x$ is \"far from\" $\\Omega \\subset \\mathbb R^3$.\n",
    "\n",
    "The resulting algorithm works by\n",
    "* compute smooth term via $\\phi^{sm}(\\mathbf x)$ from $\\rho^{sm}(\\mathbf x)$\n",
    "* direct $O(n^2)$ force evaluation for close-range interactions (subtracting off the close-range smooth part)\n",
    "\n",
    "## Computing the long-range part\n",
    "\n",
    "We need a fast way to evaluate\n",
    "\n",
    "$$ \\phi^{sm}(\\mathbf x) = -G \\int_{\\mathbf x' \\in \\mathbb R^3} \\frac{\\rho^{sm}(\\mathbf x')}{\\lVert \\mathbf x - \\mathbf x' \\rVert} $$\n",
    "\n",
    "which is the solution of a Poisson equation\n",
    "\n",
    "$$ -\\nabla\\cdot \\big( \\nabla \\phi^{sm} \\big) = G \\rho^{sm}(\\mathbf x) . $$\n",
    "\n",
    "### Fast evaluation\n",
    "\n",
    "| Method | Complexity | Representation |\n",
    "|--|--|--|\n",
    "| Multigrid | $O(n)$ | field |\n",
    "| Fast Fourier Transform | $O(n \\log n)$ | field |\n",
    "| Treecodes | $O(n \\log n)$ | particle--multipole |\n",
    "| Fast Multipole Method | $O(n)$ | particle--multipole, multipole-multipole, multipole--particle |\n",
    "\n",
    "* [Comparison of scalable fast methods for long-range interactions](https://link.aps.org/pdf/10.1103/PhysRevE.88.063308)\n",
    "* [An FMM Based on Dual Tree Traversal for Many-core Architectures](https://arxiv.org/abs/1209.3516) (compares different FMM representations)\n",
    "\n",
    "![](yokota-treecodes.png)"
   ]
  }
 ],
 "metadata": {
  "kernelspec": {
   "display_name": "Python 3",
   "language": "python",
   "name": "python3"
  },
  "language_info": {
   "codemirror_mode": {
    "name": "ipython",
    "version": 3
   },
   "file_extension": ".py",
   "mimetype": "text/x-python",
   "name": "python",
   "nbconvert_exporter": "python",
   "pygments_lexer": "ipython3",
   "version": "3.8.0"
  }
 },
 "nbformat": 4,
 "nbformat_minor": 4
}
