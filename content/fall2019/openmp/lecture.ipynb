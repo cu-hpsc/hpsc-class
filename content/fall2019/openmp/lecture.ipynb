{
 "cells": [
  {
   "cell_type": "code",
   "execution_count": 25,
   "metadata": {},
   "outputs": [],
   "source": [
    "def render_c(filename):\n",
    "    from IPython.display import Markdown\n",
    "    with open(filename) as f:\n",
    "        contents = f.read()\n",
    "    return Markdown(\"```c\\n\" + contents + \"```\\n\")"
   ]
  },
  {
   "cell_type": "markdown",
   "metadata": {},
   "source": [
    "## What is [OpenMP](https://en.wikipedia.org/wiki/OpenMP)?\n",
    "\n",
    "![By Wikipedia user A1 - w:en:File:Fork_join.svg, CC BY 3.0, https://commons.wikimedia.org/w/index.php?curid=32004077](https://upload.wikimedia.org/wikipedia/commons/f/f1/Fork_join.svg)\n",
    "\n",
    "A community-developed standard Application Programming Interface (with \"directives\") for\n",
    "* multithreaded programming\n",
    "* vectorization\n",
    "* offload to coprocessors (such as GPUs)\n",
    "\n",
    "OpenMP is available for C, C++, and Fortran.\n",
    "\n",
    "Latest version: OpenMP-5.0, released November 2018.  Implementations are still incomplete!\n",
    "\n",
    "### OpenMP Resources\n",
    "* [OpenMP-5.0 Reference Cards](https://www.openmp.org/resources/refguides/) (a few pages, printable)\n",
    "* [OpenMP-5.0 Standard](https://www.openmp.org/spec-html/5.0/openmp.html)\n",
    "* [OpenMP-4.5 Examples](http://www.openmp.org/wp-content/uploads/openmp-examples-4.5.0.pdf)\n",
    "* [LLNL Tutorial](https://computing.llnl.gov/tutorials/openMP/)\n",
    "* [Mattson: The OpenMP Common Core](https://press3.mcs.anl.gov//atpesc/files/2019/07/ATPESC_2019_Track-2_2_7-31_830am_Mattson-The-OpenMP_Common_Core.pdf) from [ATPESC](https://extremecomputingtraining.anl.gov/) ([video](https://www.youtube.com/watch?v=T0csnAirv-U&list=PLGj2a3KTwhRa6Ux64xg5L5ga6Jg8QykoQ&index=2))"
   ]
  },
  {
   "cell_type": "markdown",
   "metadata": {},
   "source": [
    "### `#pragma omp parallel`\n",
    "\n",
    "The standard is **big**, but most applications only use a few constructs."
   ]
  },
  {
   "cell_type": "code",
   "execution_count": 58,
   "metadata": {},
   "outputs": [
    {
     "data": {
      "text/markdown": [
       "```c\n",
       "#include <omp.h>\n",
       "#include <stdio.h>\n",
       "\n",
       "int main() {\n",
       "  #pragma omp parallel\n",
       "  {\n",
       "    int num_threads = omp_get_num_threads();\n",
       "    int my_thread_num = omp_get_thread_num();\n",
       "    printf(\"I am %d of %d\\n\", my_thread_num, num_threads);\n",
       "  }\n",
       "  return 0;\n",
       "}\n",
       "```\n"
      ],
      "text/plain": [
       "<IPython.core.display.Markdown object>"
      ]
     },
     "execution_count": 58,
     "metadata": {},
     "output_type": "execute_result"
    }
   ],
   "source": [
    "render_c('omp-hello.c')"
   ]
  },
  {
   "cell_type": "code",
   "execution_count": 86,
   "metadata": {},
   "outputs": [
    {
     "name": "stdout",
     "output_type": "stream",
     "text": [
      "cc -fopenmp -Wall    omp-hello.c   -o omp-hello\n"
     ]
    }
   ],
   "source": [
    "!make CFLAGS='-fopenmp -Wall' -B omp-hello"
   ]
  },
  {
   "cell_type": "code",
   "execution_count": 87,
   "metadata": {},
   "outputs": [
    {
     "name": "stdout",
     "output_type": "stream",
     "text": [
      "I am 1 of 4\n",
      "I am 2 of 4\n",
      "I am 0 of 4\n",
      "I am 3 of 4\n"
     ]
    }
   ],
   "source": [
    "!./omp-hello"
   ]
  },
  {
   "cell_type": "code",
   "execution_count": 82,
   "metadata": {},
   "outputs": [
    {
     "name": "stdout",
     "output_type": "stream",
     "text": [
      "I am 0 of 8\n",
      "I am 7 of 8\n",
      "I am 1 of 8\n",
      "I am 3 of 8\n",
      "I am 4 of 8\n",
      "I am 6 of 8\n",
      "I am 2 of 8\n",
      "I am 5 of 8\n"
     ]
    }
   ],
   "source": [
    "!OMP_NUM_THREADS=8 ./omp-hello"
   ]
  },
  {
   "cell_type": "markdown",
   "metadata": {},
   "source": [
    "### Parallelizing `triad`\n",
    "```c\n",
    "void triad(int N, double *a, const double *b, double scalar, const double *c) {\n",
    "#pragma omp parallel\n",
    "    {\n",
    "        for (int i=0; i<N; i++)\n",
    "            a[i] = b[i] + scalar * c[i];\n",
    "    }\n",
    "}\n",
    "```\n",
    "\n",
    "What does this code do?\n",
    "\n",
    "```c\n",
    "void triad(int N, double *a, const double *b, double scalar, const double *c) {\n",
    "#pragma omp parallel\n",
    "    {\n",
    "        int id = omp_get_thread_num();\n",
    "        int num_threads = omp_get_num_threads();\n",
    "        for (int i=id; i<N; i+=num_threads)\n",
    "            a[i] = b[i] + scalar * c[i];\n",
    "    }\n",
    "}\n",
    "```"
   ]
  },
  {
   "cell_type": "markdown",
   "metadata": {},
   "source": [
    "### Parallelizing `dot`\n",
    "\n",
    "```c\n",
    "static double dot_ref(size_t n, const double *a, const double *b) {\n",
    "  double sum = 0;\n",
    "  for (size_t i=0; i<n; i++)\n",
    "    sum += a[i] * b[i];\n",
    "  return sum;\n",
    "}\n",
    "```"
   ]
  },
  {
   "cell_type": "code",
   "execution_count": 88,
   "metadata": {},
   "outputs": [
    {
     "name": "stdout",
     "output_type": "stream",
     "text": [
      "cc -O3 -march=native -fopenmp    dot.c   -o dot\n"
     ]
    }
   ],
   "source": [
    "!make CFLAGS='-O3 -march=native -fopenmp' -B dot"
   ]
  },
  {
   "cell_type": "code",
   "execution_count": 89,
   "metadata": {},
   "outputs": [
    {
     "name": "stdout",
     "output_type": "stream",
     "text": [
      "  Name  \tflops\tticks\tflops/tick\n",
      " dot_ref\t20000\t40327\t    0.50\t\n",
      " dot_ref\t20000\t35717\t    0.56\t\n",
      " dot_ref\t20000\t36096\t    0.55\t\n",
      " dot_ref\t20000\t36487\t    0.55\t\n",
      " dot_ref\t20000\t37157\t    0.54\t\n",
      " dot_ref\t20000\t36024\t    0.56\t\n",
      " dot_ref\t20000\t35322\t    0.57\t\n",
      " dot_ref\t20000\t36601\t    0.55\t\n",
      " dot_ref\t20000\t72193\t    0.28\t\n",
      " dot_ref\t20000\t37924\t    0.53\t\n",
      "dot_opt1\t20000\t51256384\t    0.00\t\n",
      "dot_opt1\t20000\t23343145\t    0.00\t\n",
      "dot_opt1\t20000\t4646174\t    0.00\t\n",
      "dot_opt1\t20000\t16710\t    1.20\t\n",
      "dot_opt1\t20000\t15512\t    1.29\t\n",
      "dot_opt1\t20000\t16016\t    1.25\t\n",
      "dot_opt1\t20000\t16982\t    1.18\t\n",
      "dot_opt1\t20000\t452064\t    0.04\t\n",
      "dot_opt1\t20000\t16278\t    1.23\t\n",
      "dot_opt1\t20000\t16311\t    1.23\t\n",
      "dot_opt2\t20000\t24616\t    0.81\t\n",
      "dot_opt2\t20000\t16095\t    1.24\t\n",
      "dot_opt2\t20000\t17561\t    1.14\t\n",
      "dot_opt2\t20000\t16270\t    1.23\t\n",
      "dot_opt2\t20000\t18130\t    1.10\t\n",
      "dot_opt2\t20000\t16831\t    1.19\t\n",
      "dot_opt2\t20000\t16968\t    1.18\t\n",
      "dot_opt2\t20000\t16391\t    1.22\t\n",
      "dot_opt2\t20000\t17063\t    1.17\t\n",
      "dot_opt2\t20000\t16315\t    1.23\t\n",
      "dot_opt3\t20000\t77013\t    0.26\t\n",
      "dot_opt3\t20000\t12419\t    1.61\t\n",
      "dot_opt3\t20000\t12124\t    1.65\t\n",
      "dot_opt3\t20000\t12193\t    1.64\t\n",
      "dot_opt3\t20000\t12051\t    1.66\t\n",
      "dot_opt3\t20000\t12009\t    1.67\t\n",
      "dot_opt3\t20000\t11944\t    1.67\t\n",
      "dot_opt3\t20000\t12032\t    1.66\t\n",
      "dot_opt3\t20000\t12687\t    1.58\t\n",
      "dot_opt3\t20000\t12188\t    1.64\t\n"
     ]
    }
   ],
   "source": [
    "!OMP_NUM_THREADS=2 ./dot -r 10 -n 10000"
   ]
  },
  {
   "cell_type": "markdown",
   "metadata": {},
   "source": [
    "### Vectorization\n",
    "\n",
    "OpenMP-4.0 added the `omp simd` construct, which is a portable way to request that the compiler vectorize code.\n",
    "An example of a reason why a compiler might fail to vectorize code is aliasing, which we investigate below."
   ]
  },
  {
   "cell_type": "code",
   "execution_count": 26,
   "metadata": {},
   "outputs": [
    {
     "data": {
      "text/markdown": [
       "```c\n",
       "#include <stdlib.h>\n",
       "\n",
       "void triad(size_t N, double *a, const double *b, double scalar, const double *c) {\n",
       "  for (size_t i=0; i<N; i++)\n",
       "    a[i] = b[i] + scalar * c[i];\n",
       "}\n",
       "```\n"
      ],
      "text/plain": [
       "<IPython.core.display.Markdown object>"
      ]
     },
     "execution_count": 26,
     "metadata": {},
     "output_type": "execute_result"
    }
   ],
   "source": [
    "render_c('triad.c')"
   ]
  },
  {
   "cell_type": "code",
   "execution_count": 24,
   "metadata": {},
   "outputs": [
    {
     "name": "stdout",
     "output_type": "stream",
     "text": [
      "Unit growth for small function inlining: 15->15 (0%)\n",
      "\n",
      "Inlined 0 calls, eliminated 0 functions\n",
      "\n",
      "triad.c:4:3: optimized: loop vectorized using 16 byte vectors\n",
      "triad.c:4:3: optimized:  loop versioned for vectorization because of possible aliasing\n",
      "triad.c:3:6: note: vectorized 1 loops in function.\n",
      "triad.c:4:3: optimized: loop turned into non-loop; it never loops\n"
     ]
    }
   ],
   "source": [
    "!gcc -O2 -ftree-vectorize -fopt-info-all -c triad.c"
   ]
  },
  {
   "cell_type": "markdown",
   "metadata": {},
   "source": [
    "* gcc autovectorization starts at `-O3` or if you use `-ftree-vectorize`\n",
    "* options such as [-fopt-info](https://gcc.gnu.org/onlinedocs/gcc/Developer-Options.html#index-fopt-info) give useful diagnostics, but are compiler-dependent and sometimes referring to assembly is useful\n",
    "* `man gcc` with search (`/`) is your friend"
   ]
  },
  {
   "cell_type": "markdown",
   "metadata": {},
   "source": [
    "### What is aliasing?\n",
    "\n",
    "Is this valid code?  What xs `x` after this call?\n",
    "```c\n",
    "double x[5] = {1, 2, 3, 4, 5};\n",
    "triad(2, x+1, x, 10., x);\n",
    "```\n",
    "\n",
    "C allows memory to overlap arbitrarily.  You can inform the compiler of this using the [`restrict` qualifier](https://en.wikipedia.org/wiki/Restrict) (C99/C11; `__restrict` or `__restrict__` work with most C++ and [CUDA](https://devblogs.nvidia.com/cuda-pro-tip-optimize-pointer-aliasing/) compilers)."
   ]
  },
  {
   "cell_type": "code",
   "execution_count": 50,
   "metadata": {},
   "outputs": [
    {
     "data": {
      "text/markdown": [
       "```c\n",
       "void triad(int N, double *restrict a, const double *restrict b, double scalar, const double *restrict c) {\n",
       "  for (int i=0; i<N; i++)\n",
       "    a[i] = b[i] + scalar * c[i];\n",
       "}\n",
       "```\n"
      ],
      "text/plain": [
       "<IPython.core.display.Markdown object>"
      ]
     },
     "execution_count": 50,
     "metadata": {},
     "output_type": "execute_result"
    }
   ],
   "source": [
    "render_c('triad-restrict.c')"
   ]
  },
  {
   "cell_type": "code",
   "execution_count": 97,
   "metadata": {},
   "outputs": [
    {
     "name": "stdout",
     "output_type": "stream",
     "text": [
      "Unit growth for small function inlining: 15->15 (0%)\n",
      "\n",
      "Inlined 0 calls, eliminated 0 functions\n",
      "\n",
      "triad-restrict.c:2:5: optimized: loop vectorized using 32 byte vectors\n",
      "triad-restrict.c:1:6: note: vectorized 1 loops in function.\n"
     ]
    }
   ],
   "source": [
    "!gcc -O2 -march=native -ftree-vectorize -fopt-info-all -c triad-restrict.c"
   ]
  },
  {
   "cell_type": "markdown",
   "metadata": {},
   "source": [
    "Notice how there is no more `loop versioned for vectorization because of possible aliasing`.\n",
    "\n",
    "The complexity of checking for aliasing can grow combinatorially in the number of arrays being processed, leading to many loop variants and/or preventing vectorization."
   ]
  },
  {
   "cell_type": "markdown",
   "metadata": {},
   "source": [
    "#### Aside: Warnings\n",
    "The `-Wrestrict` flag (included in `-Wall`) can catch some programming errors\n",
    "```c\n",
    "void foo(double *x) {\n",
    "  triad(2, x, x, 10, x);\n",
    "}\n",
    "```"
   ]
  },
  {
   "cell_type": "code",
   "execution_count": 49,
   "metadata": {},
   "outputs": [],
   "source": [
    "!gcc -O2 -Wall -c triad-foo.c"
   ]
  },
  {
   "cell_type": "markdown",
   "metadata": {},
   "source": [
    "The powers of `-Wrestrict` are limited, however, and (as of gcc-9) do not even catch\n",
    "```c\n",
    "void foo(double *x) {\n",
    "  triad(2, x+1, x, 10, x);\n",
    "}\n",
    "```"
   ]
  },
  {
   "cell_type": "markdown",
   "metadata": {},
   "source": [
    "### Check the assembly"
   ]
  },
  {
   "cell_type": "code",
   "execution_count": 98,
   "metadata": {},
   "outputs": [
    {
     "name": "stdout",
     "output_type": "stream",
     "text": [
      "\n",
      "triad-restrict.o:     file format elf64-x86-64\n",
      "\n",
      "\n",
      "Disassembly of section .text:\n",
      "0000000000000000 <triad> test   edi,edi\n",
      "0000000000000002 <triad+0x2> jle    0000000000000067 <triad+0x67>\n",
      "0000000000000004 <triad+0x4> lea    eax,[rdi-0x1]\n",
      "0000000000000007 <triad+0x7> cmp    eax,0x2\n",
      "000000000000000a <triad+0xa> jbe    0000000000000074 <triad+0x74>\n",
      "000000000000000c <triad+0xc> mov    r8d,edi\n",
      "000000000000000f <triad+0xf> shr    r8d,0x2\n",
      "0000000000000013 <triad+0x13> vbroadcastsd ymm2,xmm0\n",
      "0000000000000018 <triad+0x18> shl    r8,0x5\n",
      "000000000000001c <triad+0x1c> xor    eax,eax\n",
      "000000000000001e <triad+0x1e> xchg   ax,ax\n",
      "0000000000000020 <triad+0x20> vmovupd ymm1,YMMWORD PTR [rcx+rax*1]\n",
      "0000000000000025 <triad+0x25> vfmadd213pd ymm1,ymm2,YMMWORD PTR [rdx+rax*1]\n",
      "000000000000002b <triad+0x2b> vmovupd YMMWORD PTR [rsi+rax*1],ymm1\n",
      "0000000000000030 <triad+0x30> add    rax,0x20\n",
      "0000000000000034 <triad+0x34> cmp    rax,r8\n",
      "0000000000000037 <triad+0x37> jne    0000000000000020 <triad+0x20>\n",
      "0000000000000039 <triad+0x39> mov    eax,edi\n",
      "000000000000003b <triad+0x3b> and    eax,0xfffffffc\n",
      "000000000000003e <triad+0x3e> test   dil,0x3\n",
      "0000000000000042 <triad+0x42> je     0000000000000070 <triad+0x70>\n",
      "0000000000000044 <triad+0x44> vzeroupper \n",
      "0000000000000047 <triad+0x47> cdqe   \n",
      "0000000000000049 <triad+0x49> nop    DWORD PTR [rax+0x0]\n",
      "0000000000000050 <triad+0x50> vmovsd xmm1,QWORD PTR [rcx+rax*8]\n",
      "0000000000000055 <triad+0x55> vfmadd213sd xmm1,xmm0,QWORD PTR [rdx+rax*8]\n",
      "000000000000005b <triad+0x5b> vmovsd QWORD PTR [rsi+rax*8],xmm1\n",
      "0000000000000060 <triad+0x60> inc    rax\n",
      "0000000000000063 <triad+0x63> cmp    edi,eax\n",
      "0000000000000065 <triad+0x65> jg     0000000000000050 <triad+0x50>\n",
      "0000000000000067 <triad+0x67> ret    \n",
      "0000000000000068 <triad+0x68> nop    DWORD PTR [rax+rax*1+0x0]\n",
      "0000000000000070 <triad+0x70> vzeroupper \n",
      "0000000000000073 <triad+0x73> ret    \n",
      "0000000000000074 <triad+0x74> xor    eax,eax\n",
      "0000000000000076 <triad+0x76> jmp    0000000000000047 <triad+0x47>\n"
     ]
    }
   ],
   "source": [
    "!objdump -d --prefix-addresses -M intel triad-restrict.o"
   ]
  },
  {
   "cell_type": "markdown",
   "metadata": {},
   "source": [
    "* How do the results change if you go up and replace `-march=native` with `-march=skylake-avx512 -mprefer-vector-width=512`?\n",
    "* Is the assembly qualitatively different without `restrict` (in which case the compiler \"versions\" the loop)."
   ]
  },
  {
   "cell_type": "markdown",
   "metadata": {},
   "source": [
    "### Pragma `omp simd`\n",
    "\n",
    "An alternative (or supplement) to `restrict` is `#pragma omp simd`."
   ]
  },
  {
   "cell_type": "code",
   "execution_count": 54,
   "metadata": {},
   "outputs": [
    {
     "data": {
      "text/markdown": [
       "```c\n",
       "void triad(int N, double *a, const double *b, double scalar, const double *c) {\n",
       "#pragma omp simd\n",
       "  for (int i=0; i<N; i++)\n",
       "    a[i] = b[i] + scalar * c[i];\n",
       "}\n",
       "```\n"
      ],
      "text/plain": [
       "<IPython.core.display.Markdown object>"
      ]
     },
     "execution_count": 54,
     "metadata": {},
     "output_type": "execute_result"
    }
   ],
   "source": [
    "render_c('triad-omp-simd.c')"
   ]
  },
  {
   "cell_type": "code",
   "execution_count": 90,
   "metadata": {},
   "outputs": [
    {
     "name": "stdout",
     "output_type": "stream",
     "text": [
      "Unit growth for small function inlining: 15->15 (0%)\n",
      "\n",
      "Inlined 0 calls, eliminated 0 functions\n",
      "\n",
      "triad-omp-simd.c:4:17: optimized: loop vectorized using 32 byte vectors\n",
      "triad-omp-simd.c:1:6: note: vectorized 1 loops in function.\n"
     ]
    }
   ],
   "source": [
    "!gcc -O2 -march=native -ftree-vectorize -fopenmp -fopt-info-all -c triad-omp-simd.c"
   ]
  }
 ],
 "metadata": {
  "kernelspec": {
   "display_name": "Python 3",
   "language": "python",
   "name": "python3"
  },
  "language_info": {
   "codemirror_mode": {
    "name": "ipython",
    "version": 3
   },
   "file_extension": ".py",
   "mimetype": "text/x-python",
   "name": "python",
   "nbconvert_exporter": "python",
   "pygments_lexer": "ipython3",
   "version": "3.7.4"
  }
 },
 "nbformat": 4,
 "nbformat_minor": 4
}
