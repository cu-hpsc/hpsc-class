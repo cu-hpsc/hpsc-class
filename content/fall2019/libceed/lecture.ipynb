{
 "cells": [
  {
   "cell_type": "markdown",
   "metadata": {},
   "source": [
    "# HPSC Lab 9\n",
    "2019-10-25"
   ]
  },
  {
   "cell_type": "markdown",
   "metadata": {},
   "source": [
    "We are going to run some PETSc examples and consider them as \"baseline\" for the libCEED examples that will follow."
   ]
  },
  {
   "cell_type": "code",
   "execution_count": 41,
   "metadata": {},
   "outputs": [
    {
     "name": "stdout",
     "output_type": "stream",
     "text": [
      "make: Entering directory '/home/jovyan/petsc-3.12.0'\n",
      "make: 'mpich-dbg/tests/ksp/ksp/examples/tutorials/ex34' is up to date.\n",
      "make: Leaving directory '/home/jovyan/petsc-3.12.0'\n",
      "make: Entering directory '/home/jovyan/petsc-3.12.0'\n",
      "make: 'mpich-dbg/tests/ksp/ksp/examples/tutorials/ex45' is up to date.\n",
      "make: Leaving directory '/home/jovyan/petsc-3.12.0'\n",
      "  0 KSP Residual norm 1.184352528131e-01 \n",
      "  1 KSP Residual norm 4.514009350561e-15 \n",
      "Residual norm 4.63793e-15\n",
      "Error norm 0.00130921\n",
      "Error norm 0.000338459\n",
      "Error norm 1.31699e-06\n"
     ]
    }
   ],
   "source": [
    "%%bash\n",
    "\n",
    "# You may need to change these for your machine\n",
    "PETSC_DIR=$HOME/petsc-3.12.0 PETSC_ARCH=mpich-dbg\n",
    "\n",
    "# Build the examples\n",
    "make -C $PETSC_DIR -f gmakefile $PETSC_ARCH/tests/ksp/ksp/examples/tutorials/ex34\n",
    "make -C $PETSC_DIR -f gmakefile $PETSC_ARCH/tests/ksp/ksp/examples/tutorials/ex45\n",
    "\n",
    "# Link them from the current directory to make it easy to run below\n",
    "cp -sf $PETSC_DIR/$PETSC_ARCH/tests/ksp/ksp/examples/tutorials/ex34 .\n",
    "cp -sf $PETSC_DIR/$PETSC_ARCH/tests/ksp/ksp/examples/tutorials/ex45 .\n",
    "\n",
    "./ex34 -pc_type none -da_grid_x 50 -da_grid_y 50 -da_grid_z 50 -ksp_monitor\n",
    "#run with -ksp_view if you want to see details about the solver [preconditioning]"
   ]
  },
  {
   "cell_type": "code",
   "execution_count": 42,
   "metadata": {},
   "outputs": [
    {
     "name": "stdout",
     "output_type": "stream",
     "text": [
      "  0 KSP Residual norm 1.251646233668e+02 \n",
      "  1 KSP Residual norm 1.480869591053e-03 \n",
      "  2 KSP Residual norm 5.120833590957e-09 \n",
      "Residual norm 1.91909e-08\n",
      "Error norm 0.00130992\n",
      "Error norm 0.000338481\n",
      "Error norm 1.31699e-06\n"
     ]
    }
   ],
   "source": [
    "# Another variant with blocked jacobi as smoother:\n",
    "\n",
    "! ./ex34 -da_grid_x 50 -da_grid_y 50 -da_grid_z 50 -pc_type ksp -ksp_ksp_type cg -ksp_pc_type bjacobi -ksp_monitor "
   ]
  },
  {
   "cell_type": "code",
   "execution_count": 43,
   "metadata": {},
   "outputs": [
    {
     "name": "stdout",
     "output_type": "stream",
     "text": [
      "  0 KSP Residual norm 1.00731 \n",
      "  1 KSP Residual norm 0.0510812 \n",
      "  2 KSP Residual norm 0.00248709 \n",
      "  3 KSP Residual norm 0.000165921 \n",
      "  4 KSP Residual norm 1.1586e-05 \n",
      "  5 KSP Residual norm 8.71845e-07 \n",
      "Residual norm 8.71845e-07\n",
      "Error norm 0.0208751\n",
      "Error norm 0.00618516\n",
      "Error norm 0.000197005\n"
     ]
    }
   ],
   "source": [
    "# Another variant full multigrid preconditioning\n",
    "\n",
    "! ./ex34 -pc_type mg -pc_mg_type full -ksp_type fgmres -ksp_monitor_short -pc_mg_levels 3 -mg_coarse_pc_factor_shift_type nonzero"
   ]
  },
  {
   "cell_type": "code",
   "execution_count": 44,
   "metadata": {},
   "outputs": [
    {
     "name": "stdout",
     "output_type": "stream",
     "text": [
      "  0 KSP Residual norm 1.470306455035e+01 \n",
      "  1 KSP Residual norm 2.526523006237e+00 \n",
      "  2 KSP Residual norm 1.199024543393e+00 \n",
      "  3 KSP Residual norm 8.017624157084e-01 \n",
      "  4 KSP Residual norm 5.850738300493e-01 \n",
      "  5 KSP Residual norm 4.643372450285e-01 \n",
      "  6 KSP Residual norm 3.794775861442e-01 \n",
      "  7 KSP Residual norm 3.182229782482e-01 \n",
      "  8 KSP Residual norm 2.707869730107e-01 \n",
      "  9 KSP Residual norm 2.342221169435e-01 \n",
      " 10 KSP Residual norm 2.044268946887e-01 \n",
      " 11 KSP Residual norm 1.799290014681e-01 \n",
      " 12 KSP Residual norm 1.597128452355e-01 \n",
      " 13 KSP Residual norm 1.424463131478e-01 \n",
      " 14 KSP Residual norm 1.286048456000e-01 \n",
      " 15 KSP Residual norm 1.180539437186e-01 \n",
      " 16 KSP Residual norm 1.097826197330e-01 \n",
      " 17 KSP Residual norm 1.006546027975e-01 \n",
      " 18 KSP Residual norm 8.528703754785e-02 \n",
      " 19 KSP Residual norm 6.502594142087e-02 \n",
      " 20 KSP Residual norm 5.023918850795e-02 \n",
      " 21 KSP Residual norm 4.014387264317e-02 \n",
      " 22 KSP Residual norm 2.976949998851e-02 \n",
      " 23 KSP Residual norm 2.038487027792e-02 \n",
      " 24 KSP Residual norm 1.483308034344e-02 \n",
      " 25 KSP Residual norm 1.094830085637e-02 \n",
      " 26 KSP Residual norm 7.449788171631e-03 \n",
      " 27 KSP Residual norm 5.269131329764e-03 \n",
      " 28 KSP Residual norm 3.594369080540e-03 \n",
      " 29 KSP Residual norm 2.262888004918e-03 \n",
      " 30 KSP Residual norm 1.493039224295e-03 \n",
      " 31 KSP Residual norm 1.107124599084e-03 \n",
      " 32 KSP Residual norm 7.286598548293e-04 \n",
      " 33 KSP Residual norm 4.716912759260e-04 \n",
      " 34 KSP Residual norm 3.214892159593e-04 \n",
      " 35 KSP Residual norm 2.214075669479e-04 \n",
      " 36 KSP Residual norm 1.645224575275e-04 \n",
      " 37 KSP Residual norm 1.190806015370e-04 \n",
      "Residual norm 0.000119081\n"
     ]
    }
   ],
   "source": [
    "# For ex45, compare the number of iterations without precoditioning:\n",
    "\n",
    "! ./ex45 -pc_type none -da_grid_x 21 -da_grid_y 21 -da_grid_z 21 -ksp_monitor"
   ]
  },
  {
   "cell_type": "code",
   "execution_count": 46,
   "metadata": {},
   "outputs": [
    {
     "name": "stdout",
     "output_type": "stream",
     "text": [
      "  0 KSP Residual norm 9.713869141172e+01 \n",
      "  1 KSP Residual norm 1.457128977402e+00 \n",
      "  2 KSP Residual norm 7.197915243881e-02 \n",
      "  3 KSP Residual norm 6.946697263348e-04 \n",
      "Residual norm 6.67463e-05\n"
     ]
    }
   ],
   "source": [
    "# With the ones with preconditioning:\n",
    "\n",
    "!./ex45 -da_grid_x 21 -da_grid_y 21 -da_grid_z 21 -pc_type mg -pc_mg_levels 3 -mg_levels_ksp_type richardson -mg_levels_ksp_max_it 1 -mg_levels_pc_type bjacobi -ksp_monitor"
   ]
  },
  {
   "cell_type": "markdown",
   "metadata": {},
   "source": [
    "## Introduction to libCEED\n",
    "\n",
    "libCEED is a low-level API library for the efficient\n",
    "high-order discretization methods developed by the ECP co-design [Center for\n",
    "Efficient Exascale Discretizations (CEED)](http://ceed.exascaleproject.org).\n",
    "\n",
    "While our focus is on high-order finite elements, the approach is mostly\n",
    "algebraic and thus applicable to other discretizations in factored form, as\n",
    "explained in the API documentation portion of the [Doxygen documentation](https://codedocs.xyz/CEED/libCEED/md_doc_libCEEDapi.html).\n",
    "\n",
    "Clone or download libCEED by running"
   ]
  },
  {
   "cell_type": "code",
   "execution_count": null,
   "metadata": {},
   "outputs": [],
   "source": [
    "! git clone https://github.com/CEED/libCEED.git"
   ]
  },
  {
   "cell_type": "code",
   "execution_count": 49,
   "metadata": {},
   "outputs": [
    {
     "name": "stdout",
     "output_type": "stream",
     "text": [
      "make: Entering directory '/home/jovyan/libCEED'\n",
      "make: 'lib' with optional backends: /cpu/self/ref/memcheck /cpu/self/avx/serial /cpu/self/avx/blocked\n",
      "          CC \u001b[38;5;177;1mbuild/interface\u001b[m/ceed-fortran.o\n",
      "          CC \u001b[38;5;177;1mbuild/interface\u001b[m/ceed-basis.o\n",
      "          CC \u001b[38;5;177;1mbuild/interface\u001b[m/ceed-elemrestriction.o\n",
      "          CC \u001b[38;5;177;1mbuild/interface\u001b[m/ceed-operator.o\n",
      "          CC \u001b[38;5;177;1mbuild/interface\u001b[m/ceed-vec.o\n",
      "          CC \u001b[38;5;177;1mbuild/interface\u001b[m/ceed.o\n",
      "          CC \u001b[38;5;177;1mbuild/interface\u001b[m/ceed-tensor.o\n",
      "          CC \u001b[38;5;177;1mbuild/interface\u001b[m/ceed-qfunction.o\n",
      "          CC \u001b[38;5;85;1mbuild/gallery/identity\u001b[m/ceed-identity.o\n",
      "          CC \u001b[38;5;93;1mbuild/gallery/poisson3d\u001b[m/ceed-poisson3dapply.o\n",
      "          CC \u001b[38;5;93;1mbuild/gallery/poisson3d\u001b[m/ceed-poisson3dbuild.o\n",
      "          CC \u001b[38;5;155;1mbuild/gallery/mass1d\u001b[m/ceed-massapply.o\n",
      "          CC \u001b[38;5;155;1mbuild/gallery/mass1d\u001b[m/ceed-mass1dbuild.o\n",
      "          CC \u001b[38;5;41;1mbuild/gallery/mass2d\u001b[m/ceed-mass2dbuild.o\n",
      "          CC \u001b[38;5;47;1mbuild/gallery/poisson1d\u001b[m/ceed-poisson1dapply.o\n",
      "          CC \u001b[38;5;47;1mbuild/gallery/poisson1d\u001b[m/ceed-poisson1dbuild.o\n",
      "          CC \u001b[38;5;67;1mbuild/gallery/mass3d\u001b[m/ceed-mass3dbuild.o\n",
      "          CC \u001b[38;5;211;1mbuild/gallery/poisson2d\u001b[m/ceed-poisson2dapply.o\n",
      "          CC \u001b[38;5;211;1mbuild/gallery/poisson2d\u001b[m/ceed-poisson2dbuild.o\n",
      "          CC \u001b[38;5;39;1mbuild/backends/ref\u001b[m/ceed-ref-basis.o\n",
      "          CC \u001b[38;5;39;1mbuild/backends/ref\u001b[m/ceed-ref-operator.o\n",
      "          CC \u001b[38;5;39;1mbuild/backends/ref\u001b[m/ceed-ref-qfunction.o\n",
      "          CC \u001b[38;5;39;1mbuild/backends/ref\u001b[m/ceed-ref-restriction.o\n",
      "          CC \u001b[38;5;39;1mbuild/backends/ref\u001b[m/ceed-ref-tensor.o\n",
      "          CC \u001b[38;5;39;1mbuild/backends/ref\u001b[m/ceed-ref-vec.o\n",
      "          CC \u001b[38;5;39;1mbuild/backends/ref\u001b[m/ceed-ref.o\n",
      "          CC \u001b[38;5;63;1mbuild/backends/blocked\u001b[m/ceed-blocked-operator.o\n",
      "          CC \u001b[38;5;63;1mbuild/backends/blocked\u001b[m/ceed-blocked.o\n",
      "          CC \u001b[38;5;93;1mbuild/backends/opt\u001b[m/ceed-opt-blocked.o\n",
      "          CC \u001b[38;5;93;1mbuild/backends/opt\u001b[m/ceed-opt-operator.o\n",
      "          CC \u001b[38;5;93;1mbuild/backends/opt\u001b[m/ceed-opt-serial.o\n",
      "          CC \u001b[38;5;55;1mbuild/backends/memcheck\u001b[m/ceed-memcheck-qfunction.o\n",
      "          CC \u001b[38;5;55;1mbuild/backends/memcheck\u001b[m/ceed-memcheck.o\n",
      "          CC \u001b[38;5;89;1mbuild/backends/avx\u001b[m/ceed-avx-blocked.o\n",
      "          CC \u001b[38;5;89;1mbuild/backends/avx\u001b[m/ceed-avx-serial.o\n",
      "          CC \u001b[38;5;89;1mbuild/backends/avx\u001b[m/ceed-avx-tensor.o\n",
      "        LINK \u001b[38;5;97;1mlib\u001b[m/libceed.so\n",
      "make: Leaving directory '/home/jovyan/libCEED'\n"
     ]
    }
   ],
   "source": [
    "# then compile it by running\n",
    "\n",
    "! make -C libCEED -B\n",
    "\n"
   ]
  },
  {
   "cell_type": "markdown",
   "metadata": {},
   "source": [
    "We are going to look at some libCEED's examples that use some PETSc's capabilities \n",
    "(e.g., process partitioning and geometry handling).\n",
    "\n",
    "Check out my branch for the demo where I made a couple of changes to print more info for the tutorial."
   ]
  },
  {
   "cell_type": "code",
   "execution_count": null,
   "metadata": {},
   "outputs": [],
   "source": [
    "%%bash\n",
    "cd libCEED\n",
    "\n",
    "# checkout my branch for the demo\n",
    "git checkout valeria/CUHPSC-demo\n",
    "\n",
    "cd ~/\n",
    "\n",
    "# And compile the examples by running\n",
    "make -C libCEED/examples/petsc PETSC_DIR=$HOME/petsc-3.12.0 PETSC_ARCH=mpich-dbg -B\n",
    "\n",
    "# Link them from the current directory to make it easy to run below\n",
    "cp -sf libCEED/examples/petsc/bpsraw .\n",
    "cp -sf libCEED/examples/petsc/multigrid ."
   ]
  },
  {
   "cell_type": "markdown",
   "metadata": {},
   "source": [
    "-----\n",
    "To run the example solving the Poisson's equation on a structured grid, use"
   ]
  },
  {
   "cell_type": "code",
   "execution_count": 62,
   "metadata": {},
   "outputs": [
    {
     "name": "stdout",
     "output_type": "stream",
     "text": [
      "\n",
      "-- CEED Benchmark Problem 3 -- libCEED + PETSc --\n",
      "  libCEED:\n",
      "    libCEED Backend                    : /cpu/self/ref/serial\n",
      "  Mesh:\n",
      "    Number of 1D Basis Nodes (p)       : 2\n",
      "    Number of 1D Quadrature Points (q) : 3\n",
      "    Global nodes                       : 11466\n",
      "    Process Decomposition              : 1 1 1\n",
      "    Local Elements                     : 10000 = 20 20 25\n",
      "    Owned nodes                        : 11466 = 21 21 26\n",
      "  KSP:\n",
      "    KSP Type                           : cg\n",
      "    KSP Convergence                    : CONVERGED_RTOL\n",
      "    Total KSP Iterations               : 2\n",
      "    Final rnorm                        : 9.710169e-15\n",
      "  Performance:\n",
      "    CG Solve Time                      : 0.144075  sec\n",
      "    DoFs/Sec in CG                     : 0.159167  million\n",
      "    Pointwise Error (max)              : 2.079708e-02\n"
     ]
    }
   ],
   "source": [
    "! ./bpsraw -ceed /cpu/self/ref/serial -problem bp3 -degree 1 -local 10000"
   ]
  },
  {
   "cell_type": "markdown",
   "metadata": {},
   "source": [
    "See what happens when you run this in parallel, let's say with 2 processes"
   ]
  },
  {
   "cell_type": "code",
   "execution_count": 63,
   "metadata": {},
   "outputs": [
    {
     "name": "stdout",
     "output_type": "stream",
     "text": [
      "\n",
      "-- CEED Benchmark Problem 3 -- libCEED + PETSc --\n",
      "  libCEED:\n",
      "    libCEED Backend                    : /cpu/self/ref/serial\n",
      "  Mesh:\n",
      "    Number of 1D Basis Nodes (p)       : 2\n",
      "    Number of 1D Quadrature Points (q) : 3\n",
      "    Global nodes                       : 22386\n",
      "    Process Decomposition              : 2 1 1\n",
      "    Local Elements                     : 10000 = 20 20 25\n",
      "    Owned nodes                        : 10920 = 20 21 26\n",
      "  KSP:\n",
      "    KSP Type                           : cg\n",
      "    KSP Convergence                    : CONVERGED_RTOL\n",
      "    Total KSP Iterations               : 2\n",
      "    Final rnorm                        : 1.327753e-14\n",
      "  Performance:\n",
      "    CG Solve Time                      : 0.229866  sec\n",
      "    DoFs/Sec in CG                     : 0.194774  million\n",
      "    Pointwise Error (max)              : 1.999130e-02\n"
     ]
    }
   ],
   "source": [
    "! mpiexec -n 2 ./bpsraw -ceed /cpu/self/ref/serial -problem bp3 -degree 1 -local 10000"
   ]
  },
  {
   "cell_type": "markdown",
   "metadata": {},
   "source": [
    "Instead, you can keep the total amount of work roughly constant, when you request more processes, \n",
    "but divide the local size of the problem so that each process works roughly the same. For instance, compare "
   ]
  },
  {
   "cell_type": "code",
   "execution_count": 64,
   "metadata": {},
   "outputs": [
    {
     "name": "stdout",
     "output_type": "stream",
     "text": [
      "\n",
      "-- CEED Benchmark Problem 3 -- libCEED + PETSc --\n",
      "  libCEED:\n",
      "    libCEED Backend                    : /cpu/self/ref/serial\n",
      "  Mesh:\n",
      "    Number of 1D Basis Nodes (p)       : 2\n",
      "    Number of 1D Quadrature Points (q) : 3\n",
      "    Global nodes                       : 11466\n",
      "    Process Decomposition              : 1 1 1\n",
      "    Local Elements                     : 10000 = 20 20 25\n",
      "    Owned nodes                        : 11466 = 21 21 26\n",
      "  KSP:\n",
      "    KSP Type                           : cg\n",
      "    KSP Convergence                    : CONVERGED_RTOL\n",
      "    Total KSP Iterations               : 2\n",
      "    Final rnorm                        : 9.710169e-15\n",
      "  Performance:\n",
      "    CG Solve Time                      : 0.148991  sec\n",
      "    DoFs/Sec in CG                     : 0.153915  million\n",
      "    Pointwise Error (max)              : 2.079708e-02\n"
     ]
    }
   ],
   "source": [
    "! ./bpsraw -ceed /cpu/self/ref/serial -problem bp3 -degree 1 -local 10000"
   ]
  },
  {
   "cell_type": "markdown",
   "metadata": {},
   "source": [
    "with "
   ]
  },
  {
   "cell_type": "code",
   "execution_count": 65,
   "metadata": {},
   "outputs": [
    {
     "name": "stdout",
     "output_type": "stream",
     "text": [
      "\n",
      "-- CEED Benchmark Problem 3 -- libCEED + PETSc --\n",
      "  libCEED:\n",
      "    libCEED Backend                    : /cpu/self/ref/serial\n",
      "  Mesh:\n",
      "    Number of 1D Basis Nodes (p)       : 2\n",
      "    Number of 1D Quadrature Points (q) : 3\n",
      "    Global nodes                       : 11500\n",
      "    Process Decomposition              : 2 2 1\n",
      "    Local Elements                     : 2508 = 11 12 19\n",
      "    Owned nodes                        : 2640 = 11 12 20\n",
      "  KSP:\n",
      "    KSP Type                           : cg\n",
      "    KSP Convergence                    : CONVERGED_RTOL\n",
      "    Total KSP Iterations               : 2\n",
      "    Final rnorm                        : 9.925692e-15\n",
      "  Performance:\n",
      "    CG Solve Time                      : 0.041265  sec\n",
      "    DoFs/Sec in CG                     : 0.557373  million\n",
      "    Pointwise Error (max)              : 2.854310e-02\n"
     ]
    }
   ],
   "source": [
    "! mpiexec -n 4 ./bpsraw -ceed /cpu/self/ref/serial -problem bp3 -degree 1 -local 2500"
   ]
  },
  {
   "cell_type": "markdown",
   "metadata": {},
   "source": [
    "-----\n",
    "\n",
    "### The multigrid example\n",
    "This example solves the same problem, but by using a preconditioning strategy. We use Chebchev as the smoother (solver) \n",
    "with Jacobi as the preconditioner for the smoother.\n",
    "\n",
    "Run"
   ]
  },
  {
   "cell_type": "code",
   "execution_count": 66,
   "metadata": {},
   "outputs": [
    {
     "name": "stdout",
     "output_type": "stream",
     "text": [
      "\n",
      "-- CEED Benchmark Problem 3 -- libCEED + PETSc + PCMG --\n",
      "  libCEED:\n",
      "    libCEED Backend                    : /cpu/self/ref/serial\n",
      "  Mesh:\n",
      "    Number of 1D Basis Nodes (p)       : 3\n",
      "    Number of 1D Quadrature Points (q) : 4\n",
      "    Global Nodes                       : 49975\n",
      "    Owned Nodes                        : 49975\n",
      "  Multigrid:\n",
      "    Number of Levels                   : 2\n",
      "    Level 0 (coarse):\n",
      "      Number of 1D Basis Nodes (p)     : 2\n",
      "      Global Nodes                     : 3996\n",
      "      Owned Nodes                      : 3996\n",
      "    Level 1 (fine):\n",
      "      Number of 1D Basis Nodes (p)     : 3\n",
      "      Global Nodes                     : 49975\n",
      "      Owned Nodes                      : 49975\n",
      "  KSP:\n",
      "    KSP Type                           : cg\n",
      "    KSP Convergence                    : CONVERGED_RTOL\n",
      "    Total KSP Iterations               : 26\n",
      "    Final rnorm                        : 3.394703e-12\n",
      "  PCMG:\n",
      "    PCMG Type                          : MULTIPLICATIVE\n",
      "    PCMG Cycle Type                    : v\n",
      "  Performance:\n",
      "    Pointwise Error (max)              : 4.270543e-02\n",
      "    CG Solve Time                      : 19.3821 sec\n",
      "    DoFs/Sec in CG                     : 0.0670388 million\n"
     ]
    }
   ],
   "source": [
    "! ./multigrid -ceed /cpu/self/ref/serial -problem bp3  -cells 1000"
   ]
  },
  {
   "cell_type": "markdown",
   "metadata": {},
   "source": [
    "and "
   ]
  },
  {
   "cell_type": "code",
   "execution_count": 67,
   "metadata": {},
   "outputs": [
    {
     "name": "stdout",
     "output_type": "stream",
     "text": [
      "\n",
      "-- CEED Benchmark Problem 3 -- libCEED + PETSc + PCMG --\n",
      "  libCEED:\n",
      "    libCEED Backend                    : /cpu/self/ref/serial\n",
      "  Mesh:\n",
      "    Number of 1D Basis Nodes (p)       : 3\n",
      "    Number of 1D Quadrature Points (q) : 4\n",
      "    Global Nodes                       : 49975\n",
      "    Owned Nodes                        : 6995\n",
      "  Multigrid:\n",
      "    Number of Levels                   : 2\n",
      "    Level 0 (coarse):\n",
      "      Number of 1D Basis Nodes (p)     : 2\n",
      "      Global Nodes                     : 3996\n",
      "      Owned Nodes                      : 0\n",
      "    Level 1 (fine):\n",
      "      Number of 1D Basis Nodes (p)     : 3\n",
      "      Global Nodes                     : 49975\n",
      "      Owned Nodes                      : 6995\n",
      "  KSP:\n",
      "    KSP Type                           : cg\n",
      "    KSP Convergence                    : CONVERGED_RTOL\n",
      "    Total KSP Iterations               : 26\n",
      "    Final rnorm                        : 3.387644e-12\n",
      "  PCMG:\n",
      "    PCMG Type                          : MULTIPLICATIVE\n",
      "    PCMG Cycle Type                    : v\n",
      "  Performance:\n",
      "    Pointwise Error (max)              : 4.270543e-02\n",
      "    CG Solve Time                      : 33.2205 sec\n",
      "    DoFs/Sec in CG                     : 0.0391129 million\n"
     ]
    }
   ],
   "source": [
    "! mpiexec -n 4 ./multigrid -ceed /cpu/self/ref/serial -problem bp3  -cells 1000"
   ]
  },
  {
   "cell_type": "markdown",
   "metadata": {},
   "source": [
    "What do you see? \n",
    "\n",
    "Now let's raise the degree (accuracy of solution). \n",
    "This will also increase the number of neighboring points we need information from, i.e., the number of nodes.\n",
    "\n",
    "Compare"
   ]
  },
  {
   "cell_type": "code",
   "execution_count": 68,
   "metadata": {},
   "outputs": [
    {
     "name": "stdout",
     "output_type": "stream",
     "text": [
      "\n",
      "-- CEED Benchmark Problem 3 -- libCEED + PETSc + PCMG --\n",
      "  libCEED:\n",
      "    libCEED Backend                    : /cpu/self/ref/serial\n",
      "  Mesh:\n",
      "    Number of 1D Basis Nodes (p)       : 9\n",
      "    Number of 1D Quadrature Points (q) : 10\n",
      "    Global Nodes                       : 12167\n",
      "    Owned Nodes                        : 12167\n",
      "  Multigrid:\n",
      "    Number of Levels                   : 8\n",
      "    Level 0 (coarse):\n",
      "      Number of 1D Basis Nodes (p)     : 2\n",
      "      Global Nodes                     : 8\n",
      "      Owned Nodes                      : 8\n",
      "    Level 7 (fine):\n",
      "      Number of 1D Basis Nodes (p)     : 9\n",
      "      Global Nodes                     : 12167\n",
      "      Owned Nodes                      : 12167\n",
      "  KSP:\n",
      "    KSP Type                           : cg\n",
      "    KSP Convergence                    : CONVERGED_RTOL\n",
      "    Total KSP Iterations               : 6\n",
      "    Final rnorm                        : 3.132892e-11\n",
      "  PCMG:\n",
      "    PCMG Type                          : MULTIPLICATIVE\n",
      "    PCMG Cycle Type                    : v\n",
      "  Performance:\n",
      "    Pointwise Error (max)              : 4.525195e-08\n",
      "    CG Solve Time                      : 1.60019 sec\n",
      "    DoFs/Sec in CG                     : 0.0456207 million\n"
     ]
    }
   ],
   "source": [
    "! ./multigrid -ceed /cpu/self/ref/serial -problem bp3 -degree 8 "
   ]
  },
  {
   "cell_type": "markdown",
   "metadata": {},
   "source": [
    "With"
   ]
  },
  {
   "cell_type": "code",
   "execution_count": 69,
   "metadata": {},
   "outputs": [
    {
     "name": "stdout",
     "output_type": "stream",
     "text": [
      "\n",
      "-- CEED Benchmark Problem 3 -- libCEED + PETSc + PCMG --\n",
      "  libCEED:\n",
      "    libCEED Backend                    : /cpu/self/ref/serial\n",
      "  Mesh:\n",
      "    Number of 1D Basis Nodes (p)       : 9\n",
      "    Number of 1D Quadrature Points (q) : 10\n",
      "    Global Nodes                       : 12167\n",
      "    Owned Nodes                        : 12167\n",
      "  Multigrid:\n",
      "    Number of Levels                   : 4\n",
      "    Level 0 (coarse):\n",
      "      Number of 1D Basis Nodes (p)     : 2\n",
      "      Global Nodes                     : 8\n",
      "      Owned Nodes                      : 8\n",
      "    Level 3 (fine):\n",
      "      Number of 1D Basis Nodes (p)     : 9\n",
      "      Global Nodes                     : 12167\n",
      "      Owned Nodes                      : 12167\n",
      "  KSP:\n",
      "    KSP Type                           : cg\n",
      "    KSP Convergence                    : CONVERGED_RTOL\n",
      "    Total KSP Iterations               : 7\n",
      "    Final rnorm                        : 1.970523e-11\n",
      "  PCMG:\n",
      "    PCMG Type                          : MULTIPLICATIVE\n",
      "    PCMG Cycle Type                    : v\n",
      "  Performance:\n",
      "    Pointwise Error (max)              : 4.525156e-08\n",
      "    CG Solve Time                      : 0.912013 sec\n",
      "    DoFs/Sec in CG                     : 0.0933857 million\n"
     ]
    }
   ],
   "source": [
    "! ./multigrid -ceed /cpu/self/ref/serial -problem bp3 -degree 8 -coarsen logarithmic"
   ]
  },
  {
   "cell_type": "markdown",
   "metadata": {},
   "source": [
    "Without specifying a coarsening strategy, it defaults to `-coarsen uniform`. \n",
    "This way, the domain is partitioned from finest grid to coarsest grid in a linear fashion, i.e.,\n",
    "for `-degree 8`, we run all intermediate levels given by\n",
    "\n",
    "8->7->6->5->...->2->1\n",
    "\n",
    "Instead, when we use `-coarsen logarithmic` we have fewer subdivisions, using only powers of 2 as intermediate levels\n",
    "\n",
    "8->4->2->1\n",
    "\n",
    "-----\n",
    "\n",
    "Collect your experiments data and try to plot the accuracy gained \n",
    "(given by the error, when the actual solution is available, otherwise by the digits of precision gained) vs time to solve"
   ]
  },
  {
   "cell_type": "code",
   "execution_count": null,
   "metadata": {},
   "outputs": [],
   "source": []
  }
 ],
 "metadata": {
  "kernelspec": {
   "display_name": "Python 3",
   "language": "python",
   "name": "python3"
  },
  "language_info": {
   "codemirror_mode": {
    "name": "ipython",
    "version": 3
   },
   "file_extension": ".py",
   "mimetype": "text/x-python",
   "name": "python",
   "nbconvert_exporter": "python",
   "pygments_lexer": "ipython3",
   "version": "3.7.3"
  }
 },
 "nbformat": 4,
 "nbformat_minor": 4
}
