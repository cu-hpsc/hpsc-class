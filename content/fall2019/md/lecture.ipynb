{
 "cells": [
  {
   "cell_type": "markdown",
   "metadata": {},
   "source": [
    "## News from this week at Supercomputing\n",
    "\n",
    "### A64FX\n",
    "\n",
    "The most energy-efficient HPL machine today is pure CPU.  It is also among the *least* \"made for HPL\" architectures on the list.\n",
    "\n",
    "https://www.top500.org/green500/list/2019/11/\n",
    "\n",
    "### DAOS filesystem performance\n",
    "\n",
    "<blockquote class=\"twitter-tweet\"><p lang=\"en\" dir=\"ltr\">DAOS declares #1 in IO-500 on the basis of performance-per-node (Weka on AWS was absolute performance). They maxed out I/O read bandwidth of the NVDIMMs in their cluster; iops were client limited. Pretty crazy efficiency. <a href=\"https://twitter.com/hashtag/SC19?src=hash&amp;ref_src=twsrc%5Etfw\">#SC19</a> <a href=\"https://t.co/u1cauolk1y\">pic.twitter.com/u1cauolk1y</a></p>&mdash; Glenn K. Lockwood (@glennklockwood) <a href=\"https://twitter.com/glennklockwood/status/1197291164275109890?ref_src=twsrc%5Etfw\">November 20, 2019</a></blockquote> <script async src=\"https://platform.twitter.com/widgets.js\" charset=\"utf-8\"></script> \n",
    "\n",
    "![](EJ2h9s8U8AAbmNJ.jpg)\n",
    "\n",
    "https://www.vi4io.org/io500/start"
   ]
  },
  {
   "cell_type": "markdown",
   "metadata": {},
   "source": [
    "## Force models\n",
    "\n",
    "$$ V_{LJ}(r) = 4 \\epsilon \\Big[ \\big(\\frac{\\sigma}{r}\\big)^{12} - \\big(\\frac{\\sigma}{r}\\big)^6 \\Big] $$\n",
    "\n",
    "![](https://upload.wikimedia.org/wikipedia/commons/thumb/5/51/12-6-Lennard-Jones-Potential.svg/640px-12-6-Lennard-Jones-Potential.svg.png)"
   ]
  },
  {
   "cell_type": "code",
   "execution_count": 36,
   "metadata": {},
   "outputs": [
    {
     "data": {
      "image/png": "[encoded data removed]",
      "text/plain": [
       "<Figure size 432x288 with 1 Axes>"
      ]
     },
     "metadata": {},
     "output_type": "display_data"
    }
   ],
   "source": [
    "%matplotlib inline\n",
    "import numpy as np\n",
    "import matplotlib.pyplot as plt\n",
    "plt.style.use('ggplot')\n",
    "\n",
    "# https://pubs.acs.org/doi/abs/10.1021/acs.inorgchem.7b00207\n",
    "def phi_lj(r):\n",
    "    eps = .4308\n",
    "    sigma = 3.310\n",
    "    return 4*eps*((sigma/r)**12 - (sigma/r)**6)\n",
    "\n",
    "def phi_buckingham(r):\n",
    "    A = 318418\n",
    "    rho = .294276\n",
    "    C = 2007.88\n",
    "    return A * np.exp(-r/rho) - C/r**6\n",
    "\n",
    "r = np.linspace(0.01, 10)\n",
    "plt.plot(r, phi_lj(r), label='LJ');\n",
    "plt.plot(r, phi_buckingham(r), label='Buckingham')\n",
    "plt.ylim(-1,1)\n",
    "plt.legend();"
   ]
  },
  {
   "cell_type": "markdown",
   "metadata": {},
   "source": [
    "The [orbitals of real atoms](https://en.wikipedia.org/wiki/Atomic_orbital#Orbitals_table) are far more complicated than a radial function, and depend on other nearby atoms.\n",
    "\n",
    "![](https://upload.wikimedia.org/wikipedia/commons/5/5f/Lysine_fisher_structure_and_3d_ball.svg)\n",
    "\n",
    "## [Amber](http://ambermd.org/AmberModels.php) is a sophisticated force model evaluator\n",
    "\n",
    "Amber force fields can be used in other molecular dynamics packages, such as GROMACS and NAMD.\n",
    "\n",
    "The parameters in the force fields are estimated using optimization, [like this](https://pubs.acs.org/doi/abs/10.1021/acs.jctc.5b00255) (see [supplement](https://pubs.acs.org/doi/suppl/10.1021/acs.jctc.5b00255/suppl_file/ct5b00255_si_001.pdf) for coefficient values).  Some [recent](https://www.nature.com/articles/s41467-018-06169-2) [work](https://www.nature.com/articles/s41467-019-12875-2) seeks to use black-box machine learning methods (such as neural networks) to build multi-atom force models similar to the more explicit methods above.\n",
    "\n",
    "## Anton-2\n",
    "\n",
    "A special-purpose computer for molecular dynamics; winner of the [2014 Gordon Bell Prize](https://dl.acm.org/citation.cfm?id=2683599) at Supercomputing.\n",
    "\n",
    "## Ab initio molecular dynamics\n",
    "\n",
    "The prior methods were all about molecular dynamics that calculate forces based on positions of nuclei.  Ab initio methods solve for electronic structure (electrons are fields/waves for this purpose), which is far more expensive.  There are a hierarchy of models.  Some examples, in order of increasing expense:\n",
    "\n",
    "* Density Functional Theory\n",
    "* Coupled Cluster and Tensor Networks\n",
    "* Quantum Monte-Carlo\n",
    "\n",
    "Combined, these methods account for a large fraction of global supercomputing time."
   ]
  }
 ],
 "metadata": {
  "kernelspec": {
   "display_name": "Python 3",
   "language": "python",
   "name": "python3"
  },
  "language_info": {
   "codemirror_mode": {
    "name": "ipython",
    "version": 3
   },
   "file_extension": ".py",
   "mimetype": "text/x-python",
   "name": "python",
   "nbconvert_exporter": "python",
   "pygments_lexer": "ipython3",
   "version": "3.8.0"
  }
 },
 "nbformat": 4,
 "nbformat_minor": 4
}
