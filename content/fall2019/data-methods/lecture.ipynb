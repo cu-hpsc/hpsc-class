{
 "cells": [
  {
   "cell_type": "markdown",
   "metadata": {},
   "source": [
    "## Seismic Tomography"
   ]
  },
  {
   "cell_type": "code",
   "execution_count": 6,
   "metadata": {},
   "outputs": [
    {
     "data": {
      "text/html": [
       "<iframe width=\"854\" height=\"422\" src=\"https://www.youtube.com/embed/7zuICgLxSIk?rel=0&amp;controls=0&amp;showinfo=0\" frameborder=\"0\" allowfullscreen></iframe>"
      ],
      "text/plain": [
       "<IPython.core.display.HTML object>"
      ]
     },
     "execution_count": 6,
     "metadata": {},
     "output_type": "execute_result"
    }
   ],
   "source": [
    "from IPython.display import HTML\n",
    "\n",
    "####HTML('<iframe width=\"854\" height=\"422\" src=\"https://www.youtube.com/embed/7zuICgLxSIk?rel=0&amp;controls=0&amp;showinfo=0\" frameborder=\"0\" allowfullscreen></iframe>')"
   ]
  },
  {
   "cell_type": "markdown",
   "metadata": {},
   "source": [
    "### Observed and synthectic seismograms\n",
    "\n",
    "![](flexwin.png)"
   ]
  },
  {
   "cell_type": "markdown",
   "metadata": {},
   "source": [
    "### Data sizes\n",
    "\n",
    "| Name | Count/size |\n",
    "|--------|-------------|\n",
    "| Seismic events (earthquakes) | 100--1000 |\n",
    "| Seismic stations that observe each event | 100--1000 |\n",
    "| Seismograms (observed and synthetic) | 1-1000 TB |\n",
    "| Elastic structure (3D mesh) | 1-1000 GB |\n",
    "| Simulate one earthquake | 100-1000 CPU hours |\n",
    "| Optimization iterations | ~30 |\n",
    "\n",
    "* Problem: Local minima when high-frequency windows are included in early iterations.\n",
    "\n",
    "### [Adaptable Seismic Data Format](https://asdf-definition.readthedocs.io/en/latest/big_picture.html) (based on HDF5)\n",
    "\n",
    "![](https://asdf-definition.readthedocs.io/en/latest/_images/ASDF_container.png)"
   ]
  },
  {
   "cell_type": "markdown",
   "metadata": {},
   "source": [
    "![](https://camo.githubusercontent.com/5be343ed266374f6108049a952b8be81e984ba27/68747470733a2f2f7261772e6769746875622e636f6d2f6f627370792f776562736974652f6d61737465722f6c6f676f2f6f627370795f6c6f676f5f66756c6c5f686967687265732e706e67)"
   ]
  },
  {
   "cell_type": "markdown",
   "metadata": {},
   "source": [
    "## Parallelism in Machine Learning\n",
    "\n",
    "* http://unixer.de/publications/img/distdl-preprint.pdf ([video](https://www.youtube.com/watch?v=xtxxLWZznBI))\n",
    "\n",
    "![](bennun-parallel-dl.png)\n",
    "\n",
    "![](bennun-parallel-param.png)"
   ]
  },
  {
   "cell_type": "markdown",
   "metadata": {},
   "source": [
    "## Curse of dimensionality"
   ]
  },
  {
   "cell_type": "code",
   "execution_count": 34,
   "metadata": {},
   "outputs": [
    {
     "data": {
      "text/html": [
       "<div>\n",
       "<style scoped>\n",
       "    .dataframe tbody tr th:only-of-type {\n",
       "        vertical-align: middle;\n",
       "    }\n",
       "\n",
       "    .dataframe tbody tr th {\n",
       "        vertical-align: top;\n",
       "    }\n",
       "\n",
       "    .dataframe thead th {\n",
       "        text-align: right;\n",
       "    }\n",
       "</style>\n",
       "<table border=\"1\" class=\"dataframe\">\n",
       "  <thead>\n",
       "    <tr style=\"text-align: right;\">\n",
       "      <th></th>\n",
       "      <th>name</th>\n",
       "      <th>dim</th>\n",
       "      <th>npoints</th>\n",
       "      <th>volume</th>\n",
       "    </tr>\n",
       "  </thead>\n",
       "  <tbody>\n",
       "    <tr>\n",
       "      <th>0</th>\n",
       "      <td>hypercube</td>\n",
       "      <td>1</td>\n",
       "      <td>2</td>\n",
       "      <td>1.0</td>\n",
       "    </tr>\n",
       "    <tr>\n",
       "      <th>1</th>\n",
       "      <td>hypercube</td>\n",
       "      <td>2</td>\n",
       "      <td>4</td>\n",
       "      <td>1.0</td>\n",
       "    </tr>\n",
       "    <tr>\n",
       "      <th>2</th>\n",
       "      <td>hypercube</td>\n",
       "      <td>3</td>\n",
       "      <td>8</td>\n",
       "      <td>1.0</td>\n",
       "    </tr>\n",
       "    <tr>\n",
       "      <th>3</th>\n",
       "      <td>hypercube</td>\n",
       "      <td>4</td>\n",
       "      <td>16</td>\n",
       "      <td>1.0</td>\n",
       "    </tr>\n",
       "    <tr>\n",
       "      <th>4</th>\n",
       "      <td>hypercube</td>\n",
       "      <td>5</td>\n",
       "      <td>32</td>\n",
       "      <td>1.0</td>\n",
       "    </tr>\n",
       "  </tbody>\n",
       "</table>\n",
       "</div>"
      ],
      "text/plain": [
       "        name  dim  npoints  volume\n",
       "0  hypercube    1        2     1.0\n",
       "1  hypercube    2        4     1.0\n",
       "2  hypercube    3        8     1.0\n",
       "3  hypercube    4       16     1.0\n",
       "4  hypercube    5       32     1.0"
      ]
     },
     "execution_count": 34,
     "metadata": {},
     "output_type": "execute_result"
    }
   ],
   "source": [
    "%matplotlib inline\n",
    "import pandas\n",
    "import seaborn\n",
    "import matplotlib.pyplot as plt\n",
    "import numpy as np\n",
    "plt.style.use('ggplot')\n",
    "plt.rc('figure', figsize=(12,8))\n",
    "\n",
    "def hypercube(d):\n",
    "    return dict(name='hypercube', dim=d, npoints=2**d, volume=1)\n",
    "\n",
    "def simplex(d):\n",
    "    return dict(name='simplex', dim=d, npoints=d+1, volume=1/np.math.factorial(d))\n",
    "\n",
    "df = pandas.DataFrame([hypercube(d) for d in range(1,20)] + [simplex(d) for d in range(1,20)])\n",
    "df.head()"
   ]
  },
  {
   "cell_type": "code",
   "execution_count": 35,
   "metadata": {},
   "outputs": [
    {
     "data": {
      "text/html": [
       "<div>\n",
       "<style scoped>\n",
       "    .dataframe tbody tr th:only-of-type {\n",
       "        vertical-align: middle;\n",
       "    }\n",
       "\n",
       "    .dataframe tbody tr th {\n",
       "        vertical-align: top;\n",
       "    }\n",
       "\n",
       "    .dataframe thead th {\n",
       "        text-align: right;\n",
       "    }\n",
       "</style>\n",
       "<table border=\"1\" class=\"dataframe\">\n",
       "  <thead>\n",
       "    <tr style=\"text-align: right;\">\n",
       "      <th></th>\n",
       "      <th>name</th>\n",
       "      <th>dim</th>\n",
       "      <th>npoints</th>\n",
       "      <th>volume</th>\n",
       "    </tr>\n",
       "  </thead>\n",
       "  <tbody>\n",
       "    <tr>\n",
       "      <th>33</th>\n",
       "      <td>simplex</td>\n",
       "      <td>15</td>\n",
       "      <td>16</td>\n",
       "      <td>7.647164e-13</td>\n",
       "    </tr>\n",
       "    <tr>\n",
       "      <th>34</th>\n",
       "      <td>simplex</td>\n",
       "      <td>16</td>\n",
       "      <td>17</td>\n",
       "      <td>4.779477e-14</td>\n",
       "    </tr>\n",
       "    <tr>\n",
       "      <th>35</th>\n",
       "      <td>simplex</td>\n",
       "      <td>17</td>\n",
       "      <td>18</td>\n",
       "      <td>2.811457e-15</td>\n",
       "    </tr>\n",
       "    <tr>\n",
       "      <th>36</th>\n",
       "      <td>simplex</td>\n",
       "      <td>18</td>\n",
       "      <td>19</td>\n",
       "      <td>1.561921e-16</td>\n",
       "    </tr>\n",
       "    <tr>\n",
       "      <th>37</th>\n",
       "      <td>simplex</td>\n",
       "      <td>19</td>\n",
       "      <td>20</td>\n",
       "      <td>8.220635e-18</td>\n",
       "    </tr>\n",
       "  </tbody>\n",
       "</table>\n",
       "</div>"
      ],
      "text/plain": [
       "       name  dim  npoints        volume\n",
       "33  simplex   15       16  7.647164e-13\n",
       "34  simplex   16       17  4.779477e-14\n",
       "35  simplex   17       18  2.811457e-15\n",
       "36  simplex   18       19  1.561921e-16\n",
       "37  simplex   19       20  8.220635e-18"
      ]
     },
     "execution_count": 35,
     "metadata": {},
     "output_type": "execute_result"
    }
   ],
   "source": [
    "df.tail()"
   ]
  },
  {
   "cell_type": "code",
   "execution_count": 36,
   "metadata": {},
   "outputs": [
    {
     "data": {
      "image/png": "[encoded data removed]",
      "text/plain": [
       "<Figure size 864x576 with 1 Axes>"
      ]
     },
     "metadata": {},
     "output_type": "display_data"
    }
   ],
   "source": [
    "grid = seaborn.lineplot(x='npoints', y='volume', hue='name', data=df)\n",
    "grid.axes.set(xscale='log', xlim=(1, 1e5));"
   ]
  }
 ],
 "metadata": {
  "kernelspec": {
   "display_name": "Python 3",
   "language": "python",
   "name": "python3"
  },
  "language_info": {
   "codemirror_mode": {
    "name": "ipython",
    "version": 3
   },
   "file_extension": ".py",
   "mimetype": "text/x-python",
   "name": "python",
   "nbconvert_exporter": "python",
   "pygments_lexer": "ipython3",
   "version": "3.7.4"
  }
 },
 "nbformat": 4,
 "nbformat_minor": 4
}
