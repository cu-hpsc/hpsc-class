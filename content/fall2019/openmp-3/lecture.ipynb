{
 "cells": [
  {
   "cell_type": "code",
   "execution_count": 3,
   "metadata": {},
   "outputs": [],
   "source": [
    "def render_c(filename):\n",
    "    from IPython.display import Markdown\n",
    "    with open(filename) as f:\n",
    "        contents = f.read()\n",
    "    return Markdown(\"```c\\n\" + contents + \"```\\n\")"
   ]
  },
  {
   "cell_type": "markdown",
   "metadata": {},
   "source": [
    "## OpenMP tasks\n",
    "\n",
    "Up to now, we've been expressing parallelism for iterating over an array."
   ]
  },
  {
   "cell_type": "code",
   "execution_count": 90,
   "metadata": {},
   "outputs": [
    {
     "data": {
      "text/markdown": [
       "```c\n",
       "#include <stdio.h>\n",
       "int main() {\n",
       "  int x = 1;\n",
       "  #pragma omp parallel\n",
       "  #pragma omp single\n",
       "  {\n",
       "    #pragma omp task shared(x) depend(out: x)\n",
       "    x = 2;\n",
       "    #pragma omp task shared(x) depend(in: x)\n",
       "    printf(\"x + 1 = %d. \", x+1);\n",
       "    #pragma omp task shared(x) depend(in: x)\n",
       "    printf(\"x + 2 = %d. \", x+2);\n",
       "  }\n",
       "  puts(\"\");\n",
       "  return 0;\n",
       "}\n",
       "```\n"
      ],
      "text/plain": [
       "<IPython.core.display.Markdown object>"
      ]
     },
     "execution_count": 90,
     "metadata": {},
     "output_type": "execute_result"
    }
   ],
   "source": [
    "render_c('task_dep.4.c')"
   ]
  },
  {
   "cell_type": "code",
   "execution_count": 91,
   "metadata": {},
   "outputs": [
    {
     "name": "stdout",
     "output_type": "stream",
     "text": [
      "cc -fopenmp    task_dep.4.c   -o task_dep.4\n"
     ]
    }
   ],
   "source": [
    "!make CFLAGS=-fopenmp -B task_dep.4"
   ]
  },
  {
   "cell_type": "code",
   "execution_count": 92,
   "metadata": {},
   "outputs": [
    {
     "name": "stdout",
     "output_type": "stream",
     "text": [
      "x + 2 = 4. x + 1 = 3. \n",
      "x + 1 = 3. x + 2 = 4. \n",
      "x + 2 = 4. x + 1 = 3. \n",
      "x + 1 = 3. x + 2 = 4. \n",
      "x + 2 = 4. x + 1 = 3. \n",
      "x + 1 = 3. x + 2 = 4. \n",
      "x + 1 = 3. x + 2 = 4. \n",
      "x + 2 = 4. x + 1 = 3. \n",
      "x + 2 = 4. x + 1 = 3. \n",
      "x + 2 = 4. x + 1 = 3. \n"
     ]
    }
   ],
   "source": [
    "!for i in {1..10}; do ./task_dep.4; done"
   ]
  },
  {
   "cell_type": "code",
   "execution_count": 93,
   "metadata": {},
   "outputs": [
    {
     "data": {
      "text/markdown": [
       "```c\n",
       "#include <stdio.h>\n",
       "int main() {\n",
       "  int x = 1;\n",
       "  #pragma omp parallel\n",
       "  #pragma omp single\n",
       "  {\n",
       "    #pragma omp task shared(x) depend(out: x)\n",
       "    x = 2;\n",
       "    #pragma omp task shared(x) depend(inout: x)\n",
       "    printf(\"x + 1 = %d. \", x+1);\n",
       "    #pragma omp task shared(x) depend(in: x)\n",
       "    printf(\"x + 2 = %d. \", x+2);\n",
       "  }\n",
       "  puts(\"\");\n",
       "  return 0;\n",
       "}\n",
       "```\n"
      ],
      "text/plain": [
       "<IPython.core.display.Markdown object>"
      ]
     },
     "execution_count": 93,
     "metadata": {},
     "output_type": "execute_result"
    }
   ],
   "source": [
    "render_c('task_dep.4inout.c')"
   ]
  },
  {
   "cell_type": "code",
   "execution_count": 94,
   "metadata": {},
   "outputs": [
    {
     "name": "stdout",
     "output_type": "stream",
     "text": [
      "cc -fopenmp    task_dep.4inout.c   -o task_dep.4inout\n"
     ]
    }
   ],
   "source": [
    "!make CFLAGS=-fopenmp -B task_dep.4inout"
   ]
  },
  {
   "cell_type": "code",
   "execution_count": 95,
   "metadata": {},
   "outputs": [
    {
     "name": "stdout",
     "output_type": "stream",
     "text": [
      "x + 1 = 3. x + 2 = 4. \n",
      "x + 1 = 3. x + 2 = 4. \n",
      "x + 1 = 3. x + 2 = 4. \n",
      "x + 1 = 3. x + 2 = 4. \n",
      "x + 1 = 3. x + 2 = 4. \n",
      "x + 1 = 3. x + 2 = 4. \n",
      "x + 1 = 3. x + 2 = 4. \n",
      "x + 1 = 3. x + 2 = 4. \n",
      "x + 1 = 3. x + 2 = 4. \n",
      "x + 1 = 3. x + 2 = 4. \n"
     ]
    }
   ],
   "source": [
    "!for i in {1..10}; do ./task_dep.4inout; done"
   ]
  },
  {
   "cell_type": "markdown",
   "metadata": {},
   "source": [
    "## Computing the [Fibonacci numbers](https://en.wikipedia.org/wiki/Fibonacci_number) with OpenMP\n",
    "\n",
    "Fibonacci numbers are defined by the recurrence\n",
    "\\begin{align}\n",
    "  F_0 &= 0 \\\\\n",
    "  F_1 &= 1 \\\\\n",
    "  F_n &= F_{n-1} + F_{n-2}\n",
    "\\end{align}"
   ]
  },
  {
   "cell_type": "code",
   "execution_count": 96,
   "metadata": {},
   "outputs": [
    {
     "data": {
      "text/markdown": [
       "```c\n",
       "#include <stdio.h>\n",
       "#include <stdlib.h>\n",
       "\n",
       "long fib(long n) {\n",
       "  if (n < 2) return n;\n",
       "  return fib(n - 1) + fib(n - 2);\n",
       "}\n",
       "\n",
       "int main(int argc, char **argv) {\n",
       "  if (argc != 2) {\n",
       "    fprintf(stderr, \"Usage: %s N\\n\", argv[0]);\n",
       "    return 1;\n",
       "  }\n",
       "  long N = atol(argv[1]);\n",
       "  long fibs[N];\n",
       "  #pragma omp parallel for\n",
       "  for (long i=0; i<N; i++)\n",
       "    fibs[i] = fib(i+1);\n",
       "  for (long i=0; i<N; i++)\n",
       "    printf(\"%2ld: %5ld\\n\", i+1, fibs[i]);\n",
       "  return 0;\n",
       "}\n",
       "```\n"
      ],
      "text/plain": [
       "<IPython.core.display.Markdown object>"
      ]
     },
     "execution_count": 96,
     "metadata": {},
     "output_type": "execute_result"
    }
   ],
   "source": [
    "render_c('fib.c')"
   ]
  },
  {
   "cell_type": "code",
   "execution_count": 97,
   "metadata": {},
   "outputs": [
    {
     "name": "stdout",
     "output_type": "stream",
     "text": [
      "cc -O2 -march=native -fopenmp -Wall    fib.c   -o fib\n"
     ]
    }
   ],
   "source": [
    "!make CFLAGS='-O2 -march=native -fopenmp -Wall' -B fib"
   ]
  },
  {
   "cell_type": "code",
   "execution_count": 100,
   "metadata": {},
   "outputs": [
    {
     "name": "stdout",
     "output_type": "stream",
     "text": [
      " 1:     1\n",
      " 2:     1\n",
      " 3:     2\n",
      " 4:     3\n",
      " 5:     5\n",
      " 6:     8\n",
      " 7:    13\n",
      " 8:    21\n",
      " 9:    34\n",
      "10:    55\n",
      "11:    89\n",
      "12:   144\n",
      "13:   233\n",
      "14:   377\n",
      "15:   610\n",
      "16:   987\n",
      "17:  1597\n",
      "18:  2584\n",
      "19:  4181\n",
      "20:  6765\n",
      "21: 10946\n",
      "22: 17711\n",
      "23: 28657\n",
      "24: 46368\n",
      "25: 75025\n",
      "26: 121393\n",
      "27: 196418\n",
      "28: 317811\n",
      "29: 514229\n",
      "30: 832040\n",
      "31: 1346269\n",
      "32: 2178309\n",
      "33: 3524578\n",
      "34: 5702887\n",
      "35: 9227465\n",
      "36: 14930352\n",
      "37: 24157817\n",
      "38: 39088169\n",
      "39: 63245986\n",
      "40: 102334155\n",
      "0.85user 0.00system 0:00.78elapsed 109%CPU (0avgtext+0avgdata 2044maxresident)k\n",
      "0inputs+0outputs (0major+99minor)pagefaults 0swaps\n"
     ]
    }
   ],
   "source": [
    "!OMP_NUM_THREADS=4 time ./fib 40"
   ]
  },
  {
   "cell_type": "markdown",
   "metadata": {},
   "source": [
    "## Use tasks"
   ]
  },
  {
   "cell_type": "code",
   "execution_count": 101,
   "metadata": {},
   "outputs": [
    {
     "data": {
      "text/markdown": [
       "```c\n",
       "#include <stdio.h>\n",
       "#include <stdlib.h>\n",
       "\n",
       "long fib(long n) {\n",
       "  if (n < 2) return n;\n",
       "  long n1, n2;\n",
       "  #pragma omp task shared(n1)\n",
       "  n1 = fib(n - 1);\n",
       "  #pragma omp task shared(n2)\n",
       "  n2 = fib(n - 2);\n",
       "  #pragma omp taskwait\n",
       "  return n1 + n2;\n",
       "}\n",
       "\n",
       "int main(int argc, char **argv) {\n",
       "  if (argc != 2) {\n",
       "    fprintf(stderr, \"Usage: %s N\\n\", argv[0]);\n",
       "    return 1;\n",
       "  }\n",
       "  long N = atol(argv[1]);\n",
       "  long fibs[N];\n",
       "  #pragma omp parallel\n",
       "  #pragma omp single nowait\n",
       "  {\n",
       "    for (long i=0; i<N; i++)\n",
       "      fibs[i] = fib(i+1);\n",
       "  }\n",
       "  for (long i=0; i<N; i++)\n",
       "    printf(\"%2ld: %5ld\\n\", i+1, fibs[i]);\n",
       "  return 0;\n",
       "}\n",
       "```\n"
      ],
      "text/plain": [
       "<IPython.core.display.Markdown object>"
      ]
     },
     "execution_count": 101,
     "metadata": {},
     "output_type": "execute_result"
    }
   ],
   "source": [
    "render_c('fib2.c')"
   ]
  },
  {
   "cell_type": "code",
   "execution_count": 102,
   "metadata": {},
   "outputs": [
    {
     "name": "stdout",
     "output_type": "stream",
     "text": [
      "make: 'fib2' is up to date.\n"
     ]
    }
   ],
   "source": [
    "!make CFLAGS='-O2 -march=native -fopenmp -Wall' fib2"
   ]
  },
  {
   "cell_type": "code",
   "execution_count": 104,
   "metadata": {},
   "outputs": [
    {
     "name": "stdout",
     "output_type": "stream",
     "text": [
      " 1:     1\n",
      " 2:     1\n",
      " 3:     2\n",
      " 4:     3\n",
      " 5:     5\n",
      " 6:     8\n",
      " 7:    13\n",
      " 8:    21\n",
      " 9:    34\n",
      "10:    55\n",
      "11:    89\n",
      "12:   144\n",
      "13:   233\n",
      "14:   377\n",
      "15:   610\n",
      "16:   987\n",
      "17:  1597\n",
      "18:  2584\n",
      "19:  4181\n",
      "20:  6765\n",
      "21: 10946\n",
      "22: 17711\n",
      "23: 28657\n",
      "24: 46368\n",
      "25: 75025\n",
      "26: 121393\n",
      "27: 196418\n",
      "28: 317811\n",
      "29: 514229\n",
      "30: 832040\n",
      "2.42user 0.81system 0:02.54elapsed 127%CPU (0avgtext+0avgdata 2028maxresident)k\n",
      "0inputs+0outputs (0major+100minor)pagefaults 0swaps\n"
     ]
    }
   ],
   "source": [
    "!OMP_NUM_THREADS=2 time ./fib2 30"
   ]
  },
  {
   "cell_type": "markdown",
   "metadata": {},
   "source": [
    "* It's expensive to create tasks when `n` is small, even with only one thread.  How can we cut down on that overhead?"
   ]
  },
  {
   "cell_type": "code",
   "execution_count": 62,
   "metadata": {},
   "outputs": [
    {
     "data": {
      "text/markdown": [
       "```c\n",
       "#include <stdio.h>\n",
       "#include <stdlib.h>\n",
       "\n",
       "long fib(long n) {\n",
       "  if (n < 2) return n;\n",
       "  if (n < 30)\n",
       "    return fib(n - 1) + fib(n - 2);\n",
       "  long n1, n2;\n",
       "  #pragma omp task shared(n1)\n",
       "  n1 = fib(n - 1);\n",
       "  #pragma omp task shared(n2)\n",
       "  n2 = fib(n - 2);\n",
       "  #pragma omp taskwait\n",
       "  return n1 + n2;\n",
       "}\n",
       "\n",
       "int main(int argc, char **argv) {\n",
       "  if (argc != 2) {\n",
       "    fprintf(stderr, \"Usage: %s N\\n\", argv[0]);\n",
       "    return 1;\n",
       "  }\n",
       "  long N = atol(argv[1]);\n",
       "  long fibs[N];\n",
       "  #pragma omp parallel\n",
       "  #pragma omp single nowait\n",
       "  {\n",
       "    for (long i=0; i<N; i++)\n",
       "      fibs[i] = fib(i+1);\n",
       "  }\n",
       "  for (long i=0; i<N; i++)\n",
       "    printf(\"%2ld: %5ld\\n\", i+1, fibs[i]);\n",
       "  return 0;\n",
       "}\n",
       "```\n"
      ],
      "text/plain": [
       "<IPython.core.display.Markdown object>"
      ]
     },
     "execution_count": 62,
     "metadata": {},
     "output_type": "execute_result"
    }
   ],
   "source": [
    "render_c('fib3.c')"
   ]
  },
  {
   "cell_type": "code",
   "execution_count": 105,
   "metadata": {},
   "outputs": [
    {
     "name": "stdout",
     "output_type": "stream",
     "text": [
      "cc -O2 -march=native -fopenmp -Wall    fib3.c   -o fib3\n"
     ]
    }
   ],
   "source": [
    "!make CFLAGS='-O2 -march=native -fopenmp -Wall' fib3"
   ]
  },
  {
   "cell_type": "code",
   "execution_count": 108,
   "metadata": {},
   "outputs": [
    {
     "name": "stdout",
     "output_type": "stream",
     "text": [
      " 1:     1\n",
      " 2:     1\n",
      " 3:     2\n",
      " 4:     3\n",
      " 5:     5\n",
      " 6:     8\n",
      " 7:    13\n",
      " 8:    21\n",
      " 9:    34\n",
      "10:    55\n",
      "11:    89\n",
      "12:   144\n",
      "13:   233\n",
      "14:   377\n",
      "15:   610\n",
      "16:   987\n",
      "17:  1597\n",
      "18:  2584\n",
      "19:  4181\n",
      "20:  6765\n",
      "21: 10946\n",
      "22: 17711\n",
      "23: 28657\n",
      "24: 46368\n",
      "25: 75025\n",
      "26: 121393\n",
      "27: 196418\n",
      "28: 317811\n",
      "29: 514229\n",
      "30: 832040\n",
      "31: 1346269\n",
      "32: 2178309\n",
      "33: 3524578\n",
      "34: 5702887\n",
      "35: 9227465\n",
      "36: 14930352\n",
      "37: 24157817\n",
      "38: 39088169\n",
      "39: 63245986\n",
      "40: 102334155\n",
      "3.56user 0.00system 0:01.27elapsed 280%CPU (0avgtext+0avgdata 1920maxresident)k\n",
      "0inputs+0outputs (0major+103minor)pagefaults 0swaps\n"
     ]
    }
   ],
   "source": [
    "!OMP_NUM_THREADS=3 time ./fib3 40"
   ]
  },
  {
   "cell_type": "markdown",
   "metadata": {},
   "source": [
    "* This is just slower, even with one thread.  Why might that be?"
   ]
  },
  {
   "cell_type": "code",
   "execution_count": 109,
   "metadata": {},
   "outputs": [
    {
     "data": {
      "text/markdown": [
       "```c\n",
       "#include <stdio.h>\n",
       "#include <stdlib.h>\n",
       "\n",
       "long fib_seq(long n) {\n",
       "  if (n < 2) return n;\n",
       "  return fib_seq(n - 1) + fib_seq(n - 2);\n",
       "}\n",
       "\n",
       "long fib(long n) {\n",
       "  if (n < 30)\n",
       "    return fib_seq(n);\n",
       "  long n1, n2;\n",
       "  #pragma omp task shared(n1)\n",
       "  n1 = fib(n - 1);\n",
       "  #pragma omp task shared(n2)\n",
       "  n2 = fib(n - 2);\n",
       "  #pragma omp taskwait\n",
       "  return n1 + n2;\n",
       "}\n",
       "\n",
       "int main(int argc, char **argv) {\n",
       "  if (argc != 2) {\n",
       "    fprintf(stderr, \"Usage: %s N\\n\", argv[0]);\n",
       "    return 1;\n",
       "  }\n",
       "  long N = atol(argv[1]);\n",
       "  long fibs[N];\n",
       "  #pragma omp parallel\n",
       "  #pragma omp single nowait\n",
       "  {\n",
       "    for (long i=0; i<N; i++)\n",
       "      fibs[i] = fib(i+1);\n",
       "  }\n",
       "  for (long i=0; i<N; i++)\n",
       "    printf(\"%2ld: %5ld\\n\", i+1, fibs[i]);\n",
       "  return 0;\n",
       "}\n",
       "```\n"
      ],
      "text/plain": [
       "<IPython.core.display.Markdown object>"
      ]
     },
     "execution_count": 109,
     "metadata": {},
     "output_type": "execute_result"
    }
   ],
   "source": [
    "render_c('fib4.c')"
   ]
  },
  {
   "cell_type": "code",
   "execution_count": 110,
   "metadata": {},
   "outputs": [
    {
     "name": "stdout",
     "output_type": "stream",
     "text": [
      "make: 'fib4' is up to date.\n"
     ]
    }
   ],
   "source": [
    "!make CFLAGS='-O2 -march=native -fopenmp -Wall' fib4"
   ]
  },
  {
   "cell_type": "code",
   "execution_count": 111,
   "metadata": {},
   "outputs": [
    {
     "name": "stdout",
     "output_type": "stream",
     "text": [
      " 1:     1\n",
      " 2:     1\n",
      " 3:     2\n",
      " 4:     3\n",
      " 5:     5\n",
      " 6:     8\n",
      " 7:    13\n",
      " 8:    21\n",
      " 9:    34\n",
      "10:    55\n",
      "11:    89\n",
      "12:   144\n",
      "13:   233\n",
      "14:   377\n",
      "15:   610\n",
      "16:   987\n",
      "17:  1597\n",
      "18:  2584\n",
      "19:  4181\n",
      "20:  6765\n",
      "21: 10946\n",
      "22: 17711\n",
      "23: 28657\n",
      "24: 46368\n",
      "25: 75025\n",
      "26: 121393\n",
      "27: 196418\n",
      "28: 317811\n",
      "29: 514229\n",
      "30: 832040\n",
      "31: 1346269\n",
      "32: 2178309\n",
      "33: 3524578\n",
      "34: 5702887\n",
      "35: 9227465\n",
      "36: 14930352\n",
      "37: 24157817\n",
      "38: 39088169\n",
      "39: 63245986\n",
      "40: 102334155\n",
      "0.94user 0.00system 0:00.53elapsed 177%CPU (0avgtext+0avgdata 2040maxresident)k\n",
      "8inputs+0outputs (0major+97minor)pagefaults 0swaps\n"
     ]
    }
   ],
   "source": [
    "!OMP_NUM_THREADS=2 time ./fib4 40"
   ]
  },
  {
   "cell_type": "markdown",
   "metadata": {},
   "source": [
    "### Alt: `schedule(static,1)`"
   ]
  },
  {
   "cell_type": "code",
   "execution_count": 112,
   "metadata": {},
   "outputs": [
    {
     "data": {
      "text/markdown": [
       "```c\n",
       "#include <stdio.h>\n",
       "#include <stdlib.h>\n",
       "\n",
       "long fib(long n) {\n",
       "  if (n < 2) return n;\n",
       "  return fib(n - 1) + fib(n - 2);\n",
       "}\n",
       "\n",
       "int main(int argc, char **argv) {\n",
       "  if (argc != 2) {\n",
       "    fprintf(stderr, \"Usage: %s N\\n\", argv[0]);\n",
       "    return 1;\n",
       "  }\n",
       "  long N = atol(argv[1]);\n",
       "  long fibs[N];\n",
       "  #pragma omp parallel for schedule(static,1)\n",
       "  for (long i=0; i<N; i++)\n",
       "    fibs[i] = fib(i+1);\n",
       "  for (long i=0; i<N; i++)\n",
       "    printf(\"%2ld: %5ld\\n\", i+1, fibs[i]);\n",
       "  return 0;\n",
       "}\n",
       "```\n"
      ],
      "text/plain": [
       "<IPython.core.display.Markdown object>"
      ]
     },
     "execution_count": 112,
     "metadata": {},
     "output_type": "execute_result"
    }
   ],
   "source": [
    "render_c('fib5.c')"
   ]
  },
  {
   "cell_type": "code",
   "execution_count": 113,
   "metadata": {},
   "outputs": [
    {
     "name": "stdout",
     "output_type": "stream",
     "text": [
      "make: 'fib5' is up to date.\n"
     ]
    }
   ],
   "source": [
    "!make CFLAGS='-O2 -march=native -fopenmp -Wall' fib5"
   ]
  },
  {
   "cell_type": "code",
   "execution_count": 114,
   "metadata": {},
   "outputs": [
    {
     "name": "stdout",
     "output_type": "stream",
     "text": [
      " 1:     1\n",
      " 2:     1\n",
      " 3:     2\n",
      " 4:     3\n",
      " 5:     5\n",
      " 6:     8\n",
      " 7:    13\n",
      " 8:    21\n",
      " 9:    34\n",
      "10:    55\n",
      "11:    89\n",
      "12:   144\n",
      "13:   233\n",
      "14:   377\n",
      "15:   610\n",
      "16:   987\n",
      "17:  1597\n",
      "18:  2584\n",
      "19:  4181\n",
      "20:  6765\n",
      "21: 10946\n",
      "22: 17711\n",
      "23: 28657\n",
      "24: 46368\n",
      "25: 75025\n",
      "26: 121393\n",
      "27: 196418\n",
      "28: 317811\n",
      "29: 514229\n",
      "30: 832040\n",
      "31: 1346269\n",
      "32: 2178309\n",
      "33: 3524578\n",
      "34: 5702887\n",
      "35: 9227465\n",
      "36: 14930352\n",
      "37: 24157817\n",
      "38: 39088169\n",
      "39: 63245986\n",
      "40: 102334155\n",
      "0.88user 0.00system 0:00.54elapsed 161%CPU (0avgtext+0avgdata 1908maxresident)k\n",
      "8inputs+0outputs (0major+93minor)pagefaults 0swaps\n"
     ]
    }
   ],
   "source": [
    "!OMP_NUM_THREADS=2 time ./fib5 40"
   ]
  },
  {
   "cell_type": "markdown",
   "metadata": {},
   "source": [
    "### Better math"
   ]
  },
  {
   "cell_type": "code",
   "execution_count": 66,
   "metadata": {},
   "outputs": [
    {
     "data": {
      "text/markdown": [
       "```c\n",
       "#include <stdio.h>\n",
       "#include <stdlib.h>\n",
       "\n",
       "int main(int argc, char **argv) {\n",
       "  if (argc != 2) {\n",
       "    fprintf(stderr, \"Usage: %s N\\n\", argv[0]);\n",
       "    return 1;\n",
       "  }\n",
       "  long N = atol(argv[1]);\n",
       "  long fibs[N];\n",
       "  fibs[0] = 1;\n",
       "  fibs[1] = 2;\n",
       "  for (long i=2; i<N; i++)\n",
       "    fibs[i] = fibs[i-1] + fibs[i-2];\n",
       "  for (long i=0; i<N; i++)\n",
       "    printf(\"%2ld: %5ld\\n\", i+1, fibs[i]);\n",
       "  return 0;\n",
       "}\n",
       "```\n"
      ],
      "text/plain": [
       "<IPython.core.display.Markdown object>"
      ]
     },
     "execution_count": 66,
     "metadata": {},
     "output_type": "execute_result"
    }
   ],
   "source": [
    "render_c('fib6.c')"
   ]
  },
  {
   "cell_type": "code",
   "execution_count": 67,
   "metadata": {},
   "outputs": [
    {
     "name": "stdout",
     "output_type": "stream",
     "text": [
      "cc -O2 -march=native -fopenmp -Wall    fib6.c   -o fib6\n"
     ]
    }
   ],
   "source": [
    "!make CFLAGS='-O2 -march=native -fopenmp -Wall' fib6"
   ]
  },
  {
   "cell_type": "code",
   "execution_count": 116,
   "metadata": {},
   "outputs": [
    {
     "name": "stdout",
     "output_type": "stream",
     "text": [
      " 1:     1\n",
      " 2:     2\n",
      " 3:     3\n",
      " 4:     5\n",
      " 5:     8\n",
      " 6:    13\n",
      " 7:    21\n",
      " 8:    34\n",
      " 9:    55\n",
      "10:    89\n",
      "11:   144\n",
      "12:   233\n",
      "13:   377\n",
      "14:   610\n",
      "15:   987\n",
      "16:  1597\n",
      "17:  2584\n",
      "18:  4181\n",
      "19:  6765\n",
      "20: 10946\n",
      "21: 17711\n",
      "22: 28657\n",
      "23: 46368\n",
      "24: 75025\n",
      "25: 121393\n",
      "26: 196418\n",
      "27: 317811\n",
      "28: 514229\n",
      "29: 832040\n",
      "30: 1346269\n",
      "31: 2178309\n",
      "32: 3524578\n",
      "33: 5702887\n",
      "34: 9227465\n",
      "35: 14930352\n",
      "36: 24157817\n",
      "37: 39088169\n",
      "38: 63245986\n",
      "39: 102334155\n",
      "40: 165580141\n",
      "41: 267914296\n",
      "42: 433494437\n",
      "43: 701408733\n",
      "44: 1134903170\n",
      "45: 1836311903\n",
      "46: 2971215073\n",
      "47: 4807526976\n",
      "48: 7778742049\n",
      "49: 12586269025\n",
      "50: 20365011074\n",
      "51: 32951280099\n",
      "52: 53316291173\n",
      "53: 86267571272\n",
      "54: 139583862445\n",
      "55: 225851433717\n",
      "56: 365435296162\n",
      "57: 591286729879\n",
      "58: 956722026041\n",
      "59: 1548008755920\n",
      "60: 2504730781961\n",
      "61: 4052739537881\n",
      "62: 6557470319842\n",
      "63: 10610209857723\n",
      "64: 17167680177565\n",
      "65: 27777890035288\n",
      "66: 44945570212853\n",
      "67: 72723460248141\n",
      "68: 117669030460994\n",
      "69: 190392490709135\n",
      "70: 308061521170129\n",
      "71: 498454011879264\n",
      "72: 806515533049393\n",
      "73: 1304969544928657\n",
      "74: 2111485077978050\n",
      "75: 3416454622906707\n",
      "76: 5527939700884757\n",
      "77: 8944394323791464\n",
      "78: 14472334024676221\n",
      "79: 23416728348467685\n",
      "80: 37889062373143906\n",
      "81: 61305790721611591\n",
      "82: 99194853094755497\n",
      "83: 160500643816367088\n",
      "84: 259695496911122585\n",
      "85: 420196140727489673\n",
      "86: 679891637638612258\n",
      "87: 1100087778366101931\n",
      "88: 1779979416004714189\n",
      "89: 2880067194370816120\n",
      "90: 4660046610375530309\n",
      "91: 7540113804746346429\n",
      "92: -6246583658587674878\n",
      "93: 1293530146158671551\n",
      "94: -4953053512429003327\n",
      "95: -3659523366270331776\n",
      "96: -8612576878699335103\n",
      "97: 6174643828739884737\n",
      "98: -2437933049959450366\n",
      "99: 3736710778780434371\n",
      "100: 1298777728820984005\n",
      "0.002 real   0.002 user   0.000 sys   99.42 cpu\n"
     ]
    }
   ],
   "source": [
    "!time ./fib6 100"
   ]
  },
  {
   "cell_type": "markdown",
   "metadata": {},
   "source": [
    "## To fork/join or to task?\n",
    "\n",
    "When the work unit **size** and **compute speed** is predictable, we can partition work in advance and schedule with `omp for` to achieve load balance.\n",
    "Satisfying both criteria is often hard:\n",
    "\n",
    "* Adaptive algorithms, adaptive physics, implicit constitutive models\n",
    "* AVX throttling, thermal throttling, network or file system contention, OS jitter\n",
    "\n",
    "Fork/join and barriers are also high overhead, so we might want to express data dependencies more precisely.\n",
    "\n",
    "![](https://community.arm.com/resized-image/__size/1040x0/__key/communityserver-blogs-components-weblogfiles/00-00-00-37-98/Screenshot-2019_2D00_09_2D00_02-at-17.50.07.png)"
   ]
  },
  {
   "cell_type": "markdown",
   "metadata": {},
   "source": [
    "For tasking to be efficient, it relies on **overdecomposition**, creating more work units than there are processing units.\n",
    "For many numerical algorithms, there is some overhead to overdecomposition.  For example, in array processing, a halo/fringe/ghost/overlap region might need to be computed as part of each work patch, leading to time models along the lines of\n",
    "$$ t_{\\text{tile}}(n) = t_{\\text{latency}} + \\frac{(n+2)^3}{R} $$\n",
    "where $R$ is the processing rate.\n",
    "In addition to the latency, the overhead fraction is\n",
    "$$ \\frac{(n+2)^3 - n^3}{n^3} \\approx 6/n $$\n",
    "indicating that larger $n$ should be more efficient.\n",
    "\n",
    "However, if this overhead is acceptable and you still have load balancing challenges, tasking can be a solution.\n",
    "(Example from a recent [blog/talk](https://community.arm.com/developer/research/b/articles/posts/tasking-lives-up-to-its-promises).)"
   ]
  },
  {
   "cell_type": "markdown",
   "metadata": {},
   "source": [
    "![](https://community.arm.com/resized-image/__size/2080x0/__key/communityserver-blogs-components-weblogfiles/00-00-00-37-98/timestamp.png)"
   ]
  },
  {
   "cell_type": "markdown",
   "metadata": {},
   "source": [
    "## Computational depth and the critical path\n",
    "\n",
    "Consider the block Cholesky factorization algorithm (applying to the lower-triangular matrix $A$).\n",
    "\n",
    "![](./chol-alg.png)\n",
    "\n",
    "Expressing essential data dependencies, this results in the following directed acyclic graph (DAG).\n",
    "No parallel algorithm can complete in less time than it takes for a sequential algorithm to perform each operation along the critical path (i.e., the minimum depth of this graph such that all arrows point downward).\n",
    "\n",
    "![](./chol-graph.png)\n",
    "\n",
    "Figures from [Agullo et al (2016): Are Static Schedules so Bad? A Case Study on Cholesky Factorization](https://doi.org/10.1109/IPDPS.2016.9), which is an interesting counterpoint to the common narrative pushing dynamic scheduling."
   ]
  },
  {
   "cell_type": "markdown",
   "metadata": {},
   "source": [
    "### Question: what is the computational depth of summing an array?\n",
    "\n",
    "$$ \\sum_{i=0}^{N-1} a_i $$\n",
    "\n",
    "```c\n",
    "double sum = 0;\n",
    "for (int i=0; i<N; i++)\n",
    "    sum += array[i];\n",
    "```\n",
    "\n",
    "Given an arbitrarily large number $P$ of processing units, what is the smallest computational depth to compute this mathematical result?  (You're free to use any associativity.)"
   ]
  }
 ],
 "metadata": {
  "kernelspec": {
   "display_name": "Python 3",
   "language": "python",
   "name": "python3"
  },
  "language_info": {
   "codemirror_mode": {
    "name": "ipython",
    "version": 3
   },
   "file_extension": ".py",
   "mimetype": "text/x-python",
   "name": "python",
   "nbconvert_exporter": "python",
   "pygments_lexer": "ipython3",
   "version": "3.7.4"
  }
 },
 "nbformat": 4,
 "nbformat_minor": 4
}
