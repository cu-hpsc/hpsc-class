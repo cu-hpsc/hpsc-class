{
 "cells": [
  {
   "cell_type": "code",
   "execution_count": 2,
   "metadata": {},
   "outputs": [],
   "source": [
    "%matplotlib inline\n",
    "import numpy as np\n",
    "import matplotlib.pyplot as plt\n",
    "plt.style.use('seaborn')"
   ]
  },
  {
   "cell_type": "markdown",
   "metadata": {},
   "source": [
    "## Orthogonalization and QR factorization"
   ]
  },
  {
   "cell_type": "markdown",
   "metadata": {},
   "source": [
    "Given a collection of vectors (columns of a matrix), we can find an orthogonal basis by applying the above procedure one column at a time and saving the result.  Let's think of the first two columns,\n",
    "$$ \\Bigg[ a_0 \\, \\Bigg| \\, a_1 \\Bigg] = \\Bigg[ q_0 \\,\\Bigg|\\, q_1 \\Bigg]\n",
    "\\begin{bmatrix} r_{00} & r_{01} \\\\ 0 & r_{11} \\end{bmatrix} . $$\n",
    "#### Column 0\n",
    "The equation for column 0 reads\n",
    "$$ a_0 = q_0 r_{00} $$\n",
    "and we require that $\\lVert q_0 \\rVert = 1$, thus\n",
    "$$ r_{00} = \\lVert a_0 \\rVert $$\n",
    "and\n",
    "$$ q_0 = a_0 / r_{00} . $$\n",
    "#### Column 1\n",
    "This equation reads\n",
    "$$ a_1 = q_0 r_{01} + q_1 r_{11} $$\n",
    "where $a_1$ and $q_0$ are known and we will require that $q_0^T q_1 = 0$.\n",
    "We can find the part of $a_1$ that is orthogonal to $q_0$ via\n",
    "$$ (I - q_0 q_0^T) a_1 = a_1 - q_0 \\underbrace{q_0^T a_1}_{r_{01}} $$\n",
    "leaving a sub-problem equivalent to that of column 0."
   ]
  },
  {
   "cell_type": "code",
   "execution_count": 3,
   "metadata": {},
   "outputs": [
    {
     "name": "stdout",
     "output_type": "stream",
     "text": [
      "[[ 1.00000000e+00  2.06727448e-17 -7.22457952e-17 -2.05232865e-16]\n",
      " [ 2.06727448e-17  1.00000000e+00  1.13635722e-16 -5.08904737e-16]\n",
      " [-7.22457952e-17  1.13635722e-16  1.00000000e+00  4.66276733e-17]\n",
      " [-2.05232865e-16 -5.08904737e-16  4.66276733e-17  1.00000000e+00]]\n",
      "4.744563050812836e-16\n"
     ]
    },
    {
     "data": {
      "image/png": "[encoded data removed]",
      "text/plain": [
       "<Figure size 432x288 with 1 Axes>"
      ]
     },
     "metadata": {
      "needs_background": "light"
     },
     "output_type": "display_data"
    }
   ],
   "source": [
    "def gram_schmidt_naive(A):\n",
    "    \"\"\"Compute a QR factorization of A using the Gram-Schmidt algorithm\"\"\"\n",
    "    Q = np.zeros_like(A)\n",
    "    R = np.zeros((A.shape[1], A.shape[1]))\n",
    "    for i in range(len(Q.T)):\n",
    "        v = A[:,i].copy()\n",
    "        for j in range(i):\n",
    "            r = Q[:,j] @ v\n",
    "            R[j,i] = r\n",
    "            v -= Q[:,j] * r # \"modified Gram-Schmidt\"\n",
    "        R[i,i] = np.linalg.norm(v)\n",
    "        Q[:,i] = v / R[i,i]\n",
    "    return Q, R\n",
    "\n",
    "x = np.linspace(-1, 1)\n",
    "A = np.vander(x, 4, increasing=True)\n",
    "Q, R = gram_schmidt_naive(A)\n",
    "print(Q.T @ Q)\n",
    "print(np.linalg.norm(Q @ R - A))\n",
    "plt.plot(x, Q);"
   ]
  },
  {
   "cell_type": "markdown",
   "metadata": {},
   "source": [
    "### Theorem: all full-rank $m\\times n$ matrices ($m \\ge n$) have a unique $Q R$ factorization with $R_{j,j} > 0$.\n"
   ]
  },
  {
   "cell_type": "code",
   "execution_count": 4,
   "metadata": {},
   "outputs": [
    {
     "name": "stdout",
     "output_type": "stream",
     "text": [
      "gram_schmidt_naive   9.52e-16 3.04e-09\n",
      "qr                   2.74e-15 2.39e-15\n"
     ]
    }
   ],
   "source": [
    "m = 20\n",
    "V = np.vander(np.linspace(-1,1,m), increasing=True)\n",
    "Q, R = gram_schmidt_naive(V)\n",
    "\n",
    "def qr_test(qr, V):\n",
    "    Q, R = qr(V)\n",
    "    m = len(Q.T)\n",
    "    print('{:20} {:.2e} {:.2e}'.format(\n",
    "        qr.__name__,\n",
    "        np.linalg.norm(Q @ R - V),\n",
    "        np.linalg.norm(Q.T @ Q - np.eye(m))))\n",
    "    \n",
    "qr_test(gram_schmidt_naive, V)\n",
    "qr_test(np.linalg.qr, V)"
   ]
  },
  {
   "cell_type": "markdown",
   "metadata": {},
   "source": [
    "## Left-looking algorithms: reducing the number of inner products"
   ]
  },
  {
   "cell_type": "code",
   "execution_count": 5,
   "metadata": {},
   "outputs": [
    {
     "name": "stdout",
     "output_type": "stream",
     "text": [
      "gram_schmidt_classical 9.14e-16 1.42e+00\n"
     ]
    }
   ],
   "source": [
    "def gram_schmidt_classical(A):\n",
    "    Q = np.zeros_like(A)\n",
    "    R = np.zeros((len(A.T),len(A.T)))\n",
    "    for i in range(len(Q.T)):\n",
    "        v = A[:,i].copy()\n",
    "        R[:i,i] = Q[:,:i].T @ v\n",
    "        v -= Q[:,:i] @ R[:i,i]\n",
    "        R[i,i] = np.linalg.norm(v)\n",
    "        Q[:,i] = v / R[i,i]\n",
    "    return Q, R\n",
    "\n",
    "qr_test(gram_schmidt_classical, V)"
   ]
  },
  {
   "cell_type": "markdown",
   "metadata": {},
   "source": [
    "Classical Gram-Schmidt is highly parallel, but unstable, as evidenced by the lack of orthogonality in $Q$.\n",
    "\n",
    "### Right-looking algorithms\n",
    "\n",
    "The implementations above have been \"left-looking\"; when working on column $i$, we compare it only to columns to the left (i.e., $j < i$).  We can reorder the algorithm to look to the right by projecting $q_i$ out of all columns $j > i$.  This algorithm is stable while being just as parallel as `gram_schmidt_classical`."
   ]
  },
  {
   "cell_type": "code",
   "execution_count": 28,
   "metadata": {},
   "outputs": [
    {
     "name": "stdout",
     "output_type": "stream",
     "text": [
      "gram_schmidt_modified 8.32e-16 1.32e-08\n"
     ]
    }
   ],
   "source": [
    "def gram_schmidt_modified(A):\n",
    "    Q = A.copy()\n",
    "    R = np.zeros((len(A.T), len(A.T)))\n",
    "    for i in range(len(Q.T)):\n",
    "        R[i,i] = np.linalg.norm(Q[:,i])\n",
    "        Q[:,i] /= R[i,i]\n",
    "        R[i,i+1:] = Q[:,i].T @ Q[:,i+1:]\n",
    "        Q[:,i+1:] -= np.outer(Q[:,i], R[i,i+1:])\n",
    "    return Q, R\n",
    "\n",
    "qr_test(gram_schmidt_modified, V)"
   ]
  },
  {
   "cell_type": "markdown",
   "metadata": {},
   "source": [
    "### Stability\n",
    "\n",
    "Since QR factorization is unique (with positive diagonal of $R$), if we were to work in exact arithmetic, classical and modified Gram-Schmidt would produce the same result.  Note that modified Gram-Schmidt sequentially applies the projections into the orthogonal complement of each column $q_j$ of $Q$.  That is, given a vector $x$, we sequentially project $(I - q_j q_j^T) x$ for each column $j < i$.  This is equivalent to projecting all those columns at once due to\n",
    "\\begin{align}\n",
    "  (I - q_1 q_1^T) (I - q_0 q_0^T) x &= \\big(I - q_0 q_0^T - q_1 q_1^T + q_1 \\underbrace{q_1^T q_0}_{=0} q_0^T \\big) x \\\\\n",
    "  &= (I - q_0 q_0^T - q_1 q_1^T) x \\\\\n",
    "  &= (I - Q Q^T) x\n",
    "\\end{align}\n",
    "where $Q = [q_0 | q_1 ]$.  This identity can be applied recursively to convert modified Gram-Schmidt to classical, but the identity is not exact in finite precision arithmetic."
   ]
  },
  {
   "cell_type": "code",
   "execution_count": 7,
   "metadata": {},
   "outputs": [
    {
     "name": "stdout",
     "output_type": "stream",
     "text": [
      "norm(v) 1.4245900685395503\n",
      "r 1.7146698318004178e-07\n"
     ]
    },
    {
     "data": {
      "image/png": "[encoded data removed]",
      "text/plain": [
       "<Figure size 432x288 with 1 Axes>"
      ]
     },
     "metadata": {
      "needs_background": "light"
     },
     "output_type": "display_data"
    }
   ],
   "source": [
    "v = V[:,-1]\n",
    "print('norm(v)', np.linalg.norm(v))\n",
    "print('r', R[-1,-1])\n",
    "plt.semilogy(np.abs(Q.T @ v), 'o')\n",
    "plt.title('Inner products of v with Q');"
   ]
  },
  {
   "cell_type": "code",
   "execution_count": 8,
   "metadata": {},
   "outputs": [
    {
     "name": "stdout",
     "output_type": "stream",
     "text": [
      "[1, -0.6666666666666666, -0.22222222222222224, -0.07407407407407408, -0.024691358024691364, -0.008230452674897124, -0.0027434842249657075, -0.0009144947416552361, -0.0003048315805517454, -0.00010161052685058181, -3.3870175616860605e-05, -1.1290058538953536e-05, -3.763352846317846e-06, -1.2544509487726156e-06, -4.181503162575385e-07, -1.3938343875251286e-07, -4.6461146250837626e-08, -1.548704875027921e-08, -5.162349583426404e-09, -1.7207831944754682e-09, -5.735943981584894e-10]\n",
      "seq   abs 5.9562e-22  rel 2.0768e-12\n",
      "block abs 5.3534e-17  rel 1.8666e-07\n",
      "numpy abs 7.4670e-17  rel 2.6036e-07\n"
     ]
    },
    {
     "data": {
      "image/png": "[encoded data removed]",
      "text/plain": [
       "<Figure size 432x288 with 1 Axes>"
      ]
     },
     "metadata": {
      "needs_background": "light"
     },
     "output_type": "display_data"
    }
   ],
   "source": [
    "def test_sum(n):\n",
    "    def gen(first, n, factor=2/3):\n",
    "        l = [first]\n",
    "        ifactor = 1-factor\n",
    "        for i in range(n):\n",
    "            l.append(-first * factor * ifactor**i)\n",
    "        return l, first * ifactor**n\n",
    "    def sum_seq(numbers):\n",
    "        s = 0\n",
    "        for a in numbers:\n",
    "            s += a\n",
    "        return s\n",
    "    def sum_block(numbers):\n",
    "        s = 0\n",
    "        for a in numbers[1:]:\n",
    "            s += a\n",
    "        return numbers[0] + s\n",
    "    numbers, exact = gen(1, n)\n",
    "    print(numbers)\n",
    "    plt.semilogy(np.abs(numbers), 'o')\n",
    "    seq_err = sum_seq(numbers) - exact\n",
    "    block_err = sum_block(numbers) - exact\n",
    "    numpy_err = np.sum(numbers) - exact\n",
    "    print('seq   abs {:.4e}  rel {:.4e}'.format(seq_err, seq_err/exact))\n",
    "    print('block abs {:.4e}  rel {:.4e}'.format(block_err, block_err/exact))\n",
    "    print('numpy abs {:.4e}  rel {:.4e}'.format(numpy_err, numpy_err/exact))\n",
    "    \n",
    "test_sum(20)"
   ]
  },
  {
   "cell_type": "markdown",
   "metadata": {},
   "source": [
    "### Householder triangularization\n",
    "\n",
    "Gram-Schmidt methods perform triangular transformations to build an orthogonal matrix.  As we have seen, $X = QR$ is satisfied accurately, but $Q$ may not be orthogonal when $X$ is ill-conditioned.  Householder triangularization instead applies a sequence of orthogonal transformations to build a triangular matrix.\n",
    "\n",
    "$$ \\underbrace{Q_{n-1} \\dotsb Q_0}_{Q^T} A = R $$\n",
    "\n",
    "The structure of the algorithm is\n",
    "\n",
    "$$ \\underbrace{\\begin{bmatrix} * & * & * \\\\ * & * & * \\\\ * & * & * \\\\ * & * & * \\\\ * & * & * \\\\ \\end{bmatrix}}_{A} \\to\n",
    "\\underbrace{\\begin{bmatrix} * & * & * \\\\ 0 & * & * \\\\ 0 & * & * \\\\ 0 & * & * \\\\ 0 & * & * \\\\ \\end{bmatrix}}_{Q_0 A} \\to\n",
    "\\underbrace{\\begin{bmatrix} * & * & * \\\\ 0 & * & * \\\\ 0 & 0 & * \\\\ 0 & 0 & * \\\\ 0 & 0 & * \\\\ \\end{bmatrix}}_{Q_1 Q_0 A} \\to\n",
    "\\underbrace{\\begin{bmatrix} * & * & * \\\\ 0 & * & * \\\\ 0 & 0 & * \\\\ 0 & 0 & 0 \\\\ 0 & 0 & 0 \\\\ \\end{bmatrix}}_{Q_2 Q_1 Q_0 A}\n",
    "$$\n",
    "\n",
    "where the elementary orthogonal matrices $Q_i$ chosen to introduce zeros below the diagonal in the $i$th column of $R$.\n",
    "Each of these transformations will have the form\n",
    "$$Q_i = \\begin{bmatrix} I_i & 0 \\\\ 0 & F \\end{bmatrix}$$\n",
    "where $F$ is a \"reflection\" that achieves\n",
    "$$ F x = \\begin{bmatrix} \\lVert x \\rVert \\\\ 0 \\\\ 0 \\\\ \\vdots \\end{bmatrix} $$\n",
    "where $x$ is the column of $R$ from the diagonal down.\n",
    "This transformation is a reflection across a plane with normal $v = Fx - x = \\lVert x \\rVert e_1 - x$.\n",
    "\n",
    "![Householder Reflector (Trefethen and Bau, 1999)](TB-Householder.png)\n",
    "\n",
    "The reflection, as depected above by Trefethen and Bau (1999) can be written $F = I - 2 \\frac{v v^T}{v^T v}$."
   ]
  },
  {
   "cell_type": "code",
   "execution_count": 9,
   "metadata": {},
   "outputs": [
    {
     "data": {
      "text/plain": [
       "array([[1.71984228, 0.68338128, 1.12543662, 0.59188991],\n",
       "       [0.68338128, 1.5609485 , 1.03109546, 1.4707089 ],\n",
       "       [1.12543662, 1.03109546, 0.02375504, 0.71686222],\n",
       "       [0.59188991, 1.4707089 , 0.71686222, 0.88113581]])"
      ]
     },
     "execution_count": 9,
     "metadata": {},
     "output_type": "execute_result"
    }
   ],
   "source": [
    "A = np.random.rand(4, 4)\n",
    "A = A + A.T # Random symmetric matrix\n",
    "A"
   ]
  },
  {
   "cell_type": "code",
   "execution_count": 10,
   "metadata": {},
   "outputs": [
    {
     "data": {
      "text/plain": [
       "array([[0., 0., 0., 0.],\n",
       "       [0., 0., 0., 0.],\n",
       "       [0., 0., 0., 0.],\n",
       "       [0., 0., 0., 0.]])"
      ]
     },
     "execution_count": 10,
     "metadata": {},
     "output_type": "execute_result"
    }
   ],
   "source": [
    "A.T - A"
   ]
  },
  {
   "cell_type": "code",
   "execution_count": 29,
   "metadata": {},
   "outputs": [
    {
     "data": {
      "text/plain": [
       "array([[ 1.    ,  0.    ,  0.    ,  0.    ],\n",
       "       [ 0.    ,  0.4734,  0.7796,  0.41  ],\n",
       "       [ 0.    ,  0.7796, -0.1542, -0.607 ],\n",
       "       [ 0.    ,  0.41  , -0.607 ,  0.6808]])"
      ]
     },
     "execution_count": 29,
     "metadata": {},
     "output_type": "execute_result"
    }
   ],
   "source": [
    "from scipy.linalg import block_diag\n",
    "np.set_printoptions(precision=4)\n",
    "\n",
    "def reflector(v):\n",
    "    return np.eye(len(v)) - 2*np.outer(v, v)\n",
    "\n",
    "v = A[1:,0].copy()\n",
    "v[0] -= np.linalg.norm(v)\n",
    "v = v / np.linalg.norm(v)\n",
    "F = reflector(v)\n",
    "Q_0 = block_diag(np.eye(1), F)\n",
    "Q_0"
   ]
  },
  {
   "cell_type": "code",
   "execution_count": 30,
   "metadata": {},
   "outputs": [
    {
     "data": {
      "text/plain": [
       "array([[ 1.7198e+00,  6.8338e-01,  1.1254e+00,  5.9189e-01],\n",
       "       [ 1.4436e+00,  2.1458e+00,  8.0055e-01,  1.6164e+00],\n",
       "       [-6.8853e-17,  1.6526e-01,  3.6506e-01,  5.0122e-01],\n",
       "       [-2.8229e-17,  1.0154e+00,  8.9636e-01,  7.6773e-01]])"
      ]
     },
     "execution_count": 30,
     "metadata": {},
     "output_type": "execute_result"
    }
   ],
   "source": [
    "Q_0 @ A"
   ]
  },
  {
   "cell_type": "code",
   "execution_count": 31,
   "metadata": {},
   "outputs": [
    {
     "data": {
      "text/plain": [
       "array([[ 1.7198e+00,  1.4436e+00, -6.8853e-17, -2.8229e-17],\n",
       "       [ 6.8338e-01,  2.1458e+00,  1.6526e-01,  1.0154e+00],\n",
       "       [ 1.1254e+00,  8.0055e-01,  3.6506e-01,  8.9636e-01],\n",
       "       [ 5.9189e-01,  1.6164e+00,  5.0122e-01,  7.6773e-01]])"
      ]
     },
     "execution_count": 31,
     "metadata": {},
     "output_type": "execute_result"
    }
   ],
   "source": [
    "A @ Q_0"
   ]
  },
  {
   "cell_type": "code",
   "execution_count": 14,
   "metadata": {},
   "outputs": [
    {
     "name": "stdout",
     "output_type": "stream",
     "text": [
      "qr_householder1      1.88e-15 3.17e-16\n"
     ]
    }
   ],
   "source": [
    "def householder_Q_times(V, x):\n",
    "    \"\"\"Apply orthogonal matrix represented as list of Householder reflectors\"\"\"\n",
    "    y = x.copy()\n",
    "    for i in reversed(range(len(V))):\n",
    "        y[i:] -= 2 * V[i] * V[i].dot(y[i:])\n",
    "    return y\n",
    "\n",
    "def qr_householder1(A):\n",
    "    \"Compute QR factorization using naive Householder reflection\"\n",
    "    m, n = A.shape\n",
    "    R = A.copy()\n",
    "    V = []\n",
    "    for i in range(n):\n",
    "        x = R[i:,i]\n",
    "        v = -x\n",
    "        v[0] += np.linalg.norm(x)\n",
    "        v = v/np.linalg.norm(v)     # Normalized reflector plane\n",
    "        R[i:,i:] -= 2 * np.outer(v, v @ R[i:,i:])\n",
    "        V.append(v)                    # Storing reflectors is equivalent to storing orthogonal matrix\n",
    "    Q = np.eye(m, n)\n",
    "    for i in range(n):\n",
    "        Q[:,i] = householder_Q_times(V, Q[:,i])\n",
    "    return Q, np.triu(R[:n,:])\n",
    "\n",
    "qr_test(qr_householder1, np.array([[1.,2],[3,4],[5,6]]))"
   ]
  },
  {
   "cell_type": "code",
   "execution_count": 32,
   "metadata": {},
   "outputs": [
    {
     "name": "stdout",
     "output_type": "stream",
     "text": [
      "qr_householder1      3.15e-15 3.48e-15\n",
      "qr                   2.74e-15 2.39e-15\n"
     ]
    }
   ],
   "source": [
    "qr_test(qr_householder1, V)\n",
    "qr_test(np.linalg.qr, V)"
   ]
  },
  {
   "cell_type": "markdown",
   "metadata": {},
   "source": [
    "### Choice of two projections\n",
    "\n",
    "It turns out our implementation has a nasty deficiency."
   ]
  },
  {
   "cell_type": "code",
   "execution_count": 33,
   "metadata": {},
   "outputs": [
    {
     "name": "stdout",
     "output_type": "stream",
     "text": [
      "qr_householder1      nan nan\n"
     ]
    },
    {
     "name": "stderr",
     "output_type": "stream",
     "text": [
      "/usr/lib/python3.7/site-packages/ipykernel_launcher.py:17: RuntimeWarning: invalid value encountered in true_divide\n"
     ]
    }
   ],
   "source": [
    "qr_test(qr_householder1, np.eye(1))"
   ]
  },
  {
   "cell_type": "code",
   "execution_count": 17,
   "metadata": {},
   "outputs": [
    {
     "name": "stdout",
     "output_type": "stream",
     "text": [
      "qr_householder1      nan nan\n"
     ]
    },
    {
     "name": "stderr",
     "output_type": "stream",
     "text": [
      "/usr/lib/python3.7/site-packages/ipykernel_launcher.py:17: RuntimeWarning: invalid value encountered in true_divide\n"
     ]
    }
   ],
   "source": [
    "qr_test(qr_householder1, np.eye(3,2))"
   ]
  },
  {
   "cell_type": "markdown",
   "metadata": {},
   "source": [
    "Inside `qr_householder1`, we have the lines\n",
    "```\n",
    "        x = R[i:,i]\n",
    "        v = -x\n",
    "        v[0] += numpy.linalg.norm(x)\n",
    "        v = v/numpy.linalg.norm(v)     # Normalized reflector plane\n",
    "```\n",
    "What happens when $$x = \\begin{bmatrix}1 \\\\ 0 \\end{bmatrix}$$\n",
    "(i.e., the column of $R$ is already upper triangular)?\n",
    "\n",
    "We are trying to define a reflector plane (via its normal vector) from the zero vector,\n",
    "$$v = \\lVert x \\rVert e_0 - x .$$\n",
    "When we try to normalize this vector, we divide zero by zero and the algorithm breaks down (`nan`).  Maybe we just need to test for this special case and \"skip ahead\" when no reflection is needed?  And if so, how would we define $Q$?"
   ]
  },
  {
   "cell_type": "code",
   "execution_count": 18,
   "metadata": {},
   "outputs": [
    {
     "name": "stdout",
     "output_type": "stream",
     "text": [
      "qr_householder1      2.20e-09 4.44e-16\n",
      "(array([[ 1.0000e+00, -2.2204e-08],\n",
      "       [ 2.2204e-08,  1.0000e+00]]), array([[1., 1.],\n",
      "       [0., 1.]]))\n"
     ]
    }
   ],
   "source": [
    "qr_test(qr_householder1, np.array([[1.,1], [2e-8,1]]))\n",
    "print(qr_householder1(np.array([[1.,1], [2e-8,1]])))"
   ]
  },
  {
   "cell_type": "markdown",
   "metadata": {},
   "source": [
    "The error $QR - A$ is still $10^{-8}$ for this very well-conditioned matrix so something else must be at play here.\n",
    "\n",
    "![Choosing the better of two Householder reflectors (Trefethen and Bau, 1999).](TB-Householder2.png)"
   ]
  },
  {
   "cell_type": "code",
   "execution_count": 34,
   "metadata": {},
   "outputs": [
    {
     "name": "stdout",
     "output_type": "stream",
     "text": [
      "qr_householder2      0.00e+00 0.00e+00\n",
      "qr_householder2      0.00e+00 0.00e+00\n",
      "[[-1.e+00  1.e-08]\n",
      " [-1.e-08 -1.e+00]]\n",
      "[[-1. -1.]\n",
      " [ 0. -1.]]\n",
      "qr_householder2      5.20e-15 3.58e-15\n"
     ]
    }
   ],
   "source": [
    "def qr_householder2(A):\n",
    "    \"Compute QR factorization using Householder reflection\"\n",
    "    m, n = A.shape\n",
    "    R = A.copy()\n",
    "    V = []\n",
    "    for i in range(n):\n",
    "        v = R[i:,i].copy()\n",
    "        v[0] += np.sign(v[0]) * np.linalg.norm(v) # Choose the further of the two reflections\n",
    "        v = v/np.linalg.norm(v)     # Normalized reflector plane\n",
    "        R[i:,i:] -= np.outer(v, 2 * (v.T @ R[i:,i:]))\n",
    "        V.append(v)                    # Storing reflectors is equivalent to storing orthogonal matrix\n",
    "    Q = np.eye(m, n)\n",
    "    for i in range(n):\n",
    "        Q[:,i] = householder_Q_times(V, Q[:,i])\n",
    "    return Q, np.triu(R[:n,:])\n",
    "\n",
    "qr_test(qr_householder2, np.eye(3,2))\n",
    "qr_test(qr_householder2, np.array([[1.,1], [1e-8,1]]))\n",
    "for mat in qr_householder2(np.array([[1.,1], [1e-8,1]])):\n",
    "    print(mat)\n",
    "\n",
    "qr_test(qr_householder2, V)"
   ]
  },
  {
   "cell_type": "markdown",
   "metadata": {},
   "source": [
    "We now have a usable implementation of Householder QR.  There are some further concerns for factoring rank-deficient matrices.  We will visit the concept of pivoting later, in the context of LU and Cholesky factorization.\n",
    "\n",
    "## Conditioning\n",
    "\n",
    "### Absolute condition number\n",
    "Consider a function $f: X \\to Y$ and define the *absolute condition number*\n",
    "$$ \\hat\\kappa = \\lim_{\\delta \\to 0} \\max_{|\\delta x| < \\delta} \\frac{|f(x + \\delta x) - f(x)|}{|\\delta x|} = \\max_{\\delta x} \\frac{|\\delta f|}{|\\delta x|}. $$\n",
    "If $f$ is differentiable, then $\\hat\\kappa = |f'(x)|$.\n",
    "\n",
    "### Floating point arithmetic\n",
    "Floating point arithmetic $x \\circledast y := \\text{float}(x * y)$ is exact within a relative accuracy $\\epsilon_{\\text{machine}}$.  Formally,\n",
    "$$ x \\circledast y = (x * y) (1 + \\epsilon) $$\n",
    "for some $|\\epsilon| \\le \\epsilon_{\\text{machine}}$."
   ]
  },
  {
   "cell_type": "code",
   "execution_count": 35,
   "metadata": {},
   "outputs": [
    {
     "name": "stdout",
     "output_type": "stream",
     "text": [
      "Machine epsilon = 1.1102230246251565e-16\n"
     ]
    },
    {
     "data": {
      "text/plain": [
       "2.220446049250313e-16"
      ]
     },
     "execution_count": 35,
     "metadata": {},
     "output_type": "execute_result"
    }
   ],
   "source": [
    "eps = 1\n",
    "while 1 + eps > 1:\n",
    "    eps /= 2\n",
    "eps_machine = eps\n",
    "print('Machine epsilon = {}'.format(eps_machine))\n",
    "(1 + 1.12e-16) - 1"
   ]
  },
  {
   "cell_type": "code",
   "execution_count": 36,
   "metadata": {},
   "outputs": [
    {
     "data": {
      "image/png": "[encoded data removed]",
      "text/plain": [
       "<Figure size 432x288 with 1 Axes>"
      ]
     },
     "metadata": {
      "needs_background": "light"
     },
     "output_type": "display_data"
    }
   ],
   "source": [
    "def plot_neighborhood(f, x0, atol=1e-10, rtol=1e-10):\n",
    "    width = atol + rtol * np.abs(x0)\n",
    "    x = np.linspace(x0 - width, x0 + width, 201)\n",
    "    plt.plot(x, f(x))\n",
    "    plt.xlabel('x')\n",
    "    plt.ylabel('f(x)')\n",
    "\n",
    "plot_neighborhood(lambda x: (x + 1) - 1, 0, 1e-15)"
   ]
  },
  {
   "cell_type": "markdown",
   "metadata": {},
   "source": [
    "This function $f(x) = (x + 1) - 1 = x$ is well conditioned for all $x$, but this numerical algorithm is unstable (we'll discuss this below)."
   ]
  },
  {
   "cell_type": "code",
   "execution_count": 23,
   "metadata": {},
   "outputs": [
    {
     "data": {
      "image/png": "[encoded data removed]",
      "text/plain": [
       "<Figure size 432x288 with 1 Axes>"
      ]
     },
     "metadata": {
      "needs_background": "light"
     },
     "output_type": "display_data"
    }
   ],
   "source": [
    "plot_neighborhood(np.log, 1, .5)"
   ]
  },
  {
   "cell_type": "markdown",
   "metadata": {},
   "source": [
    "The function $f(x) = \\log x$ has $f'(1) = 1$.  The conditioning is good in an absolute sense, $\\hat \\kappa = 1$.  However, the outputs from `np.log(1+x)` have large relative error relative to the exact value, provided here by the function `np.log1p(x)`."
   ]
  },
  {
   "cell_type": "code",
   "execution_count": 24,
   "metadata": {},
   "outputs": [
    {
     "data": {
      "image/png": "[encoded data removed]",
      "text/plain": [
       "<Figure size 432x288 with 1 Axes>"
      ]
     },
     "metadata": {
      "needs_background": "light"
     },
     "output_type": "display_data"
    }
   ],
   "source": [
    "plot_neighborhood(lambda x: np.log(1+x), 0, atol=1e-15)\n",
    "plot_neighborhood(np.log1p, 0, atol=1e-15)"
   ]
  },
  {
   "cell_type": "markdown",
   "metadata": {},
   "source": [
    "### Relative condition number\n",
    "\n",
    "Given the relative nature of floating point arithmetic, it is more useful to discuss **relative condition number**,\n",
    "$$ \\kappa = \\max_{\\delta x} \\frac{|\\delta f|/|f|}{|\\delta x|/|x|}\n",
    "= \\max_{\\delta x} \\Big[ \\frac{|\\delta f|/|\\delta x|}{|f| / |x|} \\Big] $$\n",
    "or, if $f$ is differentiable,\n",
    "$$ \\kappa = |f'(x)| \\frac{|x|}{|f|} . $$\n",
    "\n",
    "How does a condition number get big?\n",
    "\n",
    "#### Take-home message\n",
    "\n",
    "The relative accuracy of the best-case algorithm will not be reliably better than $\\epsilon_{\\text{machine}}$ times the condition number.\n",
    "$$ \\max_{\\delta x} \\frac{|\\delta f|}{|f|} \\ge \\kappa \\cdot \\epsilon_{\\text{machine}} .$$"
   ]
  },
  {
   "cell_type": "markdown",
   "metadata": {},
   "source": [
    "## Stability\n",
    "\n",
    "We use the notation $\\tilde f(x)$ to mean a numerical algorithm for approximating $f(x)$.  Additionally, $\\tilde x = x (1 + \\epsilon)$ is some \"good\" approximation of the exact input $x$.\n",
    "\n",
    "### (Forward) Stability\n",
    "**\"nearly the right answer to nearly the right question\"**\n",
    "$$ \\frac{\\lvert \\tilde f(x) - f(\\tilde x) \\rvert}{| f(\\tilde x) |} \\in O(\\epsilon_{\\text{machine}}) $$\n",
    "for some $\\tilde x$ that is close to $x$\n",
    "\n",
    "### Backward Stability\n",
    "**\"exactly the right answer to nearly the right question\"**\n",
    "$$ \\tilde f(x) = f(\\tilde x) $$\n",
    "for some $\\tilde x$ that is close to $x$\n",
    "\n",
    "* Every backward stable algorithm is stable.\n",
    "* Not every stable algorithm is backward stable.\n",
    "\n",
    "### Accuracy of backward stable algorithms (Theorem)\n",
    "\n",
    "A backward stable algorithm for computing $f(x)$ has relative accuracy\n",
    "$$ \\left\\lvert \\frac{\\tilde f(x) - f(x)}{f(x)} \\right\\rvert \\in O(\\kappa(f) \\epsilon_{\\text{machine}}) . $$\n",
    "This is a rewording of a statement made earlier -- backward stability is the best case."
   ]
  },
  {
   "cell_type": "markdown",
   "metadata": {},
   "source": [
    "### Condition number of a matrix\n",
    "\n",
    "We may have informally referred to a matrix as \"ill-conditioned\" when the columns are nearly linearly dependent, but let's make this concept for precise.  Recall the definition of (relative) condition number from the Rootfinding notes,\n",
    "\n",
    "$$ \\kappa = \\max_{\\delta x} \\frac{|\\delta f|/|f|}{|\\delta x|/|x|} . $$\n",
    "\n",
    "We understood this definition for scalar problems, but it also makes sense when the inputs and/or outputs are vectors (or matrices, etc.) and absolute value is replaced by vector (or matrix) norms.  Let's consider the case of matrix-vector multiplication, for which $f(x) = A x$.\n",
    "\n",
    "$$ \\kappa(A) = \\max_{\\delta x} \\frac{\\lVert A (x+\\delta x) - A x \\rVert/\\lVert A x \\rVert}{\\lVert \\delta x\\rVert/\\lVert x \\rVert}\n",
    "= \\max_{\\delta x} \\frac{\\lVert A \\delta x \\rVert}{\\lVert \\delta x \\rVert} \\, \\frac{\\lVert x \\rVert}{\\lVert A x \\rVert} = \\lVert A \\rVert \\frac{\\lVert x \\rVert}{\\lVert A x \\rVert} . $$\n",
    "\n",
    "There are two problems here:\n",
    "\n",
    "* I wrote $\\kappa(A)$ but my formula depends on $x$.\n",
    "* What is that $\\lVert A \\rVert$ beastie?\n",
    "\n",
    "### Stack push: Matrix norms\n",
    "\n",
    "Vector norms are built into the linear space (and defined in term of the inner product).  Matrix norms are *induced* by vector norms, according to\n",
    "\n",
    "$$ \\lVert A \\rVert = \\max_{x \\ne 0} \\frac{\\lVert A x \\rVert}{\\lVert x \\rVert} . $$\n",
    "\n",
    "* This equation makes sense for non-square matrices -- the vector norms of the input and output spaces may differ.\n",
    "* Due to linearity, all that matters is direction of $x$, so it could equivalently be written\n",
    "\n",
    "$$ \\lVert A \\rVert = \\max_{\\lVert x \\rVert = 1} \\lVert A x \\rVert . $$\n",
    "\n",
    "### Stack pop\n",
    "\n",
    "Now we understand the formula for condition number, but it depends on $x$.  Consider the matrix\n",
    "\n",
    "$$ A = \\begin{bmatrix} 1 & 0 \\\\ 0 & 0 \\end{bmatrix} . $$\n",
    "\n",
    "* What is the norm of this matrix?\n",
    "* What is the condition number when $x = [1,0]^T$?\n",
    "* What is the condition number when $x = [0,1]^T$?\n",
    "\n",
    "The condition number of matrix-vector multiplication depends on the vector.  The condition number of the matrix is the worst case (maximum) of the condition number for any vector, i.e.,\n",
    "\n",
    "$$ \\kappa(A) = \\max_{x \\ne 0} \\lVert A \\rVert \\frac{\\lVert x \\rVert}{\\lVert A x \\rVert} .$$\n",
    "\n",
    "If $A$ is invertible, then we can rephrase as\n",
    "\n",
    "$$ \\kappa(A) = \\max_{x \\ne 0} \\lVert A \\rVert \\frac{\\lVert A^{-1} (A x) \\rVert}{\\lVert A x \\rVert} =\n",
    "\\max_{A x \\ne 0} \\lVert A \\rVert \\frac{\\lVert A^{-1} (A x) \\rVert}{\\lVert A x \\rVert} = \\lVert A \\rVert \\lVert A^{-1} \\rVert . $$\n",
    "\n",
    "Evidently multiplying by a matrix is just as ill-conditioned of an operation as solving a linear system using that matrix."
   ]
  },
  {
   "cell_type": "code",
   "execution_count": 37,
   "metadata": {},
   "outputs": [
    {
     "name": "stdout",
     "output_type": "stream",
     "text": [
      "4.440892098500626e-16\n"
     ]
    },
    {
     "data": {
      "text/plain": [
       "array([1., 2., 3., 4.])"
      ]
     },
     "execution_count": 37,
     "metadata": {},
     "output_type": "execute_result"
    }
   ],
   "source": [
    "def R_solve(R, b):\n",
    "    \"\"\"Solve Rx = b using back substitution.\"\"\"\n",
    "    x = b.copy()\n",
    "    m = len(b)\n",
    "    for i in reversed(range(m)):\n",
    "        x[i] -= R[i,i+1:].dot(x[i+1:])\n",
    "        x[i] /= R[i,i]\n",
    "    return x\n",
    "\n",
    "Q, R = np.linalg.qr(A)\n",
    "x = np.array([1,2,3,4])\n",
    "bfull = A @ x\n",
    "breduced = Q.T @ bfull\n",
    "print(np.linalg.norm(R_solve(R, breduced)\n",
    "                     - np.linalg.solve(R, breduced)))\n",
    "R_solve(R, breduced)"
   ]
  },
  {
   "cell_type": "markdown",
   "metadata": {},
   "source": [
    "### Cost of Householder factorization\n",
    "\n",
    "The dominant cost comes from the line\n",
    "```Python\n",
    "    R[i:,i:] -= 2 * numpy.outer(v, v.dot(R[i:,i:]))\n",
    "```\n",
    "were `R[i:,i:]` is an $(m-i)\\times(n-i)$ matrix.\n",
    "This line performs $2(m-i)(n-i)$ operations in `v.dot(R[i:,i:])`, another $(m-i)(n-i)$ in the \"outer\" product and again in subtraction.  As written, multiplication by 2 would be another $(m-i)(n-i)$ operations, but is only $m-i$ operations if we rewrite as\n",
    "```Python\n",
    "    w = 2*v\n",
    "    R[i:,i:] -= numpy.outer(w, v.dot(R[i:,i:]))\n",
    "```\n",
    "in which case the leading order cost is $4(m-i)(n-i)$.  To compute the total cost, we need to sum over all columns $i$,\n",
    "$$\\begin{split} \\sum_{i=1}^n 4(m-i)(n-i) &= 4 \\Big[ \\sum_{i=1}^n (m-n)(n-i) + \\sum_{i=1}^n (n-i)^2 \\Big] \\\\\n",
    "&= 4 (m-n) \\sum_{i=1}^n i + 4 \\sum_{i=1}^n i^2 \\\\\n",
    "&\\approx 2 (m-n) n^2 + 4 n^3/3 \\\\\n",
    "&= 2 m n^2 - \\frac 2 3 n^3 .\n",
    "\\end{split}$$\n",
    "Recall that Gram-Schmidt QR cost $2 m n^2$, so Householder costs about the same when $m \\gg n$ and is markedly less expensive when $m \\approx n$.\n",
    "\n",
    "### Backward Stability of Housholder"
   ]
  },
  {
   "cell_type": "code",
   "execution_count": 27,
   "metadata": {},
   "outputs": [
    {
     "name": "stdout",
     "output_type": "stream",
     "text": [
      "# Forward error\n",
      "Q error 9.380829776561018\n",
      "R error 1.3114908995362393\n",
      "# Backward error\n",
      "Q2.T @ Q2 - I 0.008203364853000912\n",
      "Q2*R2 - A 2.797766695296299e-16\n",
      "Q3*R3 - A 7.070141269858638e-05\n"
     ]
    }
   ],
   "source": [
    "def qr_test_backward(qr, n):\n",
    "    from numpy.linalg import norm\n",
    "    from numpy.random import randn\n",
    "    R = np.triu(randn(n,n))\n",
    "    Q, _ = np.linalg.qr(randn(n,n))\n",
    "    A = Q @ R\n",
    "    Q2, R2 = qr(A)\n",
    "    print('# Forward error')\n",
    "    print('Q error', norm(Q2 - Q))\n",
    "    print('R error', norm(R2 - R) / norm(R))\n",
    "    print('# Backward error')\n",
    "    A2 = Q2 @ R2\n",
    "    print('Q2.T @ Q2 - I', norm(Q2.T @ Q2 - np.eye(n)))\n",
    "    print('Q2*R2 - A', norm(A2 - A) / norm(A))\n",
    "    Q3, R3 = Q + 1e-5*randn(n,n), R + 1e-5*np.triu(randn(n,n))\n",
    "    A3 = Q3 @ R3\n",
    "    print('Q3*R3 - A', norm(A3 - A) / norm(A))\n",
    "\n",
    "qr_test_backward(gram_schmidt_modified, 50)\n",
    "#qr_test_backward(np.linalg.qr, 50)"
   ]
  },
  {
   "cell_type": "markdown",
   "metadata": {},
   "source": [
    "## Back to parallelism: Cholesky QR (one reduction)"
   ]
  },
  {
   "cell_type": "code",
   "execution_count": 9,
   "metadata": {},
   "outputs": [
    {
     "name": "stdout",
     "output_type": "stream",
     "text": [
      "chol_qr              8.12e-15 1.07e-01\n"
     ]
    }
   ],
   "source": [
    "def chol_qr(A):\n",
    "    import scipy.linalg as la\n",
    "    B = A.T @ A\n",
    "    R = la.cholesky(B)\n",
    "    Q = A @ la.inv(R)\n",
    "    return Q, R\n",
    "    \n",
    "qr_test(chol_qr, V)"
   ]
  },
  {
   "cell_type": "code",
   "execution_count": 11,
   "metadata": {},
   "outputs": [
    {
     "name": "stdout",
     "output_type": "stream",
     "text": [
      "chol_qr2             8.36e-15 1.29e-15\n"
     ]
    }
   ],
   "source": [
    "def chol_qr2(A):\n",
    "    import scipy.linalg as la\n",
    "    B = A.T @ A\n",
    "    R = la.cholesky(B)\n",
    "    Q = A @ la.inv(R)\n",
    "    R2 = la.cholesky(Q.T @ Q)\n",
    "    Q = Q @ la.inv(R2)\n",
    "    R = R2 @ R\n",
    "    return Q, R\n",
    "\n",
    "qr_test(chol_qr2, V)"
   ]
  },
  {
   "cell_type": "markdown",
   "metadata": {},
   "source": [
    "## TSQR: Tall-Skinny QR\n",
    "\n",
    "![](ballard-tsqr.png)\n",
    "Figure from [Ballard et al](https://www.sandia.gov/~gmballa/talks/SIAMPP14.pdf)."
   ]
  }
 ],
 "metadata": {
  "kernelspec": {
   "display_name": "Python 3",
   "language": "python",
   "name": "python3"
  },
  "language_info": {
   "codemirror_mode": {
    "name": "ipython",
    "version": 3
   },
   "file_extension": ".py",
   "mimetype": "text/x-python",
   "name": "python",
   "nbconvert_exporter": "python",
   "pygments_lexer": "ipython3",
   "version": "3.7.4"
  }
 },
 "nbformat": 4,
 "nbformat_minor": 4
}
