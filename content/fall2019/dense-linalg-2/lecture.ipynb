{
 "cells": [
  {
   "cell_type": "markdown",
   "metadata": {},
   "source": [
    "```c\n",
    "#pragma omp parallel\n",
    "    {\n",
    "      for (size_t rep=0; rep<args.repetitions; rep++) {\n",
    "#pragma omp for\n",
    "        for (size_t i=0; i<args.array_len; i++)\n",
    "          y[i] += 3.14 * x[i];\n",
    "      }\n",
    "    }\n",
    "```"
   ]
  },
  {
   "cell_type": "markdown",
   "metadata": {},
   "source": [
    "```c\n",
    "    for (size_t rep=0; rep<args.repetitions; rep++) {\n",
    "#pragma omp parallel for\n",
    "      for (size_t i=0; i<args.array_len; i++)\n",
    "        y[i] += 3.14 * x[i];\n",
    "    }\n",
    "```"
   ]
  },
  {
   "cell_type": "code",
   "execution_count": 17,
   "metadata": {},
   "outputs": [
    {
     "name": "stdout",
     "output_type": "stream",
     "text": [
      "cc -O3 -march=native -fopenmp -Wall    omp-test.c   -o omp-test\n"
     ]
    }
   ],
   "source": [
    "! make CFLAGS='-O3 -march=native -fopenmp -Wall' -B omp-test"
   ]
  },
  {
   "cell_type": "code",
   "execution_count": 18,
   "metadata": {},
   "outputs": [
    {
     "name": "stdout",
     "output_type": "stream",
     "text": [
      "omp for         : 0.770512 ticks per entry\n",
      "omp parallel for: 1.576261 ticks per entry\n",
      "omp for         : 0.419312 ticks per entry\n",
      "omp parallel for: 1.475976 ticks per entry\n",
      "omp for         : 0.426896 ticks per entry\n",
      "omp parallel for: 1.021856 ticks per entry\n",
      "omp for         : 0.494572 ticks per entry\n",
      "omp parallel for: 1.270378 ticks per entry\n",
      "omp for         : 0.444213 ticks per entry\n",
      "omp parallel for: 1.009316 ticks per entry\n",
      "omp for         : 0.579121 ticks per entry\n",
      "omp parallel for: 1.024148 ticks per entry\n",
      "omp for         : 0.531494 ticks per entry\n",
      "omp parallel for: 1.174585 ticks per entry\n",
      "omp for         : 0.442223 ticks per entry\n",
      "omp parallel for: 1.147614 ticks per entry\n",
      "omp for         : 0.446249 ticks per entry\n",
      "omp parallel for: 1.084162 ticks per entry\n",
      "omp for         : 0.576802 ticks per entry\n",
      "omp parallel for: 1.325817 ticks per entry\n"
     ]
    }
   ],
   "source": [
    "! ./omp-test -r 10000"
   ]
  },
  {
   "cell_type": "markdown",
   "metadata": {},
   "source": [
    "## Matrix-matrix multiply\n",
    "\n",
    "### Start local\n",
    "\n",
    "![BLIS GEMM kernels](blis-gemm-kernels.png)"
   ]
  },
  {
   "cell_type": "markdown",
   "metadata": {},
   "source": [
    "![BLIS cache levels](blis-cache.png)\n",
    "\n",
    "#### Further reading\n",
    "* http://www.cs.utexas.edu/users/flame/pubs/blis2_toms_rev3.pdf\n",
    "* http://www.cs.utexas.edu/users/flame/pubs/blis3_ipdps14.pdf"
   ]
  },
  {
   "cell_type": "code",
   "execution_count": 2,
   "metadata": {},
   "outputs": [],
   "source": [
    "%matplotlib inline\n",
    "import numpy as np\n",
    "import matplotlib.pyplot as plt\n",
    "plt.style.use('seaborn')"
   ]
  },
  {
   "cell_type": "markdown",
   "metadata": {},
   "source": [
    "## Orthogonalization and QR factorization"
   ]
  },
  {
   "cell_type": "markdown",
   "metadata": {},
   "source": [
    "Given a collection of vectors (columns of a matrix), we can find an orthogonal basis by applying the above procedure one column at a time and saving the result.  Let's think of the first two columns,\n",
    "$$ \\Bigg[ a_0 \\, \\Bigg| \\, a_1 \\Bigg] = \\Bigg[ q_0 \\,\\Bigg|\\, q_1 \\Bigg]\n",
    "\\begin{bmatrix} r_{00} & r_{01} \\\\ 0 & r_{11} \\end{bmatrix} . $$\n",
    "#### Column 0\n",
    "The equation for column 0 reads\n",
    "$$ a_0 = q_0 r_{00} $$\n",
    "and we require that $\\lVert q_0 \\rVert = 1$, thus\n",
    "$$ r_{00} = \\lVert a_0 \\rVert $$\n",
    "and\n",
    "$$ q_0 = a_0 / r_{00} . $$\n",
    "#### Column 1\n",
    "This equation reads\n",
    "$$ a_1 = q_0 r_{01} + q_1 r_{11} $$\n",
    "where $a_1$ and $q_0$ are known and we will require that $q_0^T q_1 = 0$.\n",
    "We can find the part of $a_1$ that is orthogonal to $q_0$ via\n",
    "$$ (I - q_0 q_0^T) a_1 = a_1 - q_0 \\underbrace{q_0^T a_1}_{r_{01}} $$\n",
    "leaving a sub-problem equivalent to that of column 0."
   ]
  },
  {
   "cell_type": "code",
   "execution_count": 19,
   "metadata": {},
   "outputs": [
    {
     "name": "stdout",
     "output_type": "stream",
     "text": [
      "[[ 1.00000000e+00  2.06727448e-17 -7.22457952e-17 -2.05232865e-16]\n",
      " [ 2.06727448e-17  1.00000000e+00  1.13635722e-16 -5.08904737e-16]\n",
      " [-7.22457952e-17  1.13635722e-16  1.00000000e+00  4.66276733e-17]\n",
      " [-2.05232865e-16 -5.08904737e-16  4.66276733e-17  1.00000000e+00]]\n",
      "4.744563050812836e-16\n"
     ]
    },
    {
     "data": {
      "image/png": "[encoded data removed]",
      "text/plain": [
       "<Figure size 432x288 with 1 Axes>"
      ]
     },
     "metadata": {
      "needs_background": "light"
     },
     "output_type": "display_data"
    }
   ],
   "source": [
    "def gram_schmidt_naive(A):\n",
    "    \"\"\"Compute a QR factorization of A using the Gram-Schmidt algorithm\"\"\"\n",
    "    Q = np.zeros_like(A)\n",
    "    R = np.zeros((A.shape[1], A.shape[1]))\n",
    "    for i in range(len(Q.T)):\n",
    "        v = A[:,i].copy()\n",
    "        for j in range(i):\n",
    "            r = Q[:,j] @ v\n",
    "            R[j,i] = r\n",
    "            v -= Q[:,j] * r # \"modified Gram-Schmidt\"\n",
    "        R[i,i] = np.linalg.norm(v)\n",
    "        Q[:,i] = v / R[i,i]\n",
    "    return Q, R\n",
    "\n",
    "x = np.linspace(-1, 1)\n",
    "A = np.vander(x, 4, increasing=True)\n",
    "Q, R = gram_schmidt_naive(A)\n",
    "print(Q.T @ Q)\n",
    "print(np.linalg.norm(Q @ R - A))\n",
    "plt.plot(x, Q);"
   ]
  },
  {
   "cell_type": "markdown",
   "metadata": {},
   "source": [
    "### Theorem: all full-rank $m\\times n$ matrices ($m \\ge n$) have a unique $Q R$ factorization with $R_{j,j} > 0$.\n"
   ]
  },
  {
   "cell_type": "code",
   "execution_count": 20,
   "metadata": {},
   "outputs": [
    {
     "name": "stdout",
     "output_type": "stream",
     "text": [
      "gram_schmidt_naive   9.52e-16 3.04e-09\n",
      "qr                   2.74e-15 2.39e-15\n"
     ]
    }
   ],
   "source": [
    "m = 20\n",
    "V = np.vander(np.linspace(-1,1,m), increasing=True)\n",
    "Q, R = gram_schmidt_naive(V)\n",
    "\n",
    "def qr_test(qr, V):\n",
    "    Q, R = qr(V)\n",
    "    m = len(Q.T)\n",
    "    print('{:20} {:.2e} {:.2e}'.format(\n",
    "        qr.__name__,\n",
    "        np.linalg.norm(Q @ R - V),\n",
    "        np.linalg.norm(Q.T @ Q - np.eye(m))))\n",
    "    \n",
    "qr_test(gram_schmidt_naive, V)\n",
    "qr_test(np.linalg.qr, V)"
   ]
  },
  {
   "cell_type": "markdown",
   "metadata": {},
   "source": [
    "## Left-looking algorithms: reducing the number of inner products"
   ]
  },
  {
   "cell_type": "code",
   "execution_count": 6,
   "metadata": {},
   "outputs": [
    {
     "name": "stdout",
     "output_type": "stream",
     "text": [
      "gram_schmidt_classical 9.14e-16 1.42e+00\n"
     ]
    }
   ],
   "source": [
    "def gram_schmidt_classical(A):\n",
    "    Q = np.zeros_like(A)\n",
    "    R = np.zeros((len(A.T),len(A.T)))\n",
    "    for i in range(len(Q.T)):\n",
    "        v = A[:,i].copy()\n",
    "        R[:i,i] = Q[:,:i].T @ v\n",
    "        v -= Q[:,:i] @ R[:i,i]\n",
    "        R[i,i] = np.linalg.norm(v)\n",
    "        Q[:,i] = v / R[i,i]\n",
    "    return Q, R\n",
    "\n",
    "qr_test(gram_schmidt_classical, V)"
   ]
  },
  {
   "cell_type": "markdown",
   "metadata": {},
   "source": [
    "Classical Gram-Schmidt is highly parallel, but unstable, as evidenced by the lack of orthogonality in $Q$.\n",
    "\n",
    "### Right-looking algorithms\n",
    "\n",
    "The implementations above have been \"left-looking\"; when working on column $i$, we compare it only to columns to the left (i.e., $j < i$).  We can reorder the algorithm to look to the right by projecting $q_i$ out of all columns $j > i$.  This algorithm is stable while being just as parallel as `gram_schmidt_classical`."
   ]
  },
  {
   "cell_type": "code",
   "execution_count": 7,
   "metadata": {},
   "outputs": [
    {
     "name": "stdout",
     "output_type": "stream",
     "text": [
      "gram_schmidt_modified 8.32e-16 1.32e-08\n"
     ]
    }
   ],
   "source": [
    "def gram_schmidt_modified(A):\n",
    "    Q = A.copy()\n",
    "    R = np.zeros((len(A.T), len(A.T)))\n",
    "    for i in range(len(Q.T)):\n",
    "        R[i,i] = np.linalg.norm(Q[:,i])\n",
    "        Q[:,i] /= R[i,i]\n",
    "        R[i,i+1:] = Q[:,i].T @ Q[:,i+1:]\n",
    "        Q[:,i+1:] -= np.outer(Q[:,i], R[i,i+1:])\n",
    "    return Q, R\n",
    "\n",
    "qr_test(gram_schmidt_modified, V)"
   ]
  },
  {
   "cell_type": "markdown",
   "metadata": {},
   "source": [
    "## One reduction: Cholesky QR"
   ]
  },
  {
   "cell_type": "code",
   "execution_count": 9,
   "metadata": {},
   "outputs": [
    {
     "name": "stdout",
     "output_type": "stream",
     "text": [
      "chol_qr              8.12e-15 1.07e-01\n"
     ]
    }
   ],
   "source": [
    "def chol_qr(A):\n",
    "    import scipy.linalg as la\n",
    "    B = A.T @ A\n",
    "    R = la.cholesky(B)\n",
    "    Q = A @ la.inv(R)\n",
    "    return Q, R\n",
    "    \n",
    "qr_test(chol_qr, V)"
   ]
  },
  {
   "cell_type": "code",
   "execution_count": 11,
   "metadata": {},
   "outputs": [
    {
     "name": "stdout",
     "output_type": "stream",
     "text": [
      "chol_qr2             8.36e-15 1.29e-15\n"
     ]
    }
   ],
   "source": [
    "def chol_qr2(A):\n",
    "    import scipy.linalg as la\n",
    "    B = A.T @ A\n",
    "    R = la.cholesky(B)\n",
    "    Q = A @ la.inv(R)\n",
    "    R2 = la.cholesky(Q.T @ Q)\n",
    "    Q = Q @ la.inv(R2)\n",
    "    R = R2 @ R\n",
    "    return Q, R\n",
    "\n",
    "qr_test(chol_qr2, V)"
   ]
  }
 ],
 "metadata": {
  "kernelspec": {
   "display_name": "Python 3",
   "language": "python",
   "name": "python3"
  },
  "language_info": {
   "codemirror_mode": {
    "name": "ipython",
    "version": 3
   },
   "file_extension": ".py",
   "mimetype": "text/x-python",
   "name": "python",
   "nbconvert_exporter": "python",
   "pygments_lexer": "ipython3",
   "version": "3.7.4"
  }
 },
 "nbformat": 4,
 "nbformat_minor": 4
}
