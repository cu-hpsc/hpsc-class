{
 "cells": [
  {
   "cell_type": "code",
   "execution_count": 1,
   "metadata": {},
   "outputs": [],
   "source": [
    "%matplotlib inline\n",
    "import pandas\n",
    "import seaborn\n",
    "import matplotlib.pyplot as plt\n",
    "import numpy as np\n",
    "plt.style.use('seaborn')"
   ]
  },
  {
   "cell_type": "markdown",
   "metadata": {},
   "source": [
    "## Newton-Raphson methods for systems\n",
    "\n",
    "Up to now, we have been solving linear problems.\n",
    "\n",
    "The **Jacobian** of $F$ is\n",
    "$$ J(u) = \\frac{\\partial F}{\\partial u}(u) =\n",
    "\\begin{bmatrix} \\frac{\\partial F_0}{\\partial u_0} & \\frac{\\partial F_0}{\\partial u_1} & \\dotsb \\\\\n",
    " \\frac{\\partial F_1}{\\partial u_0} & \\frac{\\partial F_1}{\\partial u_1} &  \\\\\n",
    " \\vdots & & \\ddots\n",
    " \\end{bmatrix}(u) . $$\n",
    "The method can be derived by taking the Taylor expansion of $F(u)$ at $u$,\n",
    "$$ F(u + \\delta u) = F(u) + \\frac{\\partial F}{\\partial u}(u) (\\delta u) + \\frac{\\partial^2 F}{\\partial u^2}(u) (\\delta u \\otimes \\delta u) / 2 + \\dotsb $$\n",
    "Note that each higher term is a higher rank tensor, thus computationally unweildy.  If we truncate the series with the linear term and set equal to zero, we have a linear equation for $\\delta u$\n",
    "$$ \\frac{\\partial F}{\\partial u}(u) \\delta u = - F(u) $$\n",
    "which will hopefully make $F(u + \\partial u) \\approx 0$.  This is Newton's method.\n",
    "\n",
    "* Each iteration requires evaluating $F(u)$ -- almost any method will have this property.\n",
    "* Each iteration requires evaluating the Jacobian matrix $J(u)$ -- this either requires custom code, algorithmic differentiation, or a finite difference approximation (we'll revisit this later).\n",
    "* Each iteration requires solving a linear system with the matrix $J(u)$.  This may be expensive."
   ]
  },
  {
   "cell_type": "code",
   "execution_count": 2,
   "metadata": {},
   "outputs": [
    {
     "name": "stdout",
     "output_type": "stream",
     "text": [
      "Newton 1 anorm 2.51e+00 rnorm 3.96e-01 eratio   1.56\n",
      "Newton 2 anorm 9.91e+00 rnorm 1.57e+00 eratio   0.56\n",
      "Newton 3 anorm 3.83e-01 rnorm 6.05e-02 eratio   0.22\n",
      "Newton 4 anorm 5.11e-01 rnorm 8.08e-02 eratio   0.25\n",
      "Newton 5 anorm 5.24e-04 rnorm 8.28e-05 eratio   0.36\n",
      "Newton 6 anorm 9.76e-07 rnorm 1.54e-07 eratio   0.21\n",
      "Newton 7 anorm 3.61e-15 rnorm 5.72e-16 eratio   0.31\n"
     ]
    },
    {
     "data": {
      "text/plain": [
       "(array([1., 1.]), 6)"
      ]
     },
     "execution_count": 2,
     "metadata": {},
     "output_type": "execute_result"
    }
   ],
   "source": [
    "def fsolve_newton(F, J, u0, rtol=1e-10, maxit=50, verbose=False):\n",
    "    u = u0.copy()\n",
    "    Fu = F(u)\n",
    "    norm0 = np.linalg.norm(Fu)\n",
    "    enorm_last = np.linalg.norm(u - np.array([1,1]))\n",
    "    for i in range(maxit):\n",
    "        du = -np.linalg.solve(J(u), Fu)\n",
    "        u += du\n",
    "        Fu = F(u)\n",
    "        norm = np.linalg.norm(Fu)\n",
    "        if verbose:\n",
    "            enorm = np.linalg.norm(u - np.array([1,1]))\n",
    "            print('Newton {:d} anorm {:6.2e} rnorm {:6.2e} eratio {:6.2f}'.\n",
    "                  format(i+1, norm, norm/norm0, enorm/enorm_last**2))\n",
    "            enorm_last = enorm\n",
    "        if norm < rtol * norm0:\n",
    "            break\n",
    "    return u, i\n",
    "\n",
    "def rostest(a,b):\n",
    "    def F(u):\n",
    "        x = u[0]; y = u[1]\n",
    "        return np.array([-2*(a-x) + 4*b*x**3 - 4*b*x*y,\n",
    "                         2*b*(y-x**2)])\n",
    "    def J(u):\n",
    "        x = u[0]; y = u[1]\n",
    "        return np.array([[2 + 12*b*x**2 - 4*b*y, -4*b*x],\n",
    "                         [-4*b*x, 2*b]])\n",
    "    return F, J\n",
    "\n",
    "F, J = rostest(1,3)\n",
    "fsolve_newton(F, J, np.array([0, 1.]), verbose=True)"
   ]
  },
  {
   "cell_type": "markdown",
   "metadata": {},
   "source": [
    "* Can the iteration break down?  How?\n",
    "* How does the method depend on the initial guess?\n",
    "* It turns out that Newton's method has _locally quadratic_ convergence to simple roots, $$\\lim_{i \\to \\infty} |e_{i+1}|/|e_i^2| < \\infty .$$\n",
    "* \"The number of correct digits doubles each iteration.\"\n",
    "* Now that we know how to make a good guess accurate, the effort lies in getting a good guess.\n",
    "\n",
    "## Matrix-free Jacobian via finite differencing\n",
    "\n",
    "It can be error-prone and complicated to implement the Jacobian function `J(u)`.  In such cases, we can use the approximation\n",
    "\n",
    "$$ J(u) v \\approx \\frac{F(u+\\epsilon v) - F(u)}{\\epsilon} $$\n",
    "\n",
    "where $\\epsilon$ is some \"small\" number.  Now can't access individual entries of $J$, but we can apply its action to an arbitrary vector $u$.\n",
    "\n",
    "We know that this approximation is first order accurate in $\\epsilon$, \n",
    "$$ \\left\\lVert J(u) v - \\frac{F(u+\\epsilon v) - F(u)}{\\epsilon} \\right\\rVert \\in O(\\epsilon) . $$\n",
    "But if $\\epsilon$ is too small, we will lose accuracy due to rounding error.  If $F$ has been scaled such that its norm is of order 1, then $\\epsilon = \\sqrt{\\epsilon_{\\text{machine}}}$ is a good default choice."
   ]
  },
  {
   "cell_type": "code",
   "execution_count": 3,
   "metadata": {},
   "outputs": [
    {
     "name": "stdout",
     "output_type": "stream",
     "text": [
      "Newton 0 anorm 2.51e+00 rnorm 3.96e-01\n",
      "Newton 1 anorm 9.91e+00 rnorm 1.57e+00\n",
      "Newton 2 anorm 3.83e-01 rnorm 6.05e-02\n",
      "Newton 3 anorm 5.11e-01 rnorm 8.08e-02\n",
      "Newton 4 anorm 5.24e-04 rnorm 8.28e-05\n",
      "Newton 5 anorm 9.76e-07 rnorm 1.54e-07\n"
     ]
    },
    {
     "data": {
      "text/plain": [
       "(array([1.        , 0.99999992]), 5)"
      ]
     },
     "execution_count": 3,
     "metadata": {},
     "output_type": "execute_result"
    }
   ],
   "source": [
    "import scipy.sparse.linalg as splinalg\n",
    "\n",
    "def fsolve_newtonkrylov(F, u0, epsilon=1e-8, rtol=1e-10, maxit=50, verbose=False):\n",
    "    u = u0.copy()\n",
    "    Fu = F(u)\n",
    "    norm0 = np.linalg.norm(Fu)\n",
    "    for i in range(maxit):\n",
    "        def Ju_fd(v):\n",
    "            return (F(u + epsilon*v) - Fu) / epsilon\n",
    "        Ju = splinalg.LinearOperator((len(Fu),len(u)), matvec=Ju_fd)\n",
    "        du, info = splinalg.gmres(Ju, Fu, atol=1.e-6)\n",
    "        if info != 0:\n",
    "            print(np.linalg.norm(Ju @ du - Fu), norm)\n",
    "            raise RuntimeError('GMRES failed to converge: {:d}'.format(info))\n",
    "        u -= du\n",
    "        Fu = F(u)\n",
    "        norm = np.linalg.norm(Fu)\n",
    "        if verbose:\n",
    "            print('Newton {:d} anorm {:6.2e} rnorm {:6.2e}'\n",
    "                  .format(i, norm, norm/norm0))\n",
    "        if norm < rtol * norm0:\n",
    "            break\n",
    "    return u, i\n",
    "\n",
    "fsolve_newtonkrylov(F, np.array([0.,1]), rtol=1e-6, verbose=True)"
   ]
  },
  {
   "cell_type": "markdown",
   "metadata": {},
   "source": [
    "![](tme-ice-nk.png)"
   ]
  },
  {
   "cell_type": "markdown",
   "metadata": {},
   "source": [
    "![](tme-ice-its.png)"
   ]
  },
  {
   "cell_type": "markdown",
   "metadata": {},
   "source": [
    "![](tme-ice-breakdown.png)"
   ]
  },
  {
   "cell_type": "markdown",
   "metadata": {},
   "source": [
    "## Further reading\n",
    "\n",
    "* Brown, Smith, and Ahmadia (2013) [**Textbook multigrid efficiency for hydrostatic ice flow**](https://doi.org/10.1137/110834512)\n",
    "  * Configuring an efficient nonlinear solver (see `snes/examples/tutorials/ex48.c` in PETSc repository)"
   ]
  }
 ],
 "metadata": {
  "kernelspec": {
   "display_name": "Python 3",
   "language": "python",
   "name": "python3"
  },
  "language_info": {
   "codemirror_mode": {
    "name": "ipython",
    "version": 3
   },
   "file_extension": ".py",
   "mimetype": "text/x-python",
   "name": "python",
   "nbconvert_exporter": "python",
   "pygments_lexer": "ipython3",
   "version": "3.7.4"
  }
 },
 "nbformat": 4,
 "nbformat_minor": 4
}
