{
 "cells": [
  {
   "cell_type": "markdown",
   "metadata": {},
   "source": [
    "* GPUs have 2-4x greater floating point and bandwidth peak for the watts\n",
    "  * also for the \\$ if you buy enterprise gear\n",
    "  * better for the \\$ if you buy gaming gear\n",
    "* Step 1 is to assess workload and latency requirements\n",
    "\n",
    "![](VecDot_CPU_vs_GPU_size.png)\n",
    "![](VecDot_CPU_vs_GPU_time.png)\n",
    "\n",
    "* Don't waste time with GPUs if\n",
    "  * your problem size or time to solution requirements don't align\n",
    "  * if the work you'd like to move to the GPU is not a bottleneck\n",
    "  * if the computation cost will be dwarfed by moving data to/from the GPU\n",
    "    * often you need to restructure so that caller passes in data already on the device\n",
    "    * can require nonlocal refactoring\n",
    "* Almost never: pick one kernel at a time and move it to the GPU\n",
    "  * DOE ACME/E3SM (to pick on one high-profile application) has basically done this for five years and it still doesn't help their production workloads so they bought a non-GPU machine\n",
    "  "
   ]
  },
  {
   "cell_type": "markdown",
   "metadata": {},
   "source": [
    "**Okay, okay, okay.  What if I have the right workload?**\n",
    "\n",
    "## Terminology/intro\n",
    "\n",
    "* [An even easier introduction to CUDA](https://devblogs.nvidia.com/even-easier-introduction-cuda/)\n",
    "* [CUDA Programming Model](https://docs.nvidia.com/cuda/cuda-c-programming-guide/index.html#programming-model)\n",
    "\n",
    "* On the CPU, we have a thread with vector registers/instructions\n",
    "* In CUDA, we write code inside a single vector lane (\"confusingly\" called a CUDA thread)\n",
    "* To get inside the lane, we launch a **kernel** from the CPU using special syntax\n",
    "```c\n",
    "add<<<numBlocks, blockSize>>>(N, x, y);\n",
    "```\n",
    "\n",
    "  * needs to be compiled using `nvcc`\n",
    "  * Logically 1D/2D/3D rectangular tiled iteration space\n",
    "\n",
    "<img src=\"grid-of-thread-blocks.png\" width=\"40%\">\n",
    "\n",
    "* There are [many](https://en.wikipedia.org/wiki/CUDA#Version_features_and_specifications) constraints and limitations to the iteration \"grid\"\n",
    "\n",
    "![](cuda-constraints.png)\n",
    "\n",
    "* Control flow for CUDA threads is nominally independent, but performance will be poor if you don't coordinate threads within each block.\n",
    "  * Implicit coordination\n",
    "    * Memory coalescing\n",
    "    * Organize your algorithm to limit \"divergence\"\n",
    "  * Explicit coordination\n",
    "    * Shared memory\n",
    "    * `__syncthreads()`\n",
    "    * Warp shuffles\n",
    "* We implement the kernel by using the `__global__` attribute\n",
    "  * Visible from the CPU\n",
    "  * Special [built-in variables](https://docs.nvidia.com/cuda/cuda-c-programming-guide/index.html#built-in-variables) are defined\n",
    "    * `gridDim`\n",
    "    * `blockIdx`\n",
    "    * `blockDim`\n",
    "    * `threadIdx`\n",
    "  * There is also `__device__`, which is callable from other device functions\n",
    "  * Can use `__host__ __device__` to compile two versions\n",
    "\n",
    "![](cuda_indexing.png)\n",
    "\n",
    "#### How does this relate to the hardware?\n",
    "\n",
    "* Each thread block is assigned to one streaming multiprocessor (SM)\n",
    "* Executed in warps (number of hardware lanes)\n",
    "* Multiple warps (from the same or different thread blocks) execute like hyperthreads"
   ]
  },
  {
   "cell_type": "markdown",
   "metadata": {},
   "source": [
    "## Practical CUDA\n",
    "\n",
    "![](https://images.dailykos.com/images/201610/story_image/Question_authority_says_who_Capture.PNG?1454006844)\n",
    "\n",
    "### [CUDA Best Practices Guide](https://docs.nvidia.com/cuda/cuda-c-best-practices-guide/index.html)\n",
    "\n",
    "#### Occupancy\n",
    "\n",
    "> Thread instructions are executed sequentially in CUDA, and, as a result, executing other warps when one warp is paused or stalled is the only way to hide latencies and keep the hardware busy. Some metric related to the number of active warps on a multiprocessor is therefore important in **determining how effectively the hardware is kept busy** [emphasis added]. This metric is occupancy.\n",
    "\n",
    "* Reality: occupancy is just one aspect, and often inversely correlated with keeping the hardware busy (and with performance).\n",
    "\n",
    "> Occupancy is the ratio of the number of active warps per multiprocessor to the maximum number of possible active warps.\n",
    "\n",
    "* If your kernel uses fewer registers/less shared memory, more warps can be scheduled.\n",
    "* Register/shared memory usage is determined by the compiler."
   ]
  },
  {
   "cell_type": "code",
   "execution_count": 1,
   "metadata": {},
   "outputs": [
    {
     "data": {
      "text/markdown": [
       "```c\n",
       "__global__ void add(int n, float *x, float *y) {\n",
       "  int index = blockIdx.x * blockDim.x + threadIdx.x;\n",
       "  int stride = blockDim.x * gridDim.x;\n",
       "  for (int i = index; i < n; i += stride)\n",
       "    y[i] += x[i];\n",
       "}\n",
       "```\n"
      ],
      "text/plain": [
       "<IPython.core.display.Markdown object>"
      ]
     },
     "execution_count": 1,
     "metadata": {},
     "output_type": "execute_result"
    }
   ],
   "source": [
    "def render_c(filename):\n",
    "    from IPython.display import Markdown\n",
    "    with open(filename) as f:\n",
    "        contents = f.read()\n",
    "    return Markdown(\"```c\\n\" + contents + \"```\\n\")\n",
    "\n",
    "render_c('add.cu')"
   ]
  },
  {
   "cell_type": "code",
   "execution_count": 2,
   "metadata": {},
   "outputs": [
    {
     "name": "stdout",
     "output_type": "stream",
     "text": [
      "ptxas info    : 0 bytes gmem\n",
      "ptxas info    : Compiling entry function '_Z3addiPfS_' for 'sm_75'\n",
      "ptxas info    : Function properties for _Z3addiPfS_\n",
      "    0 bytes stack frame, 0 bytes spill stores, 0 bytes spill loads\n",
      "ptxas info    : Used 12 registers, 376 bytes cmem[0]\n"
     ]
    }
   ],
   "source": [
    "! nvcc -arch sm_75 --resource-usage -c add.cu"
   ]
  },
  {
   "cell_type": "code",
   "execution_count": 3,
   "metadata": {},
   "outputs": [
    {
     "data": {
      "text/markdown": [
       "```c\n",
       "__global__ void copy(float *dst, float *src) {\n",
       "  int iblock = blockIdx.x + blockIdx.y * gridDim.x;\n",
       "  int index  = threadIdx.x + TILE_SIZE * iblock * blockDim.x;\n",
       "  float a[TILE_SIZE]; // allocated in registers\n",
       "  for (int i=0; i<TILE_SIZE; i++)\n",
       "    a[i] = src[index + i * blockDim.x];\n",
       "  for (int i=0; i<TILE_SIZE; i++)\n",
       "    dst[index + i * blockDim.x] = a[i];\n",
       "}\n",
       "```\n"
      ],
      "text/plain": [
       "<IPython.core.display.Markdown object>"
      ]
     },
     "execution_count": 3,
     "metadata": {},
     "output_type": "execute_result"
    }
   ],
   "source": [
    "render_c('copy.cu')"
   ]
  },
  {
   "cell_type": "code",
   "execution_count": 4,
   "metadata": {},
   "outputs": [
    {
     "name": "stdout",
     "output_type": "stream",
     "text": [
      "ptxas info    : 0 bytes gmem\n",
      "ptxas info    : Compiling entry function '_Z4copyPfS_' for 'sm_75'\n",
      "ptxas info    : Function properties for _Z4copyPfS_\n",
      "    0 bytes stack frame, 0 bytes spill stores, 0 bytes spill loads\n",
      "ptxas info    : Used 64 registers, 368 bytes cmem[0]\n"
     ]
    }
   ],
   "source": [
    "! nvcc -arch sm_75 --resource-usage -DTILE_SIZE=16 -c copy.cu"
   ]
  },
  {
   "cell_type": "markdown",
   "metadata": {},
   "source": [
    "* The [Occupancy Calculator](https://docs.nvidia.com/cuda/cuda-occupancy-calculator/index.html) can compute occupancy based on the register and shared memory usage.\n",
    "* You can tell the compiler to reduce register usage, sometimes at the expense of spills."
   ]
  },
  {
   "cell_type": "code",
   "execution_count": 5,
   "metadata": {},
   "outputs": [
    {
     "name": "stdout",
     "output_type": "stream",
     "text": [
      "ptxas info    : 0 bytes gmem\n",
      "ptxas info    : Compiling entry function '_Z4copyPfS_' for 'sm_75'\n",
      "ptxas info    : Function properties for _Z4copyPfS_\n",
      "    80 bytes stack frame, 76 bytes spill stores, 76 bytes spill loads\n",
      "ptxas info    : Used 24 registers, 368 bytes cmem[0]\n"
     ]
    }
   ],
   "source": [
    "! nvcc -arch sm_75 --resource-usage -DTILE_SIZE=16 --maxrregcount 24 -c copy.cu"
   ]
  },
  {
   "cell_type": "markdown",
   "metadata": {},
   "source": [
    "#### Further reading\n",
    "* Vasily Volkov (2010) [**Better Performance at Lower Occupancy**](https://www.nvidia.com/content/GTC-2010/pdfs/2238_GTC2010.pdf) (slides)\n",
    "* Vasily Volkov (2016) [**Understanding Latency Hiding on GPUs**](https://www2.eecs.berkeley.edu/Pubs/TechRpts/2016/EECS-2016-143.pdf) (very in-depth)\n",
    "* Kasia Swirydowicz (2018) [**Finite Element Stiffness Matrix Action: monolithic kernel optimization on Titan V**](https://www.paranumal.com/single-post/2018/03/02/Finite-Element-Stiffness-Matrix-Action-monolithic-kernel-optimization-on-Titan-V)"
   ]
  },
  {
   "cell_type": "markdown",
   "metadata": {},
   "source": [
    "### Memory\n",
    "\n",
    "* GPU memory is not CPU memory\n",
    "\n",
    "<img src=\"https://en.wikichip.org/w/images/4/47/summit_single-socket.svg\" width=\"50%\">\n",
    "\n",
    "**Duh**, so why does NVIDIA [publish this](https://devblogs.nvidia.com/unified-memory-cuda-beginners/)?\n",
    "\n",
    "![](https://devblogs.nvidia.com/wp-content/uploads/2017/06/Unified-Memory-MultiGPU.png)\n",
    "\n",
    "#### Getting your memory into position is often the hardest part of CUDA programming.\n",
    "\n",
    "* Allocate memory on the GPU\n",
    "```c\n",
    "cudaMalloc(&xdevice, N*sizeof(double));\n",
    "```\n",
    "* Populate it from the host\n",
    "```c\n",
    "cudaMemcpy(xdevice, xhost, N*sizeof(double), cudaMemcpyHostToDevice);\n",
    "```\n",
    "* Repeat for all data, including control parameters\n",
    "* Easy to forget, ongoing maintenance/complexity cost\n",
    "\n",
    "#### [Unified/managed memory](https://devblogs.nvidia.com/unified-memory-cuda-beginners/)\n",
    "\n",
    "* Allocate \"managed\" memory, accessible from CPU and GPU\n",
    "```c\n",
    "cudaMallocManaged(&x, N*sizeof(float));\n",
    "```\n",
    "* How?\n",
    "\n",
    "<img src=\"maximizing-unified-memory.png\" width=\"50%\">\n",
    "\n",
    "* With OpenACC, make all dynamic allocations in managed memory: `pgcc -ta=tesla:managed`\n",
    "  * The GPU probably has a lot less memory than you have DRAM\n",
    "  * Really convenient for incremental work in legacy code\n",
    "  * Performance isn't great without `cudaMemPrefetchAsync`\n",
    "  \n",
    "![](pngbase6479f3c9825c97fa94.png)\n",
    "\n",
    "**Further reading**: [Maximizing Unified Memory Performance in CUDA](https://devblogs.nvidia.com/maximizing-unified-memory-performance-cuda/)"
   ]
  },
  {
   "cell_type": "markdown",
   "metadata": {},
   "source": [
    "### On memory coalescing and [strided access](https://docs.nvidia.com/cuda/cuda-c-best-practices-guide/index.html#strided-accesses)\n",
    "\n",
    "```c\n",
    "__global__ void strideCopy(float *odata, float* idata, int stride) {\n",
    "    int xid = (blockIdx.x*blockDim.x + threadIdx.x)*stride;\n",
    "    odata[xid] = idata[xid];\n",
    "}\n",
    "```\n",
    "\n",
    "![](adjacent-threads-accessing-memory-with-stride-of-2.png)\n",
    "\n",
    "Lose half your bandwidth for `stride=2`.\n",
    "\n",
    "![](performance-of-stridecopy-kernel.png)"
   ]
  }
 ],
 "metadata": {
  "kernelspec": {
   "display_name": "Python 3",
   "language": "python",
   "name": "python3"
  },
  "language_info": {
   "codemirror_mode": {
    "name": "ipython",
    "version": 3
   },
   "file_extension": ".py",
   "mimetype": "text/x-python",
   "name": "python",
   "nbconvert_exporter": "python",
   "pygments_lexer": "ipython3",
   "version": "3.7.4"
  }
 },
 "nbformat": 4,
 "nbformat_minor": 4
}
