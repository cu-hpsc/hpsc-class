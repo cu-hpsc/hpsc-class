{
 "cells": [
  {
   "cell_type": "code",
   "execution_count": 1,
   "metadata": {},
   "outputs": [],
   "source": [
    "def render_c(filename):\n",
    "    from IPython.display import Markdown\n",
    "    with open(filename) as f:\n",
    "        contents = f.read()\n",
    "    return Markdown(\"```c\\n\" + contents + \"```\\n\")"
   ]
  },
  {
   "cell_type": "markdown",
   "metadata": {},
   "source": [
    "| Architecture | Directives | SIMD | SPMD |\n",
    "|---------|-----------|------|-----|\n",
    "| Intel AVX+ (SIMD) | `#pragma omp simd` | [intrinsics](https://software.intel.com/sites/landingpage/IntrinsicsGuide/#) | [ISPC](https://ispc.github.io/ispc.html) |\n",
    "| CUDA (SIMT) | `#pragma omp target` | C++ templates and other high-level APIs | CUDA |\n",
    "\n",
    "## [ISPC: Intel SPMD Program Compiler](https://ispc.github.io/ispc.html)\n",
    "\n",
    "We can program SIMT (e.g., CUDA) devices using directives, but we can also program SIMD (e.g., Intel CPUs) using a SPMD (CUDA-like, acronym comes from \"single program\" versus \"single instruction\") programming model."
   ]
  },
  {
   "cell_type": "code",
   "execution_count": 9,
   "metadata": {},
   "outputs": [
    {
     "data": {
      "text/markdown": [
       "```c\n",
       "export void simple_ispc(uniform double vin[], uniform double vout[],\n",
       "                        uniform int count) {\n",
       "  foreach (index = 0 ... count) {\n",
       "    double v = vin[index];\n",
       "    if (v < 3.)\n",
       "      v = v * v;\n",
       "    else\n",
       "      v = sqrt(v);\n",
       "    vout[index] = v;\n",
       "  }\n",
       "}\n",
       "```\n"
      ],
      "text/plain": [
       "<IPython.core.display.Markdown object>"
      ]
     },
     "execution_count": 9,
     "metadata": {},
     "output_type": "execute_result"
    }
   ],
   "source": [
    "render_c('simple-ispc.ispc')"
   ]
  },
  {
   "cell_type": "markdown",
   "metadata": {},
   "source": [
    "This function is callable from native C code."
   ]
  },
  {
   "cell_type": "code",
   "execution_count": 10,
   "metadata": {},
   "outputs": [
    {
     "data": {
      "text/markdown": [
       "```c\n",
       "#include <stdio.h>\n",
       "#include <math.h>\n",
       "\n",
       "void simple_ispc(double vin[], double vout[], int count);\n",
       "\n",
       "void simple_c(double vin[], double vout[], int count) {\n",
       "  for (int index=0; index<count; index++) {\n",
       "    double v = vin[index];\n",
       "    if (v < 3.)\n",
       "      v = v * v;\n",
       "    else\n",
       "      v = sqrt(v);\n",
       "    vout[index] = v;\n",
       "  }\n",
       "}\n",
       "\n",
       "int main() {\n",
       "  double vin[16], vout[16];\n",
       "  for (int i = 0; i < 16; ++i)\n",
       "    vin[i] = i;\n",
       "\n",
       "  simple_ispc(vin, vout, 16);\n",
       "\n",
       "  for (int i = 0; i < 16; ++i)\n",
       "    printf(\"%d: simple_ispc(%f) = %f\\n\", i, vin[i], vout[i]);\n",
       "\n",
       "  simple_c(vin, vout, 16);\n",
       "\n",
       "  for (int i = 0; i < 16; ++i)\n",
       "    printf(\"%d: simple_c(%f) = %f\\n\", i, vin[i], vout[i]);\n",
       "  return 0;\n",
       "}\n",
       "```\n"
      ],
      "text/plain": [
       "<IPython.core.display.Markdown object>"
      ]
     },
     "execution_count": 10,
     "metadata": {},
     "output_type": "execute_result"
    }
   ],
   "source": [
    "render_c('simple.c')"
   ]
  },
  {
   "cell_type": "code",
   "execution_count": 11,
   "metadata": {},
   "outputs": [
    {
     "name": "stdout",
     "output_type": "stream",
     "text": [
      "cc -O3 -march=native   -c -o simple.o simple.c\n",
      "ispc -O3 --target=avx2-i32x8 simple-ispc.ispc -o simple-ispc.o\n",
      "cc   simple.o simple-ispc.o  -lm -o simple\n",
      "0: simple_ispc(0.000000) = 0.000000\n",
      "1: simple_ispc(1.000000) = 1.000000\n",
      "2: simple_ispc(2.000000) = 4.000000\n",
      "3: simple_ispc(3.000000) = 1.732051\n",
      "4: simple_ispc(4.000000) = 2.000000\n",
      "5: simple_ispc(5.000000) = 2.236068\n",
      "6: simple_ispc(6.000000) = 2.449490\n",
      "7: simple_ispc(7.000000) = 2.645751\n",
      "8: simple_ispc(8.000000) = 2.828427\n",
      "9: simple_ispc(9.000000) = 3.000000\n",
      "10: simple_ispc(10.000000) = 3.162278\n",
      "11: simple_ispc(11.000000) = 3.316625\n",
      "12: simple_ispc(12.000000) = 3.464102\n",
      "13: simple_ispc(13.000000) = 3.605551\n",
      "14: simple_ispc(14.000000) = 3.741657\n",
      "15: simple_ispc(15.000000) = 3.872983\n",
      "0: simple_c(0.000000) = 0.000000\n",
      "1: simple_c(1.000000) = 1.000000\n",
      "2: simple_c(2.000000) = 4.000000\n",
      "3: simple_c(3.000000) = 1.732051\n",
      "4: simple_c(4.000000) = 2.000000\n",
      "5: simple_c(5.000000) = 2.236068\n",
      "6: simple_c(6.000000) = 2.449490\n",
      "7: simple_c(7.000000) = 2.645751\n",
      "8: simple_c(8.000000) = 2.828427\n",
      "9: simple_c(9.000000) = 3.000000\n",
      "10: simple_c(10.000000) = 3.162278\n",
      "11: simple_c(11.000000) = 3.316625\n",
      "12: simple_c(12.000000) = 3.464102\n",
      "13: simple_c(13.000000) = 3.605551\n",
      "14: simple_c(14.000000) = 3.741657\n",
      "15: simple_c(15.000000) = 3.872983\n"
     ]
    }
   ],
   "source": [
    "! make -B simple && ./simple"
   ]
  },
  {
   "cell_type": "code",
   "execution_count": 12,
   "metadata": {},
   "outputs": [
    {
     "name": "stdout",
     "output_type": "stream",
     "text": [
      "0000000000001050 <sqrt@plt> jmp    QWORD PTR [rip+0x2fd2]        # 0000000000004028 <sqrt@GLIBC_2.2.5>\n",
      "0000000000001056 <sqrt@plt+0x6> push   0x2\n",
      "000000000000105b <sqrt@plt+0xb> jmp    0000000000001020 <.plt>\n",
      "00000000000012ec <simple_c+0x4c> vsqrtsd xmm1,xmm0,xmm0\n",
      "0000000000001302 <simple_c+0x62> call   0000000000001050 <sqrt@plt>\n",
      "000000000000142d <simple_ispc___un_3C_und_3E_un_3C_und_3E_uni+0xdd> vsqrtpd ymm1,ymm4\n",
      "0000000000001431 <simple_ispc___un_3C_und_3E_un_3C_und_3E_uni+0xe1> vsqrtpd ymm7,ymm5\n",
      "000000000000156e <simple_ispc___un_3C_und_3E_un_3C_und_3E_uni+0x21e> vsqrtpd ymm2,ymm6\n",
      "0000000000001577 <simple_ispc___un_3C_und_3E_un_3C_und_3E_uni+0x227> vsqrtpd ymm3,ymm7\n",
      "000000000000168d <simple_ispc+0xdd> vsqrtpd ymm1,ymm4\n",
      "0000000000001691 <simple_ispc+0xe1> vsqrtpd ymm7,ymm5\n",
      "00000000000017ce <simple_ispc+0x21e> vsqrtpd ymm2,ymm6\n",
      "00000000000017d7 <simple_ispc+0x227> vsqrtpd ymm3,ymm7\n"
     ]
    }
   ],
   "source": [
    "! objdump -d --prefix-addresses -M intel simple | grep sqrt"
   ]
  },
  {
   "cell_type": "markdown",
   "metadata": {},
   "source": [
    "ISPC is a good option for code with cross-lane dependencies or vector lane divergence (branches that affect some lanes differently than others).  Writing such code with intrinsics is laborious and compilers often do a poor job of inferring good vectorization strategies (despite `#pragma omp simd` and the like).  An example of successful use of ISPC is Intel's [Embree](https://www.embree.org/) ray tracing engine.\n",
    "\n",
    "(As with most vendor-reported performance numbers, we can probably take this with a grain of salt. But it indicates that CPUs remain highly competitive for ray tracing.)\n",
    "\n",
    "![](embree-performance.png)"
   ]
  },
  {
   "cell_type": "markdown",
   "metadata": {},
   "source": [
    "## OpenMP target offload and OpenACC\n",
    "\n",
    "CUDA is relatively hard to maintain and logic/tuning is spread out (between the kernel launch and the device code).  OpenMP target offload and OpenACC attempt to provide a more friendly story for maintenance and incremental migration of legacy code.\n",
    "\n",
    "### Terminology\n",
    "| CUDA Concept | CUDA keyword | OpenACC | OpenMP `target` |\n",
    "|----|------|---------|--------|\n",
    "| Thread block | `blockIdx` | `gang` | `teams` |\n",
    "| Warp | (implicit) | `worker` | thread |\n",
    "| Thread | `threadIdx` | `vector` | `simd` |\n",
    "\n",
    "### Incremental porting with unified memory\n",
    "\n",
    "![](openacc-steps.png)\n",
    "\n",
    "### Example\n",
    "\n",
    "OpenACC example from a Lattice-Boltzman miniapp\n",
    "\n",
    "```cpp\n",
    "void LBM::stream(Real* const __restrict a_f,\n",
    "                 const Real* const __restrict a_f_post,\n",
    "                 const int* a_loStr,\n",
    "                 const int* a_hiStr,\n",
    "                 const int* a_loAll,\n",
    "                 const int* a_hiAll,\n",
    "                 const int a_numPts) const\n",
    "{\n",
    "\n",
    "  const int* const __restrict latI = &m_lattice[0][0];\n",
    "  const int* const __restrict latJ = &m_lattice[1][0];\n",
    "  const int* const __restrict latK = &m_lattice[2][0];\n",
    "\n",
    "  const int\n",
    "    klo = a_loStr[2], khi = a_hiStr[2],\n",
    "    jlo = a_loStr[1], jhi = a_hiStr[1],\n",
    "    ilo = a_loStr[0], ihi = a_hiStr[0];\n",
    "\n",
    "#pragma acc parallel loop independent collapse(3) \\\n",
    "        copyin(a_loAll[SPACEDIM],a_hiAll[SPACEDIM],a_f_post[a_numPts*m_numVels]) \\\n",
    "        copyout(a_f[a_numPts*m_numVels]) vector_length(256)\n",
    "  for (int k = klo; k <= khi; ++k) {\n",
    "    for (int j = jlo; j <= jhi; ++j) {\n",
    "      for (int i = ilo; i <= ihi; ++i) {\n",
    "#pragma acc loop seq independent\n",
    "        for (int m = 0; m < NUMV; ++m) {\n",
    "          const long int offset = m * a_numPts;\n",
    "          const long int index0 = INDEX(i          ,           j,           k, a_loAll, a_hiAll);\n",
    "          const long int index2 = INDEX(i - latI[m], j - latJ[m], k - latK[m], a_loAll, a_hiAll);\n",
    "          a_f[index0 + offset]    = a_f_post[index2 + offset];  // new f comes from upwind\n",
    "        }\n",
    "      }\n",
    "    }\n",
    "  }\n",
    "}\n",
    "```\n",
    "\n",
    "### Resources\n",
    "* [Getting started with OpenACC](https://devblogs.nvidia.com/getting-started-openacc/)\n",
    "* [Advanced OpenACC](http://icl.cs.utk.edu/classes/cosc462/2017/pdf/OpenACC_3.pdf)\n",
    "* [SC18 OpenMP Presentations (with videos)](https://www.openmp.org/resources/openmp-presentations/resources-openmp-presentations-sc18-booth-talks/)\n",
    "* [OpenMP 5.0 for Accelerators and What Comes Next](https://developer.download.nvidia.com/video/gputechconf/gtc/2019/presentation/s9353-openmp-5-for-accelerators-and-what-comes-next.pdf)\n",
    "* [**Hackathon series**](https://www.openacc.org/hackathons)"
   ]
  }
 ],
 "metadata": {
  "kernelspec": {
   "display_name": "Python 3",
   "language": "python",
   "name": "python3"
  },
  "language_info": {
   "codemirror_mode": {
    "name": "ipython",
    "version": 3
   },
   "file_extension": ".py",
   "mimetype": "text/x-python",
   "name": "python",
   "nbconvert_exporter": "python",
   "pygments_lexer": "ipython3",
   "version": "3.7.4"
  }
 },
 "nbformat": 4,
 "nbformat_minor": 4
}
