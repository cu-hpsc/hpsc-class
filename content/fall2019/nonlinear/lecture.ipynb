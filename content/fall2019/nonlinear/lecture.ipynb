{
 "cells": [
  {
   "cell_type": "code",
   "execution_count": 3,
   "metadata": {},
   "outputs": [],
   "source": [
    "%matplotlib inline\n",
    "import pandas\n",
    "import seaborn\n",
    "import matplotlib.pyplot as plt\n",
    "import numpy as np\n",
    "plt.style.use('ggplot')"
   ]
  },
  {
   "cell_type": "markdown",
   "metadata": {},
   "source": [
    "## Nonlinear problems\n",
    "\n",
    "Up to now, we have been solving linear problems.  The preferred way to leverage fast linear solves for (potentially ill-conditioned) nonlinear problems is via defect correction, usually Newton methods.\n",
    "\n",
    "### The Newton-Raphson method for scalar problems\n",
    "\n",
    "Much of numerical analysis reduces to [Taylor series](https://en.wikipedia.org/wiki/Taylor_series), the approximation\n",
    "$$ f(x) = f(x_0) + f'(x_0) (x-x_0) + \\underbrace{f''(x_0) (x - x_0)^2 / 2 + \\dotsb}_{O((x-x_0)^2)} $$\n",
    "centered on some reference point $x_0$.\n",
    "\n",
    "In numerical computation, it is exceedingly rare to look beyond the first-order approximation\n",
    "$$ \\tilde f_{x_0}(x) = f(x_0) + f'(x_0)(x - x_0) . $$\n",
    "Since $\\tilde f_{x_0}(x)$ is a linear function, we can explicitly compute the unique solution of $\\tilde f_{x_0}(x) = 0$ as\n",
    "$$ x = x_0 - f(x_0) / f'(x_0) . $$\n",
    "This is Newton's Method (aka Newton-Raphson or Newton-Raphson-Simpson) for finding the roots of differentiable functions."
   ]
  },
  {
   "cell_type": "code",
   "execution_count": 20,
   "metadata": {},
   "outputs": [
    {
     "name": "stdout",
     "output_type": "stream",
     "text": [
      "test_func 0 -2 -0.44851788021624484\n",
      "test_func 1 -2.579508809224632 -0.07804240445653787\n",
      "test_func 2 -2.7502278755485423 -0.01169737888867406\n",
      "test_func 3 -2.787065713793899 -0.0005874789197288788\n",
      "test_func 4 -2.7891231086081634 -1.8550336560174685e-06\n",
      "test_func 5 -2.7891296463678903 -1.874356225783913e-11\n",
      "test_func 6 -2.7891296464339503 0.0\n"
     ]
    },
    {
     "data": {
      "image/png": "[encoded data removed]",
      "text/plain": [
       "<Figure size 432x288 with 1 Axes>"
      ]
     },
     "metadata": {
      "needs_background": "light"
     },
     "output_type": "display_data"
    }
   ],
   "source": [
    "def newton(func, x, verbose=False):\n",
    "    \"\"\"Solve f(x) = 0 using initial guess x.\n",
    "    \n",
    "    The provided function func must return a pair of values,\n",
    "    f(x) and its derivative f'(x).  For example, to solve\n",
    "    the equation x^2 - 3 starting from initial guess x=1,\n",
    "    one would write\n",
    "    \n",
    "    def func(x):\n",
    "        return x**2 - 3, 2*x\n",
    "        \n",
    "    newton(func, 1)\n",
    "    \"\"\"\n",
    "    for i in range(100):\n",
    "        fx, dfx = func(x)\n",
    "        if verbose:\n",
    "            print(func.__name__, i, x, fx)\n",
    "        if np.abs(fx) < 1e-12:\n",
    "            return x, fx, i\n",
    "        try:\n",
    "            x -= fx / dfx\n",
    "        except ZeroDivisionError:\n",
    "            return x, np.NaN, i\n",
    "        \n",
    "def test_func(x):\n",
    "    f = np.exp(x) - np.cos(x) - 1\n",
    "    dfdx = np.exp(x) + np.sin(x)\n",
    "    return f, dfdx\n",
    "\n",
    "x0 = -2\n",
    "root, _, _ = newton(test_func, x0, verbose=1)\n",
    "x = np.linspace(min(x0,root)-1, max(x0,root+1))\n",
    "plt.plot(x, test_func(x)[0])\n",
    "plt.plot([x0,root], test_func([x0,root])[0], 'ok');"
   ]
  },
  {
   "cell_type": "markdown",
   "metadata": {},
   "source": [
    "* We say this method converges **quadratically** since the number of correct digits doubles each iteration.\n",
    "* The initial guess matters; a bad initial guess can take us to the wrong solution or cause divergence."
   ]
  },
  {
   "cell_type": "markdown",
   "metadata": {},
   "source": [
    "### Systems of equations\n",
    "\n",
    "We've been solving linear systems, such as those resulting from discretizing linear PDE.  To address nonlinear problems (be they from PDE or otherwise), we'll express our problem as\n",
    "$$ F(u) = 0 $$\n",
    "where $u$ is a vector of state variables and $F(u)$ is a vector of residuals of the same length.\n",
    "Note that linear problems can be written in this form, $F(u) = A u - b$.\n",
    "We will primarily be interested in defect correction methods of the form\n",
    "\\begin{gather} A \\delta u = - F(u) \\\\\n",
    "u \\gets u + \\gamma \\delta u\n",
    "\\end{gather}\n",
    "where $A$ is a matrix and $\\gamma$ is a scalar parameter that may need to be found using an iteration.\n",
    "\n",
    "* If $A = I$, this is a Richardson iteration, which is related to gradient descent.  Such methods are usually quite slow unless $F(u)$ is especially \"nice\".\n",
    "* If $A = \\partial F/\\partial u$, this is a Newton method and $\\gamma=1$ can often be used.\n",
    "\n",
    "\n",
    "## Newton-Raphson methods for systems\n",
    "\n",
    "The **Jacobian** of $F$ is\n",
    "$$ J(u) = \\frac{\\partial F}{\\partial u}(u) =\n",
    "\\begin{bmatrix} \\frac{\\partial F_0}{\\partial u_0} & \\frac{\\partial F_0}{\\partial u_1} & \\dotsb \\\\\n",
    " \\frac{\\partial F_1}{\\partial u_0} & \\frac{\\partial F_1}{\\partial u_1} &  \\\\\n",
    " \\vdots & & \\ddots\n",
    " \\end{bmatrix}(u) . $$\n",
    "The method can be derived by taking the Taylor expansion of $F(u)$ at $u$,\n",
    "$$ F(u + \\delta u) = F(u) + \\frac{\\partial F}{\\partial u}(u) (\\delta u) + \\frac{\\partial^2 F}{\\partial u^2}(u) (\\delta u \\otimes \\delta u) / 2 + \\dotsb $$\n",
    "Note that each higher term is a higher rank tensor, thus computationally unweildy.  If we truncate the series with the linear term and set equal to zero, we have a linear equation for $\\delta u$\n",
    "$$ \\frac{\\partial F}{\\partial u}(u) \\delta u = - F(u) $$\n",
    "which will hopefully make $F(u + \\partial u) \\approx 0$.  This is Newton's method.\n",
    "\n",
    "* Each iteration requires evaluating $F(u)$ -- almost any method will have this property.\n",
    "* Each iteration requires evaluating the Jacobian matrix $J(u)$ -- this either requires custom code, algorithmic differentiation, or a finite difference approximation (we'll revisit this later).\n",
    "* Each iteration requires solving a linear system with the matrix $J(u)$.  This may be expensive."
   ]
  },
  {
   "cell_type": "code",
   "execution_count": 2,
   "metadata": {},
   "outputs": [
    {
     "name": "stdout",
     "output_type": "stream",
     "text": [
      "Newton 1 anorm 2.51e+00 rnorm 3.96e-01 eratio   1.56\n",
      "Newton 2 anorm 9.91e+00 rnorm 1.57e+00 eratio   0.56\n",
      "Newton 3 anorm 3.83e-01 rnorm 6.05e-02 eratio   0.22\n",
      "Newton 4 anorm 5.11e-01 rnorm 8.08e-02 eratio   0.25\n",
      "Newton 5 anorm 5.24e-04 rnorm 8.28e-05 eratio   0.36\n",
      "Newton 6 anorm 9.76e-07 rnorm 1.54e-07 eratio   0.21\n",
      "Newton 7 anorm 3.61e-15 rnorm 5.72e-16 eratio   0.31\n"
     ]
    },
    {
     "data": {
      "text/plain": [
       "(array([1., 1.]), 6)"
      ]
     },
     "execution_count": 2,
     "metadata": {},
     "output_type": "execute_result"
    }
   ],
   "source": [
    "def fsolve_newton(F, J, u0, rtol=1e-10, maxit=50, verbose=False):\n",
    "    u = u0.copy()\n",
    "    Fu = F(u)\n",
    "    norm0 = np.linalg.norm(Fu)\n",
    "    enorm_last = np.linalg.norm(u - np.array([1,1]))\n",
    "    for i in range(maxit):\n",
    "        du = -np.linalg.solve(J(u), Fu)\n",
    "        u += du\n",
    "        Fu = F(u)\n",
    "        norm = np.linalg.norm(Fu)\n",
    "        if verbose:\n",
    "            enorm = np.linalg.norm(u - np.array([1,1]))\n",
    "            print('Newton {:d} anorm {:6.2e} rnorm {:6.2e} eratio {:6.2f}'.\n",
    "                  format(i+1, norm, norm/norm0, enorm/enorm_last**2))\n",
    "            enorm_last = enorm\n",
    "        if norm < rtol * norm0:\n",
    "            break\n",
    "    return u, i\n",
    "\n",
    "def rostest(a,b):\n",
    "    def F(u):\n",
    "        x = u[0]; y = u[1]\n",
    "        return np.array([-2*(a-x) + 4*b*x**3 - 4*b*x*y,\n",
    "                         2*b*(y-x**2)])\n",
    "    def J(u):\n",
    "        x = u[0]; y = u[1]\n",
    "        return np.array([[2 + 12*b*x**2 - 4*b*y, -4*b*x],\n",
    "                         [-4*b*x, 2*b]])\n",
    "    return F, J\n",
    "\n",
    "F, J = rostest(1,3)\n",
    "fsolve_newton(F, J, np.array([0, 1.]), verbose=True)"
   ]
  },
  {
   "cell_type": "markdown",
   "metadata": {},
   "source": [
    "* Can the iteration break down?  How?\n",
    "* How does the method depend on the initial guess?\n",
    "* It turns out that Newton's method has _locally quadratic_ convergence to simple roots, $$\\lim_{i \\to \\infty} |e_{i+1}|/|e_i^2| < \\infty .$$\n",
    "* \"The number of correct digits doubles each iteration.\"\n",
    "* Now that we know how to make a good guess accurate, the effort lies in getting a good guess.\n",
    "\n",
    "## Matrix-free Jacobian via finite differencing\n",
    "\n",
    "It can be error-prone and complicated to implement the Jacobian function `J(u)`.  In such cases, we can use the approximation\n",
    "\n",
    "$$ J(u) v \\approx \\frac{F(u+\\epsilon v) - F(u)}{\\epsilon} $$\n",
    "\n",
    "where $\\epsilon$ is some \"small\" number.  Now can't access individual entries of $J$, but we can apply its action to an arbitrary vector $u$.\n",
    "\n",
    "We know that this approximation is first order accurate in $\\epsilon$, \n",
    "$$ \\left\\lVert J(u) v - \\frac{F(u+\\epsilon v) - F(u)}{\\epsilon} \\right\\rVert \\in O(\\epsilon) . $$\n",
    "But if $\\epsilon$ is too small, we will lose accuracy due to rounding error.  If $F$ has been scaled such that its norm is of order 1, then $\\epsilon = \\sqrt{\\epsilon_{\\text{machine}}}$ is a good default choice."
   ]
  },
  {
   "cell_type": "code",
   "execution_count": 3,
   "metadata": {},
   "outputs": [
    {
     "name": "stdout",
     "output_type": "stream",
     "text": [
      "Newton 0 anorm 2.51e+00 rnorm 3.96e-01\n",
      "Newton 1 anorm 9.91e+00 rnorm 1.57e+00\n",
      "Newton 2 anorm 3.83e-01 rnorm 6.05e-02\n",
      "Newton 3 anorm 5.11e-01 rnorm 8.08e-02\n",
      "Newton 4 anorm 5.24e-04 rnorm 8.28e-05\n",
      "Newton 5 anorm 9.76e-07 rnorm 1.54e-07\n"
     ]
    },
    {
     "data": {
      "text/plain": [
       "(array([1.        , 0.99999992]), 5)"
      ]
     },
     "execution_count": 3,
     "metadata": {},
     "output_type": "execute_result"
    }
   ],
   "source": [
    "import scipy.sparse.linalg as splinalg\n",
    "\n",
    "def fsolve_newtonkrylov(F, u0, epsilon=1e-8, rtol=1e-10, maxit=50, verbose=False):\n",
    "    u = u0.copy()\n",
    "    Fu = F(u)\n",
    "    norm0 = np.linalg.norm(Fu)\n",
    "    for i in range(maxit):\n",
    "        def Ju_fd(v):\n",
    "            return (F(u + epsilon*v) - Fu) / epsilon\n",
    "        Ju = splinalg.LinearOperator((len(Fu),len(u)), matvec=Ju_fd)\n",
    "        du, info = splinalg.gmres(Ju, Fu, atol=1.e-6)\n",
    "        if info != 0:\n",
    "            print(np.linalg.norm(Ju @ du - Fu), norm)\n",
    "            raise RuntimeError('GMRES failed to converge: {:d}'.format(info))\n",
    "        u -= du\n",
    "        Fu = F(u)\n",
    "        norm = np.linalg.norm(Fu)\n",
    "        if verbose:\n",
    "            print('Newton {:d} anorm {:6.2e} rnorm {:6.2e}'\n",
    "                  .format(i, norm, norm/norm0))\n",
    "        if norm < rtol * norm0:\n",
    "            break\n",
    "    return u, i\n",
    "\n",
    "fsolve_newtonkrylov(F, np.array([0.,1]), rtol=1e-6, verbose=True)"
   ]
  },
  {
   "cell_type": "markdown",
   "metadata": {},
   "source": [
    "### Jacobian-Free Newton Krylov (JFNK) and Preconditioning\n",
    "\n",
    "While matrix-free finite differencing can save us the need to assemble the Jacobian (and write code to do that), there is no free lunch: Krylov convergence will be slow unless we have a good preconditioner.  But sometimes there are short-cuts: we can assemble a cheaper approximation for preconditioning, or develop multigrid methods that don't involve any assembled matrices.\n",
    "\n",
    "#### Further reading\n",
    "\n",
    "* Knoll and Keyes (2004) [**Jacobian-free Newton–Krylov methods: a survey of approaches and applications**](https://www.cs.odu.edu/~keyes/papers/jfnk.pdf)\n",
    "\n",
    "## Case study: Newton-Krylov Multigrid methods for hydrostatic ice flow\n",
    "\n",
    "This is a strongly nonlinear problem for which convergence of a high-resolution model stagnates if the initial guess isn't good.  It is, however, amenable to a method called grid sequencing where we solve coarse problems to generate initial guesses on the fine grid. At each grid level, we solve nonlinear problems using Newton-Krylov methods preconditioned by multigrid."
   ]
  },
  {
   "cell_type": "markdown",
   "metadata": {},
   "source": [
    "![](tme-ice-nk.png)"
   ]
  },
  {
   "cell_type": "markdown",
   "metadata": {},
   "source": [
    "![](tme-ice-its.png)"
   ]
  },
  {
   "cell_type": "markdown",
   "metadata": {},
   "source": [
    "![](tme-ice-breakdown.png)"
   ]
  },
  {
   "cell_type": "markdown",
   "metadata": {},
   "source": [
    "## Further reading\n",
    "\n",
    "* Brown, Smith, and Ahmadia (2013) [**Textbook multigrid efficiency for hydrostatic ice flow**](https://doi.org/10.1137/110834512)\n",
    "  * Configuring an efficient nonlinear solver (see `snes/examples/tutorials/ex48.c` in PETSc repository)"
   ]
  },
  {
   "cell_type": "markdown",
   "metadata": {},
   "source": [
    "### Costs\n",
    "\n",
    "* Residual evaluation $F(u)$\n",
    "* Jacobian assembly $J(u) = F'(u)$\n",
    "* Preconditioner setup $M^{-1}$\n",
    "* Jacobian application $J(u) v$\n",
    "* Preconditioner application $M^{-1} v$\n",
    "* Krylov vector work: inner products and vector axpy\n",
    "\n",
    "#### Shifting costs\n",
    "* Approximate Jacobian\n",
    "* Less expensive preconditioner `-pc_type jacobi`\n",
    "* Lag the preconditioner `-snes_lag_preconditioner`\n",
    "* Lag the Jacobian `-snes_lag_jacobian`\n",
    "* Matrix-free finite differencing to skip assembly of Jacobian `-snes_mf` or `-snes_mf_operator`\n",
    "\n",
    "A good PETSc example to test with: `src/snes/examples/tutorials/ex15.c`"
   ]
  },
  {
   "cell_type": "markdown",
   "metadata": {},
   "source": [
    "## Transient problems\n",
    "\n",
    "When solving time-dependent problems such as\n",
    "\n",
    "$$ \\frac{\\partial_u(x,t)}{\\partial t} = f\\big(u(x,t), t\\big) $$\n",
    "\n",
    "we have a choice between explicit methods and implicit methods.  Explicit methods only require that we evaluate $f(u,t)$ on each time step while implicit methods require solves (linear or nonlinear).  However, for problems with multiple time scales, explicit method may be unstable unless using time steps that are much shorter than would be needed for accuracy, thus implicit methods are often preferred.  This adds another layer of complementary costs."
   ]
  }
 ],
 "metadata": {
  "kernelspec": {
   "display_name": "Python 3",
   "language": "python",
   "name": "python3"
  },
  "language_info": {
   "codemirror_mode": {
    "name": "ipython",
    "version": 3
   },
   "file_extension": ".py",
   "mimetype": "text/x-python",
   "name": "python",
   "nbconvert_exporter": "python",
   "pygments_lexer": "ipython3",
   "version": "3.7.4"
  }
 },
 "nbformat": 4,
 "nbformat_minor": 4
}
