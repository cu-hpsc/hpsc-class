{
 "cells": [
  {
   "cell_type": "markdown",
   "metadata": {},
   "source": [
    "## Coprocessor architectures\n",
    "\n",
    "![](https://en.wikichip.org/w/images/0/06/summit_single-node.svg)\n",
    "\n",
    "* CUDA devices (NVIDIA)\n",
    "  * Programmable via **CUDA**, OpenACC, OpenMP-5, OpenCL, HIP->CUDA, SYCL->CUDA\n",
    "  * Example machine: [OLCF Summit](https://en.wikichip.org/wiki/supercomputers/summit) (details from [user guide](https://www.olcf.ornl.gov/for-users/system-user-guides/summit/summit-user-guide/))\n",
    "* ROCm devices (AMD)\n",
    "  * Programmable via **HIP**, OpenMP-5, OpenCL, SYCL->HIP\n",
    "  * Example machine: [OLCF Frontier](https://www.olcf.ornl.gov/wp-content/uploads/2019/05/frontier_specsheet_v4.pdf)\n",
    "* Intel X GPUs\n",
    "  * Programmable via **SYCL**, OpenMP-5, OpenCL?\n",
    "  * Example machine: [ALCF Aurora/A21](https://aurora.alcf.anl.gov/)\n",
    "* Upcoming non-coprocessor Supercomputers\n",
    "  * [RIKEN Fugaku (Post-K)](https://www.hpcwire.com/2019/05/23/riken-post-k-supercomputer-named-after-japans-tallest-peak/)\n",
    "  * [TACC Frontera](https://www.tacc.utexas.edu/systems/frontera)"
   ]
  },
  {
   "cell_type": "markdown",
   "metadata": {},
   "source": [
    "## Fundamental capabilities"
   ]
  },
  {
   "cell_type": "code",
   "execution_count": 40,
   "metadata": {},
   "outputs": [
    {
     "data": {
      "text/html": [
       "<div>\n",
       "<style scoped>\n",
       "    .dataframe tbody tr th:only-of-type {\n",
       "        vertical-align: middle;\n",
       "    }\n",
       "\n",
       "    .dataframe tbody tr th {\n",
       "        vertical-align: top;\n",
       "    }\n",
       "\n",
       "    .dataframe thead th {\n",
       "        text-align: right;\n",
       "    }\n",
       "</style>\n",
       "<table border=\"1\" class=\"dataframe\">\n",
       "  <thead>\n",
       "    <tr style=\"text-align: right;\">\n",
       "      <th></th>\n",
       "      <th>cores</th>\n",
       "      <th>lanes/core</th>\n",
       "      <th>clock (MHz)</th>\n",
       "      <th>peak (GF)</th>\n",
       "      <th>bandwidth (GB/s)</th>\n",
       "      <th>TDP (W)</th>\n",
       "      <th>MSRP</th>\n",
       "    </tr>\n",
       "    <tr>\n",
       "      <th>package</th>\n",
       "      <th></th>\n",
       "      <th></th>\n",
       "      <th></th>\n",
       "      <th></th>\n",
       "      <th></th>\n",
       "      <th></th>\n",
       "      <th></th>\n",
       "    </tr>\n",
       "  </thead>\n",
       "  <tbody>\n",
       "    <tr>\n",
       "      <th>Xeon 8280</th>\n",
       "      <td>28</td>\n",
       "      <td>8</td>\n",
       "      <td>2700</td>\n",
       "      <td>2400</td>\n",
       "      <td>141</td>\n",
       "      <td>205</td>\n",
       "      <td>10000.0</td>\n",
       "    </tr>\n",
       "    <tr>\n",
       "      <th>NVIDIA V100</th>\n",
       "      <td>80</td>\n",
       "      <td>64</td>\n",
       "      <td>1455</td>\n",
       "      <td>7800</td>\n",
       "      <td>900</td>\n",
       "      <td>300</td>\n",
       "      <td>10664.0</td>\n",
       "    </tr>\n",
       "    <tr>\n",
       "      <th>AMD MI60</th>\n",
       "      <td>64</td>\n",
       "      <td>64</td>\n",
       "      <td>1800</td>\n",
       "      <td>7362</td>\n",
       "      <td>1024</td>\n",
       "      <td>300</td>\n",
       "      <td>NaN</td>\n",
       "    </tr>\n",
       "    <tr>\n",
       "      <th>AMD Rome</th>\n",
       "      <td>64</td>\n",
       "      <td>4</td>\n",
       "      <td>2000</td>\n",
       "      <td>2048</td>\n",
       "      <td>205</td>\n",
       "      <td>200</td>\n",
       "      <td>6450.0</td>\n",
       "    </tr>\n",
       "  </tbody>\n",
       "</table>\n",
       "</div>"
      ],
      "text/plain": [
       "             cores  lanes/core  clock (MHz)  peak (GF)  bandwidth (GB/s)  \\\n",
       "package                                                                    \n",
       "Xeon 8280       28           8         2700       2400               141   \n",
       "NVIDIA V100     80          64         1455       7800               900   \n",
       "AMD MI60        64          64         1800       7362              1024   \n",
       "AMD Rome        64           4         2000       2048               205   \n",
       "\n",
       "             TDP (W)     MSRP  \n",
       "package                        \n",
       "Xeon 8280        205  10000.0  \n",
       "NVIDIA V100      300  10664.0  \n",
       "AMD MI60         300      NaN  \n",
       "AMD Rome         200   6450.0  "
      ]
     },
     "execution_count": 40,
     "metadata": {},
     "output_type": "execute_result"
    }
   ],
   "source": [
    "from io import StringIO\n",
    "import pandas\n",
    "import numpy as np\n",
    "import matplotlib.pyplot as plt\n",
    "plt.style.use('ggplot')\n",
    "\n",
    "data = StringIO(\"\"\"\n",
    "package,cores,lanes/core,clock (MHz),peak (GF),bandwidth (GB/s),TDP (W),MSRP\n",
    "Xeon 8280,28,8,2700,2400,141,205,10000\n",
    "NVIDIA V100,80,64,1455,7800,900,300,10664\n",
    "AMD MI60,64,64,1800,7362,1024,300,\n",
    "AMD Rome,64,4,2000,2048,205,200,6450\n",
    "\"\"\")\n",
    "\n",
    "df = pandas.read_csv(data, index_col='package')\n",
    "df"
   ]
  },
  {
   "cell_type": "markdown",
   "metadata": {},
   "source": [
    "### [Amdahl's Law](https://en.wikipedia.org/wiki/Amdahl%27s_law) for energy efficiency"
   ]
  },
  {
   "cell_type": "code",
   "execution_count": 22,
   "metadata": {},
   "outputs": [
    {
     "data": {
      "text/plain": [
       "package\n",
       "Xeon 8280      11.707317\n",
       "NVIDIA V100    26.000000\n",
       "AMD MI60       24.540000\n",
       "AMD Rome       10.240000\n",
       "Name: efficiency (GF/W), dtype: float64"
      ]
     },
     "execution_count": 22,
     "metadata": {},
     "output_type": "execute_result"
    }
   ],
   "source": [
    "df['efficiency (GF/W)'] = df['peak (GF)'] / df['TDP (W)']\n",
    "df['efficiency (GF/W)']"
   ]
  },
  {
   "cell_type": "code",
   "execution_count": 53,
   "metadata": {},
   "outputs": [
    {
     "data": {
      "image/png": "[encoded data removed]",
      "text/plain": [
       "<Figure size 432x288 with 1 Axes>"
      ]
     },
     "metadata": {},
     "output_type": "display_data"
    }
   ],
   "source": [
    "ngpu = np.arange(0, 9)\n",
    "overhead = 100 # Power supply, DRAM, disk, etc.\n",
    "peak = (ngpu == 0)*df.loc['Xeon 8280']['peak (GF)'] + ngpu*df.loc['NVIDIA V100']['peak (GF)']\n",
    "tdp = overhead + df.loc['Xeon 8280']['TDP (W)'] + ngpu*df.loc['NVIDIA V100']['TDP (W)']\n",
    "plt.plot(ngpu, peak / tdp)\n",
    "plt.xlabel('number of GPUs per CPU')\n",
    "plt.title('DP Peak efficiency (GF/W)');"
   ]
  },
  {
   "cell_type": "markdown",
   "metadata": {},
   "source": [
    "#### Compare to [Green 500 list](https://www.top500.org/green500/lists/2019/06/)\n",
    "* [#1 system](https://www.top500.org/system/179166) is **15.1 GF/W** (2x Xeon E5-2698v4, 8x V100)\n",
    "* [#2 system](https://www.top500.org/system/179397) (Summit) is **14.7 GF/W** (2x Power9, 6x V100)\n",
    "* [#27 system](https://www.top500.org/system/179683) is **5.8 GF/W** on Xeon 6248 (no GPU)\n",
    "\n",
    "### Amdahl for cost efficiency"
   ]
  },
  {
   "cell_type": "code",
   "execution_count": 43,
   "metadata": {},
   "outputs": [
    {
     "data": {
      "text/plain": [
       "package\n",
       "Xeon 8280      0.240000\n",
       "NVIDIA V100    0.731433\n",
       "AMD MI60            NaN\n",
       "AMD Rome       0.317519\n",
       "Name: cost (GF/$), dtype: float64"
      ]
     },
     "execution_count": 43,
     "metadata": {},
     "output_type": "execute_result"
    }
   ],
   "source": [
    "df['cost (GF/$)'] = df['peak (GF)'] / df['MSRP']\n",
    "df['cost (GF/$)']"
   ]
  },
  {
   "cell_type": "code",
   "execution_count": 54,
   "metadata": {},
   "outputs": [
    {
     "data": {
      "image/png": "[encoded data removed]",
      "text/plain": [
       "<Figure size 432x288 with 1 Axes>"
      ]
     },
     "metadata": {},
     "output_type": "display_data"
    }
   ],
   "source": [
    "overhead = 3000 + 2000*ngpu # power supply, memory, cooling, maintenance\n",
    "cost = overhead + df.loc['Xeon 8280']['MSRP'] + ngpu*df.loc['NVIDIA V100']['MSRP']\n",
    "plt.plot(ngpu, peak / cost)\n",
    "plt.xlabel('number of GPUs per CPU')\n",
    "plt.title('DP cost efficiency (GF/$)');"
   ]
  },
  {
   "cell_type": "markdown",
   "metadata": {},
   "source": [
    "### What fraction of datacenter cost goes to the power bill?\n",
    "\n",
    "* OLCF Summit is reportedly a \\$200M machine.\n",
    "* What if we just buy the GPUs at retail?\n",
    "  * 256 racks\n",
    "  * 18 nodes per rack\n",
    "  * 6 GPUs per node\n",
    "  * V100 MSRP of about $10k"
   ]
  },
  {
   "cell_type": "code",
   "execution_count": 49,
   "metadata": {},
   "outputs": [
    {
     "data": {
      "text/plain": [
       "276.48"
      ]
     },
     "execution_count": 49,
     "metadata": {},
     "output_type": "execute_result"
    }
   ],
   "source": [
    "256 * 18 * 6 * 10e3 / 1e6 # millions"
   ]
  },
  {
   "cell_type": "markdown",
   "metadata": {},
   "source": [
    "* Rule of thumb: $ \\lesssim \\$1M $ per MW-year\n",
    "* We know Summit is a 13 MW facility\n",
    "* Check [industrial electricity rates](https://www.electricitylocal.com/states/tennessee/knoxville/)\n",
    "![](knoxville-electricity.png)"
   ]
  },
  {
   "cell_type": "code",
   "execution_count": 50,
   "metadata": {},
   "outputs": [
    {
     "data": {
      "text/plain": [
       "558.8879999999999"
      ]
     },
     "execution_count": 50,
     "metadata": {},
     "output_type": "execute_result"
    }
   ],
   "source": [
    ".0638 * 24 * 365"
   ]
  },
  {
   "cell_type": "markdown",
   "metadata": {},
   "source": [
    "![](olcf-4-foia.png)"
   ]
  },
  {
   "cell_type": "markdown",
   "metadata": {},
   "source": [
    "## Programming models\n",
    "\n",
    "* Directives\n",
    "  * [OpenMP-5](https://www.openmp.org/resources/refguides/)\n",
    "  * [OpenACC](https://www.openacc.org/)\n",
    "\n",
    "```c\n",
    "#pragma acc data copy(A) create(Anew)\n",
    "while ( error > tol  &&  iter  <  iter_max )  {\n",
    "  error = 0.0;\n",
    "#pragma acc kernels {\n",
    "#pragma acc loop independent collapse(2)\n",
    "  for (  int  j = 1; j < n-1;  j++ )  {\n",
    "    for (  int  i = 1; i < m-1; i++ )  {\n",
    "       Anew [j] [i] = 0.25 * ( A [j] [i+1] + A [j] [i-1] +\n",
    "                                      A [j-1] [i] + A [j+1] [i]);\n",
    "       error = max ( error, fabs (Anew [j] [i] - A [j] [i]));\n",
    "      }\n",
    "    }\n",
    "  } \n",
    "}\n",
    "```\n",
    "Comparison slides: [Is OpenMP 4.5 Target Off-load Ready for Real Life? A Case Study of Three Benchmark Kernels (2018)](https://openmpcon.org/wp-content/uploads/2018_Session1_Diaz.pdf)\n",
    "  \n",
    "* Thread \"kernel\" and control\n",
    "  * [CUDA](https://devblogs.nvidia.com/even-easier-introduction-cuda/)\n",
    "  * [HIP](https://rocm-documentation.readthedocs.io/en/latest/Programming_Guides/HIP-GUIDE.html) ([video](https://vimeo.com/channels/olcftraining/359154970))\n",
    "* C++ templated\n",
    "  * [SYCL](https://www.khronos.org/sycl/)\n",
    "  * [Kokkos](https://github.com/kokkos/kokkos)\n",
    "  * [Raja](https://raja.readthedocs.io/en/master/)"
   ]
  }
 ],
 "metadata": {
  "kernelspec": {
   "display_name": "Python 3",
   "language": "python",
   "name": "python3"
  },
  "language_info": {
   "codemirror_mode": {
    "name": "ipython",
    "version": 3
   },
   "file_extension": ".py",
   "mimetype": "text/x-python",
   "name": "python",
   "nbconvert_exporter": "python",
   "pygments_lexer": "ipython3",
   "version": "3.7.4"
  }
 },
 "nbformat": 4,
 "nbformat_minor": 4
}
