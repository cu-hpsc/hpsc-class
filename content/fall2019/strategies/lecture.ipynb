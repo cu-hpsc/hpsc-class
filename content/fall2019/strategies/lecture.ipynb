{
 "cells": [
  {
   "cell_type": "markdown",
   "metadata": {},
   "source": [
    "## Reductions\n",
    "\n",
    "```c\n",
    "double reduce(int n, double x[]) {\n",
    "    double y = 0;\n",
    "    for (int i=0; i<n; i++)\n",
    "        y += x[i];\n",
    "    return y;\n",
    "}\n",
    "```\n",
    "\n",
    "![](abtin-reduction-iterative.png)\n",
    "\n",
    "#### DAG properties\n",
    "* Work $W(n) = n$\n",
    "* Depth $D(n) = n$\n",
    "* Parallelism $P(n) = \\frac{W(n)}{D(n)} = 1$"
   ]
  },
  {
   "cell_type": "markdown",
   "metadata": {},
   "source": [
    "### A 2-level method\n",
    "\n",
    "```c\n",
    "double reduce(int n, double x[]) {\n",
    "    int P = sqrt(n); // ways of parallelism\n",
    "    double y[P];\n",
    "    #pragma omp parallel for shared(y)\n",
    "    for (int p=0; p<P; p++) {\n",
    "        y[p] = 0;\n",
    "        for (int i=0; i<n/P; i++)\n",
    "            y[p] += x[p*(n/P) + i];\n",
    "    }\n",
    "    double sum = 0;\n",
    "    for (int p=0; p<P; p++)\n",
    "        sum += y[p];\n",
    "    return sum;\n",
    "}\n",
    "```\n",
    "\n",
    "#### DAG properties\n",
    "* Work $W(n) = n + \\sqrt{n}$\n",
    "* Depth $D(n) = 2 \\sqrt{n}$\n",
    "* Parallelism $P(n) = \\sqrt{n}$\n",
    "\n",
    "### PRAM performance model\n",
    "* Processing units (e.g., OpenMP threads) execute local programs\n",
    "* Communication through shared memory with no access cost\n",
    "* Synchronous operation on a common clock\n",
    "  * Barrier-like constructs are free\n",
    "* Multiple Instruction, Multiple Data (MIMD)\n",
    "\n",
    "#### Scheduling\n",
    "\n",
    "How much time does it take to execute a DAG on $p$ processors?\n",
    "\n",
    "* Sum work of each node $i$ along critical path of length $D(n)$\n",
    "$$ \\sum_{i=1}^{D(n)} W_i $$\n",
    "\n",
    "* Partition total work $W(n)$ over $p \\le P(n)$ processors (as though there were no data dependencies)\n",
    "$$ \\left\\lceil \\frac{W(n)}{p} \\right\\rceil $$\n",
    "\n",
    "* Total time must be at least as large as either of these\n",
    "$$ T(n,p) \\ge \\max\\left( D(n), \\left\\lceil \\frac{W(n)}{p} \\right\\rceil \\right) $$"
   ]
  },
  {
   "cell_type": "markdown",
   "metadata": {},
   "source": [
    "### More levels?\n",
    "```c\n",
    "double reduce(int n, double x[]) {\n",
    "    if (n == 1) return x[0];\n",
    "    double y[n/2];\n",
    "    #pragma omp parallel for shared(y)\n",
    "    for (int i=0; i<n/2; i++)\n",
    "        y[i] = x[2*i] + x[2*i+1];\n",
    "    return reduce(n/2, y);\n",
    "}\n",
    "```\n",
    "\n",
    "![](abtin-reduction-recursive.png)\n",
    "\n",
    "#### DAG properties\n",
    "* $W(n) = n/2 + n/4 + n/8 + \\dotsb = n$\n",
    "* $D(n) = \\log_2 n$\n",
    "* $P(n) = n/2$"
   ]
  },
  {
   "cell_type": "markdown",
   "metadata": {},
   "source": [
    "## Parallel scans\n",
    "\n",
    "```c\n",
    "void scan(int n, double x[], double y[]) {\n",
    "    y[0] = x[0];\n",
    "    for (int i=1; i<n; i++)\n",
    "        y[i] = y[i-1] + x[i];\n",
    "}\n",
    "```\n",
    "\n",
    "* What are the DAG properties of this algorithm?\n",
    "* How fast can we make it?\n",
    "\n",
    "![](abtin-scan-recursive.png)"
   ]
  },
  {
   "cell_type": "markdown",
   "metadata": {},
   "source": [
    "```c\n",
    "void scan_inplace(int n, double y[], int stride) {\n",
    "    if (2*stride > n) return;\n",
    "    #pragma omp parallel for\n",
    "    for (int i=2*stride-1; i<n; i+=2*stride)\n",
    "        y[i] += [i - stride];\n",
    "\n",
    "    scan(n, y, 2*stride);\n",
    "\n",
    "    #pragma omp parallel for\n",
    "    for (int i=3*stride-1; i<n; i+=2*stride)\n",
    "        y[i] += y[i - stride];\n",
    "}\n",
    "\n",
    "// call like\n",
    "scan_inplace(n, x, 1);\n",
    "```"
   ]
  },
  {
   "cell_type": "markdown",
   "metadata": {},
   "source": [
    "### Application of scans: parallel select\n",
    "\n",
    "Select elements of array `x[]` that satisfy a condition.\n",
    "\n",
    "```c\n",
    "int c[n];\n",
    "#pragma omp parallel for\n",
    "for (int i=0; i<n; i++)\n",
    "    c[i] = cond(x[i]); // returns 1 or 0\n",
    "\n",
    "scan_inplace(n, c, 1);\n",
    "\n",
    "double results[c[n-1]]; // allocate array with total number of items\n",
    "#pragma omp parallel for\n",
    "for (int i=0; i<n; i++)\n",
    "    if (cond(x[i])) // Can use `c[i] - c[i-1]` to avoid recomputing\n",
    "        results[c[i]-1] = x[i];\n",
    "```"
   ]
  },
  {
   "cell_type": "markdown",
   "metadata": {},
   "source": [
    "---\n",
    "Figures courtesy Abtin Rahimian's course notes."
   ]
  }
 ],
 "metadata": {
  "kernelspec": {
   "display_name": "Python 3",
   "language": "python",
   "name": "python3"
  },
  "language_info": {
   "codemirror_mode": {
    "name": "ipython",
    "version": 3
   },
   "file_extension": ".py",
   "mimetype": "text/x-python",
   "name": "python",
   "nbconvert_exporter": "python",
   "pygments_lexer": "ipython3",
   "version": "3.7.4"
  }
 },
 "nbformat": 4,
 "nbformat_minor": 4
}
