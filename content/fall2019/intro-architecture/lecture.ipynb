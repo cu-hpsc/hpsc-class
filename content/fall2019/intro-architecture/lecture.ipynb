{
 "cells": [
  {
   "cell_type": "markdown",
   "metadata": {},
   "source": [
    "# Cores, caches, and memory\n",
    "\n",
    "### A [von Neumann Architecture](https://en.wikipedia.org/wiki/Von_Neumann_architecture)\n",
    "\n",
    "![von Neumann architecture](https://upload.wikimedia.org/wikipedia/commons/thumb/e/e5/Von_Neumann_Architecture.svg/2880px-Von_Neumann_Architecture.svg.png)\n",
    "\n",
    "### A contemporary architecture\n",
    "\n",
    "![Core 2](http://static.duartes.org/img/blogPosts/physicalMemoryAccess.png)"
   ]
  },
  {
   "cell_type": "markdown",
   "metadata": {},
   "source": [
    "### My laptop\n",
    "We can get this kind of information for our machine using [hwloc](https://www.open-mpi.org/projects/hwloc/), which provides a library as well as the command-line tool `lstopo`."
   ]
  },
  {
   "cell_type": "code",
   "execution_count": 3,
   "metadata": {},
   "outputs": [],
   "source": [
    "!lstopo --output-format svg > lstopo-local.svg"
   ]
  },
  {
   "cell_type": "markdown",
   "metadata": {},
   "source": [
    "![lstopo](lstopo-local.svg)\n",
    "\n",
    "### A double-socket compute node with two GPUs\n",
    "2x Xeon Ivy-Bridge-EP [E5-2680v2](https://ark.intel.com/content/www/us/en/ark/products/75277/intel-xeon-processor-e5-2680-v2-25m-cache-2-80-ghz.html) + 2x NVIDIA GPUs (from 2013, with hwloc v1.11).\n",
    "GPUs are reported as CUDA devices and X11 display :1.0: (from the [hwloc gallery](https://www-lb.open-mpi.org/projects/hwloc/lstopo/))\n",
    "![](https://www-lb.open-mpi.org/projects/hwloc/lstopo/images/2XeonE5v2+2cuda+1display_v1.11.png)"
   ]
  },
  {
   "cell_type": "markdown",
   "metadata": {},
   "source": [
    "### Block diagrams\n",
    "\n",
    "A block diagram from a vendor can include additional information about how cores are physically connected.\n",
    "\n",
    "#### Ring bus (Xeon E5-2600 family)\n",
    "![Intel Xeon E5-2600](https://software.intel.com/sites/default/files/managed/e3/a4/xeon-processor-scalable-family-tech-overview-fig04.png)\n",
    "\n",
    "#### Mesh bus (Xeon Scalable family)\n",
    "![Intel Xeon Scalable](https://software.intel.com/sites/default/files/managed/5a/03/xeon-processor-scalable-family-tech-overview-fig05.png)\n",
    "\n",
    "#### Multi-socket configurations\n",
    "\n",
    "![4-socket ring](https://software.intel.com/sites/default/files/managed/77/f2/xeon-processor-scalable-family-tech-overview-fig07.png)\n",
    "\n",
    "https://software.intel.com/en-us/articles/intel-xeon-processor-scalable-family-technical-overview"
   ]
  },
  {
   "cell_type": "markdown",
   "metadata": {},
   "source": [
    "### Multiple nodes go into **racks** or **cabinets**\n",
    "\n",
    "![Blue Gene/P Racks](BlueGenePRacks.png)\n",
    "\n",
    "![OLCF Summit](https://www.olcf.ornl.gov/wp-content/uploads/2018/06/summit-1.jpg)"
   ]
  },
  {
   "cell_type": "markdown",
   "metadata": {},
   "source": [
    "### Terminology\n",
    "\n",
    "* **Core** (virtual and physical): has a single program counter (logically sequential processing of instructions)\n",
    "* **Memory channel**: e.g., DDR4-2400: transfers 64 bits (8 bytes) at a rate of 2400 MHz = 15.36 GB/s\n",
    "* **Socket** or **CPU**: contains multiple cores in a single piece* of silicon\n",
    "* **Non-Uniform Memory Access (NUMA)**: different channels may be different distances from a core\n",
    "* **Compute node**: one or more sockets, plus memory, network card, etc."
   ]
  },
  {
   "cell_type": "markdown",
   "metadata": {},
   "source": [
    "### How expensive is it to access memory?\n",
    "\n",
    "What does that mean?  How would we measure?\n",
    "\n",
    "[McKenney (2013): Laws of Physics](http://www.rdrop.com/~paulmck/RCU/RCU.2013.01.22d.PLMW.pdf)\n",
    "\n",
    "[Interactive](https://people.eecs.berkeley.edu/~rcs/research/interactive_latency.html)\n",
    "\n",
    "[Variation by vendor](https://www.anandtech.com/show/14694/amd-rome-epyc-2nd-gen/7)"
   ]
  },
  {
   "cell_type": "markdown",
   "metadata": {},
   "source": [
    "# How your program accesses memory\n",
    "\n",
    "```c\n",
    "double a[1000];\n",
    "\n",
    "void foo() {\n",
    "    for (int i=0; i<1000; i++)\n",
    "        a[i] = 1.234 * i;\n",
    "}\n",
    "```\n",
    "\n",
    "The compiler turns the loop body into instructions, which we can examine using [Godbolt](https://gcc.godbolt.org/z/gbhuZR).\n",
    "\n",
    "```\n",
    "pxor xmm0, xmm0                  ; zero the xmm0 register\n",
    "cvtsi2sd xmm0, eax               ; convert the integer i to double\n",
    "mulsd xmm0, xmm1                 ; multiply by 1.234 (held in xmm1)\n",
    "movsd QWORD PTR a[0+rax*8], xmm0 ; store to memory address a[i]\n",
    "```\n",
    "\n",
    "Only one instruction here accesses memory, and the performance will be affected greatly by where that memory resides (which level of cache, where in DRAM).\n",
    "\n",
    "Most architectures today have **64-byte cache lines**: all transfers from main memory (DRAM) to and from cache operate in units of 64 bytes.\n",
    "\n",
    "![](http://static.duartes.org/img/blogPosts/L1CacheExample.png)\n",
    "\n",
    "### Let's compare three code samples\n",
    "\n",
    "```c\n",
    "for (int i=0; i<N; i++)\n",
    "    a[i] = b[i];\n",
    "```\n",
    "\n",
    "```c\n",
    "for (int i=0; i<N; i++)\n",
    "    a[i] = b[(i*8) % N];\n",
    "```\n",
    "\n",
    "```c\n",
    "for (int i=0; i<N; i++)\n",
    "    a[i] = b[random() % N];\n",
    "```\n",
    "\n",
    "### What happens when you request a cache line?\n",
    "\n",
    "![](http://static.duartes.org/img/blogPosts/memoryRead.png)"
   ]
  },
  {
   "cell_type": "markdown",
   "metadata": {},
   "source": [
    "## Operating system effects\n",
    "\n",
    "Most systems today use virtual addressing, so every address in your program needs to be translated to a physical address before looking for it (in cache or memory).  Fortunately, there is hardware to assist with this: the Translation Lookaside Buffer (TLB).\n",
    "\n",
    "![Virtual memory and the page table](https://drawings.jvns.ca/drawings/pagetable.svg)"
   ]
  },
  {
   "cell_type": "markdown",
   "metadata": {},
   "source": [
    "## Further resources\n",
    "\n",
    "* [Julia Evans (2016): How much memory is my process using?](https://jvns.ca/blog/2016/12/03/how-much-memory-is-my-process-using-/)\n",
    "* [Gustavo Duarte (2009): Cache: a place for concealment and safekeeping](https://manybutfinite.com/post/intel-cpu-caches/)\n",
    "* [Gustavo Duarte (2009): Getting Physical With Memory](https://manybutfinite.com/post/getting-physical-with-memory/)\n",
    "* [Ulrich Drepper (2007): What Every Programmer Should Know About Memory](https://www.akkadia.org/drepper/cpumemory.pdf)"
   ]
  }
 ],
 "metadata": {
  "kernelspec": {
   "display_name": "Python 3",
   "language": "python",
   "name": "python3"
  },
  "language_info": {
   "codemirror_mode": {
    "name": "ipython",
    "version": 3
   },
   "file_extension": ".py",
   "mimetype": "text/x-python",
   "name": "python",
   "nbconvert_exporter": "python",
   "pygments_lexer": "ipython3",
   "version": "3.7.4"
  }
 },
 "nbformat": 4,
 "nbformat_minor": 4
}
